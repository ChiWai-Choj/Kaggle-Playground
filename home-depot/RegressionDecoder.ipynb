{
 "cells": [
  {
   "cell_type": "code",
   "execution_count": 1,
   "metadata": {
    "collapsed": true
   },
   "outputs": [],
   "source": [
    "import pandas"
   ]
  },
  {
   "cell_type": "code",
   "execution_count": 71,
   "metadata": {
    "collapsed": false
   },
   "outputs": [
    {
     "name": "stdout",
     "output_type": "stream",
     "text": [
      "166693\n"
     ]
    }
   ],
   "source": [
    "sub = pandas.read_csv('./history/submission_rfr_n_500_max_feature_10_max_depth_20_seed_2016_lb_0.47177.csv')\n",
    "sub.sort_values(by='relevance', inplace=True)\n",
    "m = len(sub)\n",
    "print(m)"
   ]
  },
  {
   "cell_type": "code",
   "execution_count": 72,
   "metadata": {
    "collapsed": false
   },
   "outputs": [
    {
     "name": "stdout",
     "output_type": "stream",
     "text": [
      "74067\n"
     ]
    }
   ],
   "source": [
    "train = pandas.read_csv('./train.csv', encoding='ISO-8859-1')\n",
    "relevance_sorted = sorted(train.relevance.values)\n",
    "n = len(relevance_sorted)\n",
    "print(n)"
   ]
  },
  {
   "cell_type": "code",
   "execution_count": 73,
   "metadata": {
    "collapsed": false
   },
   "outputs": [],
   "source": [
    "prev = relevance_sorted[0]\n",
    "stats = {}\n",
    "for (i, v) in enumerate(relevance_sorted):\n",
    "    if v != prev:\n",
    "        stats[prev] = i / float(n)\n",
    "        prev = v"
   ]
  },
  {
   "cell_type": "code",
   "execution_count": 97,
   "metadata": {
    "collapsed": false
   },
   "outputs": [
    {
     "name": "stdout",
     "output_type": "stream",
     "text": [
      "[(1.0, 4737), (1.25, 4746), (1.3300000000000001, 11511), (1.5, 11522), (1.6699999999999999, 26781), (1.75, 26802), (2.0, 53201), (2.25, 53225), (2.3300000000000001, 89370), (2.5, 89412), (2.6699999999999999, 123626), (2.75, 123650), (3.0, 166693)]\n"
     ]
    }
   ],
   "source": [
    "cutoffs = list(zip(ret.keys(), list(ret.values())))\n",
    "cutoffs.sort(key=lambda x: x[0])\n",
    "cutoffs = [(k, int(v * m)) for (k, v) in cutoffs] + [(3.0, m)]\n",
    "print(cutoffs)"
   ]
  },
  {
   "cell_type": "code",
   "execution_count": 98,
   "metadata": {
    "collapsed": false,
    "scrolled": true
   },
   "outputs": [],
   "source": [
    "pos = 0\n",
    "val, total = cutoffs[pos]\n",
    "for (count, index) in enumerate(sub.index):\n",
    "    if count == total:\n",
    "        pos += 1\n",
    "        val, total = cutoffs[pos]\n",
    "    sub.set_value(index, 'relevance', val)"
   ]
  },
  {
   "cell_type": "code",
   "execution_count": 102,
   "metadata": {
    "collapsed": false
   },
   "outputs": [],
   "source": [
    "sub.sort_values(by='id', inplace=True)"
   ]
  },
  {
   "cell_type": "code",
   "execution_count": 104,
   "metadata": {
    "collapsed": true
   },
   "outputs": [],
   "source": [
    "sub.to_csv('submission_rfr_n_500_max_feature_10_max_depth_20_seed_2016_cutoff_lb_.csv', index=False)"
   ]
  }
 ],
 "metadata": {
  "kernelspec": {
   "display_name": "Python 3",
   "language": "python",
   "name": "python3"
  },
  "language_info": {
   "codemirror_mode": {
    "name": "ipython",
    "version": 3
   },
   "file_extension": ".py",
   "mimetype": "text/x-python",
   "name": "python",
   "nbconvert_exporter": "python",
   "pygments_lexer": "ipython3",
   "version": "3.5.1"
  }
 },
 "nbformat": 4,
 "nbformat_minor": 0
}
