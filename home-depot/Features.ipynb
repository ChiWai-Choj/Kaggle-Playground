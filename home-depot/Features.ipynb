{
 "cells": [
  {
   "cell_type": "code",
   "execution_count": 1,
   "metadata": {
    "collapsed": true
   },
   "outputs": [],
   "source": [
    "import numpy as np\n",
    "import matplotlib.pyplot as plt\n",
    "%matplotlib inline\n",
    "import pandas as pd\n",
    "import graphlab as gl\n",
    "import sklearn as sk\n",
    "import time\n",
    "from util import *\n",
    "start_time = time.time()"
   ]
  },
  {
   "cell_type": "code",
   "execution_count": 24,
   "metadata": {
    "collapsed": false
   },
   "outputs": [],
   "source": [
    "# def convert_data_to_utf8(files):\n",
    "#     files = ['./data/'+file for file in files]\n",
    "#     for file in files:\n",
    "#         df = pd.read_csv(file, encoding='ISO-8859-1')\n",
    "#         df.to_csv(file[:-4]+'_utf8.csv', encoding='utf-8')\n",
    "        \n",
    "# convert_data_to_utf8(['train.csv', 'attributes.csv', 'product_descriptions.csv', 'test.csv'])        "
   ]
  },
  {
   "cell_type": "markdown",
   "metadata": {},
   "source": [
    "## Load Files"
   ]
  },
  {
   "cell_type": "code",
   "execution_count": 2,
   "metadata": {
    "collapsed": true
   },
   "outputs": [
    {
     "name": "stderr",
     "output_type": "stream",
     "text": [
      "2016-04-08 19:00:41,336 [INFO] graphlab.cython.cy_server, 176: GraphLab Create v1.8.5 started. Logging: C:\\Users\\linghao\\AppData\\Local\\Temp\\graphlab_server_1460113239.log.0\n"
     ]
    },
    {
     "data": {
      "text/html": [
       "<pre>Finished parsing file C:\\Home\\Projects\\Kaggle\\Playground\\home-depot\\data\\train_utf8.csv</pre>"
      ],
      "text/plain": [
       "Finished parsing file C:\\Home\\Projects\\Kaggle\\Playground\\home-depot\\data\\train_utf8.csv"
      ]
     },
     "metadata": {},
     "output_type": "display_data"
    },
    {
     "data": {
      "text/html": [
       "<pre>Parsing completed. Parsed 100 lines in 0.221013 secs.</pre>"
      ],
      "text/plain": [
       "Parsing completed. Parsed 100 lines in 0.221013 secs."
      ]
     },
     "metadata": {},
     "output_type": "display_data"
    },
    {
     "name": "stdout",
     "output_type": "stream",
     "text": [
      "This non-commercial license of GraphLab Create is assigned to zhanglh13@fudan.edu.cn and will expire on September 21, 2016. For commercial licensing options, visit https://dato.com/buy/.\n",
      "------------------------------------------------------"
     ]
    },
    {
     "data": {
      "text/html": [
       "<pre>Finished parsing file C:\\Home\\Projects\\Kaggle\\Playground\\home-depot\\data\\train_utf8.csv</pre>"
      ],
      "text/plain": [
       "Finished parsing file C:\\Home\\Projects\\Kaggle\\Playground\\home-depot\\data\\train_utf8.csv"
      ]
     },
     "metadata": {},
     "output_type": "display_data"
    },
    {
     "data": {
      "text/html": [
       "<pre>Parsing completed. Parsed 74067 lines in 0.17701 secs.</pre>"
      ],
      "text/plain": [
       "Parsing completed. Parsed 74067 lines in 0.17701 secs."
      ]
     },
     "metadata": {},
     "output_type": "display_data"
    },
    {
     "data": {
      "text/html": [
       "<pre>Finished parsing file C:\\Home\\Projects\\Kaggle\\Playground\\home-depot\\data\\test_utf8.csv</pre>"
      ],
      "text/plain": [
       "Finished parsing file C:\\Home\\Projects\\Kaggle\\Playground\\home-depot\\data\\test_utf8.csv"
      ]
     },
     "metadata": {},
     "output_type": "display_data"
    },
    {
     "data": {
      "text/html": [
       "<pre>Parsing completed. Parsed 100 lines in 0.467026 secs.</pre>"
      ],
      "text/plain": [
       "Parsing completed. Parsed 100 lines in 0.467026 secs."
      ]
     },
     "metadata": {},
     "output_type": "display_data"
    },
    {
     "name": "stdout",
     "output_type": "stream",
     "text": [
      "\n",
      "Inferred types from first line of file as \n",
      "column_type_hints=[long,long,long,str,str,float]\n",
      "If parsing fails due to incorrect types, you can correct\n",
      "the inferred type list above and pass it to read_csv in\n",
      "the column_type_hints argument\n",
      "------------------------------------------------------\n",
      "------------------------------------------------------"
     ]
    },
    {
     "data": {
      "text/html": [
       "<pre>Finished parsing file C:\\Home\\Projects\\Kaggle\\Playground\\home-depot\\data\\test_utf8.csv</pre>"
      ],
      "text/plain": [
       "Finished parsing file C:\\Home\\Projects\\Kaggle\\Playground\\home-depot\\data\\test_utf8.csv"
      ]
     },
     "metadata": {},
     "output_type": "display_data"
    },
    {
     "data": {
      "text/html": [
       "<pre>Parsing completed. Parsed 166693 lines in 0.369021 secs.</pre>"
      ],
      "text/plain": [
       "Parsing completed. Parsed 166693 lines in 0.369021 secs."
      ]
     },
     "metadata": {},
     "output_type": "display_data"
    },
    {
     "data": {
      "text/html": [
       "<pre>Read 925395 lines. Lines per second: 452933</pre>"
      ],
      "text/plain": [
       "Read 925395 lines. Lines per second: 452933"
      ]
     },
     "metadata": {},
     "output_type": "display_data"
    },
    {
     "data": {
      "text/html": [
       "<pre>Finished parsing file C:\\Home\\Projects\\Kaggle\\Playground\\home-depot\\data\\attributes_utf8.csv</pre>"
      ],
      "text/plain": [
       "Finished parsing file C:\\Home\\Projects\\Kaggle\\Playground\\home-depot\\data\\attributes_utf8.csv"
      ]
     },
     "metadata": {},
     "output_type": "display_data"
    },
    {
     "data": {
      "text/html": [
       "<pre>Parsing completed. Parsed 2044803 lines in 2.78316 secs.</pre>"
      ],
      "text/plain": [
       "Parsing completed. Parsed 2044803 lines in 2.78316 secs."
      ]
     },
     "metadata": {},
     "output_type": "display_data"
    },
    {
     "data": {
      "text/html": [
       "<pre>Finished parsing file C:\\Home\\Projects\\Kaggle\\Playground\\home-depot\\data\\product_descriptions_utf8.csv</pre>"
      ],
      "text/plain": [
       "Finished parsing file C:\\Home\\Projects\\Kaggle\\Playground\\home-depot\\data\\product_descriptions_utf8.csv"
      ]
     },
     "metadata": {},
     "output_type": "display_data"
    },
    {
     "data": {
      "text/html": [
       "<pre>Parsing completed. Parsed 100 lines in 0.759043 secs.</pre>"
      ],
      "text/plain": [
       "Parsing completed. Parsed 100 lines in 0.759043 secs."
      ]
     },
     "metadata": {},
     "output_type": "display_data"
    },
    {
     "name": "stdout",
     "output_type": "stream",
     "text": [
      "\n",
      "Inferred types from first line of file as \n",
      "column_type_hints=[long,long,long,str,str]\n",
      "If parsing fails due to incorrect types, you can correct\n",
      "the inferred type list above and pass it to read_csv in\n",
      "the column_type_hints argument\n",
      "------------------------------------------------------\n",
      "------------------------------------------------------"
     ]
    },
    {
     "data": {
      "text/html": [
       "<pre>Finished parsing file C:\\Home\\Projects\\Kaggle\\Playground\\home-depot\\data\\product_descriptions_utf8.csv</pre>"
      ],
      "text/plain": [
       "Finished parsing file C:\\Home\\Projects\\Kaggle\\Playground\\home-depot\\data\\product_descriptions_utf8.csv"
      ]
     },
     "metadata": {},
     "output_type": "display_data"
    },
    {
     "data": {
      "text/html": [
       "<pre>Parsing completed. Parsed 124428 lines in 1.42208 secs.</pre>"
      ],
      "text/plain": [
       "Parsing completed. Parsed 124428 lines in 1.42208 secs."
      ]
     },
     "metadata": {},
     "output_type": "display_data"
    },
    {
     "name": "stdout",
     "output_type": "stream",
     "text": [
      "\n",
      "Inferred types from first line of file as \n",
      "column_type_hints=[long,long,str]\n",
      "If parsing fails due to incorrect types, you can correct\n",
      "the inferred type list above and pass it to read_csv in\n",
      "the column_type_hints argument\n",
      "------------------------------------------------------\n"
     ]
    }
   ],
   "source": [
    "df_train = gl.SFrame.read_csv('./data/train_utf8.csv')\n",
    "df_test = gl.SFrame.read_csv('./data/test_utf8.csv')\n",
    "df_attr = gl.SFrame.read_csv('./data/attributes_utf8.csv', column_type_hints=[long,long,str,str])\n",
    "df_desp = gl.SFrame.read_csv('./data/product_descriptions_utf8.csv')"
   ]
  },
  {
   "cell_type": "code",
   "execution_count": 3,
   "metadata": {
    "collapsed": false,
    "scrolled": true
   },
   "outputs": [],
   "source": [
    "num_train = len(df_train)\n",
    "df_test['relevance'] = 0.0\n",
    "df = df_train.append(df_test)\n",
    "df_brand = df_attr[df_attr['name'] == 'MFG Brand Name'][['product_uid', 'value']].rename({'value': 'brand'})\n",
    "df = df.join(df_desp, on='product_uid', how='left')\n",
    "df = df.join(df_brand, on='product_uid', how='left')\n",
    "# print('--- Files Loaded: %s minutes ---' % round(((time.time() - start_time) / 60), 2))"
   ]
  },
  {
   "cell_type": "markdown",
   "metadata": {},
   "source": [
    "## Fix Typo"
   ]
  },
  {
   "cell_type": "code",
   "execution_count": 4,
   "metadata": {
    "collapsed": false,
    "scrolled": true
   },
   "outputs": [],
   "source": [
    "df['search_term'] = df['search_term'].apply(correct_typo)\n",
    "# print(\"--- Typo Fixed: %s minutes ---\" % round(((time.time() - start_time) / 60), 2))"
   ]
  },
  {
   "cell_type": "markdown",
   "metadata": {},
   "source": [
    "## Stemming"
   ]
  },
  {
   "cell_type": "code",
   "execution_count": 5,
   "metadata": {
    "collapsed": false
   },
   "outputs": [
    {
     "name": "stdout",
     "output_type": "stream",
     "text": [
      "--- Stemming: 0.49 minutes ---\n"
     ]
    }
   ],
   "source": [
    "df['search_term'] = df['search_term'].apply(lambda x: stem_str(x))\n",
    "df['product_title'] = df['product_title'].apply(lambda x: stem_str(x))\n",
    "df['product_description'] = df['product_description'].apply(lambda x: stem_str(x))\n",
    "df['brand'] = df['brand'].apply(lambda x: stem_str(x))\n",
    "# print('--- Stemming: %s minutes ---' % round(((time.time() - start_time) / 60), 2))"
   ]
  }
 ],
 "metadata": {
  "kernelspec": {
   "display_name": "Python 2",
   "language": "python",
   "name": "python2"
  },
  "language_info": {
   "codemirror_mode": {
    "name": "ipython",
    "version": 2
   },
   "file_extension": ".py",
   "mimetype": "text/x-python",
   "name": "python",
   "nbconvert_exporter": "python",
   "pygments_lexer": "ipython2",
   "version": "2.7.10"
  }
 },
 "nbformat": 4,
 "nbformat_minor": 0
}
