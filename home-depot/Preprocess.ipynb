{
 "cells": [
  {
   "cell_type": "code",
   "execution_count": 65,
   "metadata": {
    "collapsed": false
   },
   "outputs": [],
   "source": [
    "import warnings\n",
    "warnings.filterwarnings('ignore')\n",
    "import re\n",
    "import time\n",
    "import numpy as np\n",
    "import matplotlib.pyplot as plt\n",
    "%matplotlib inline\n",
    "import pandas as pd\n",
    "pd.options.display.max_columns = None\n",
    "pd.options.display.mpl_style = 'default'\n",
    "from nltk.tokenize import word_tokenize\n",
    "from gensim.models import word2vec\n",
    "from util3 import *"
   ]
  },
  {
   "cell_type": "code",
   "execution_count": 2,
   "metadata": {
    "collapsed": true
   },
   "outputs": [],
   "source": [
    "# df = pd.read_csv('./df_start_over.csv', encoding='ISO-8859-1', index_col=0)"
   ]
  },
  {
   "cell_type": "markdown",
   "metadata": {},
   "source": [
    "## Load Files"
   ]
  },
  {
   "cell_type": "code",
   "execution_count": 35,
   "metadata": {
    "collapsed": false
   },
   "outputs": [],
   "source": [
    "df_train = pd.read_csv('./data/train.csv', encoding='ISO-8859-1')\n",
    "df_test = pd.read_csv('./data/test.csv', encoding='ISO-8859-1')\n",
    "df_desp = pd.read_csv('./data/product_descriptions.csv')\n",
    "df_attr = pd.read_csv('./data/attributes.csv')\n",
    "\n",
    "df_brand = df_attr[df_attr.name == 'MFG Brand Name'][['product_uid', 'value']].rename(columns={'value': 'brand'})\n",
    "num_train = df_train.shape[0]\n",
    "\n",
    "df = pd.concat((df_train, df_test), axis=0, ignore_index=True)\n",
    "df = pd.merge(df, df_desp, how='left', on='product_uid')\n",
    "df = pd.merge(df, df_brand, how='left', on='product_uid')\n",
    "df['brand'].fillna('NOBRAND', inplace=True)"
   ]
  },
  {
   "cell_type": "code",
   "execution_count": 117,
   "metadata": {
    "collapsed": false
   },
   "outputs": [],
   "source": [
    "df['majority_relevance'] = df['relevance'].map(lambda x: x in [1.0, 1.33, 1.67, 2.0, 2.33, 2.67, 3.0])\n",
    "def majoritize(df):\n",
    "    return df[df['majority_relevance'] == 1]"
   ]
  },
  {
   "cell_type": "markdown",
   "metadata": {},
   "source": [
    "## Fix Typos"
   ]
  },
  {
   "cell_type": "code",
   "execution_count": 36,
   "metadata": {
    "collapsed": true
   },
   "outputs": [],
   "source": [
    "df['search_term'] = df['search_term'].map(correct_typo)"
   ]
  },
  {
   "cell_type": "markdown",
   "metadata": {},
   "source": [
    "## Stemming & Tokenizing"
   ]
  },
  {
   "cell_type": "code",
   "execution_count": 37,
   "metadata": {
    "collapsed": false
   },
   "outputs": [],
   "source": [
    "df['search_term'] = df['search_term'].map(lambda x: str_stem(x))\n",
    "df['product_title'] = df['product_title'].map(lambda x: str_stem(x))\n",
    "df['product_description'] = df['product_description'].map(lambda x: str_stem(x))\n",
    "df['brand'] = df['brand'].map(lambda x: str_stem(x))"
   ]
  },
  {
   "cell_type": "code",
   "execution_count": 22,
   "metadata": {
    "collapsed": true
   },
   "outputs": [
    {
     "ename": "LookupError",
     "evalue": "\n**********************************************************************\n  Resource 'tokenizers/punkt/english.pickle' not found.  Please\n  use the NLTK Downloader to obtain the resource:  >>>\n  nltk.download()\n  Searched in:\n    - 'C:\\\\Users\\\\USER/nltk_data'\n    - 'C:\\\\nltk_data'\n    - 'D:\\\\nltk_data'\n    - 'E:\\\\nltk_data'\n    - 'C:\\\\Anaconda3\\\\nltk_data'\n    - 'C:\\\\Anaconda3\\\\lib\\\\nltk_data'\n    - 'C:\\\\Users\\\\USER\\\\AppData\\\\Roaming\\\\nltk_data'\n    - ''\n**********************************************************************",
     "output_type": "error",
     "traceback": [
      "\u001b[1;31m---------------------------------------------------------------------------\u001b[0m",
      "\u001b[1;31mLookupError\u001b[0m                               Traceback (most recent call last)",
      "\u001b[1;32m<ipython-input-22-495097c1ee63>\u001b[0m in \u001b[0;36m<module>\u001b[1;34m()\u001b[0m\n\u001b[1;32m----> 1\u001b[1;33m \u001b[0mdf\u001b[0m\u001b[1;33m[\u001b[0m\u001b[1;34m'tokens_search_term'\u001b[0m\u001b[1;33m]\u001b[0m \u001b[1;33m=\u001b[0m \u001b[0mdf\u001b[0m\u001b[1;33m[\u001b[0m\u001b[1;34m'search_term'\u001b[0m\u001b[1;33m]\u001b[0m\u001b[1;33m.\u001b[0m\u001b[0mmap\u001b[0m\u001b[1;33m(\u001b[0m\u001b[1;32mlambda\u001b[0m \u001b[0mx\u001b[0m\u001b[1;33m:\u001b[0m \u001b[0mword_tokenize\u001b[0m\u001b[1;33m(\u001b[0m\u001b[0mx\u001b[0m\u001b[1;33m)\u001b[0m\u001b[1;33m)\u001b[0m\u001b[1;33m\u001b[0m\u001b[0m\n\u001b[0m\u001b[0;32m      2\u001b[0m \u001b[0mdf\u001b[0m\u001b[1;33m[\u001b[0m\u001b[1;34m'tokens_product_title'\u001b[0m\u001b[1;33m]\u001b[0m \u001b[1;33m=\u001b[0m \u001b[0mdf\u001b[0m\u001b[1;33m[\u001b[0m\u001b[1;34m'product_title'\u001b[0m\u001b[1;33m]\u001b[0m\u001b[1;33m.\u001b[0m\u001b[0mmap\u001b[0m\u001b[1;33m(\u001b[0m\u001b[1;32mlambda\u001b[0m \u001b[0mx\u001b[0m\u001b[1;33m:\u001b[0m \u001b[0mword_tokenize\u001b[0m\u001b[1;33m(\u001b[0m\u001b[0mx\u001b[0m\u001b[1;33m)\u001b[0m\u001b[1;33m)\u001b[0m\u001b[1;33m\u001b[0m\u001b[0m\n\u001b[0;32m      3\u001b[0m \u001b[0mdf\u001b[0m\u001b[1;33m[\u001b[0m\u001b[1;34m'tokens_product_description'\u001b[0m\u001b[1;33m]\u001b[0m \u001b[1;33m=\u001b[0m \u001b[0mdf\u001b[0m\u001b[1;33m[\u001b[0m\u001b[1;34m'product_description'\u001b[0m\u001b[1;33m]\u001b[0m\u001b[1;33m.\u001b[0m\u001b[0mmap\u001b[0m\u001b[1;33m(\u001b[0m\u001b[1;32mlambda\u001b[0m \u001b[0mx\u001b[0m\u001b[1;33m:\u001b[0m \u001b[0mword_tokenize\u001b[0m\u001b[1;33m(\u001b[0m\u001b[0mx\u001b[0m\u001b[1;33m)\u001b[0m\u001b[1;33m)\u001b[0m\u001b[1;33m\u001b[0m\u001b[0m\n\u001b[0;32m      4\u001b[0m \u001b[0mdf\u001b[0m\u001b[1;33m[\u001b[0m\u001b[1;34m'tokens_brand'\u001b[0m\u001b[1;33m]\u001b[0m \u001b[1;33m=\u001b[0m \u001b[0mdf\u001b[0m\u001b[1;33m[\u001b[0m\u001b[1;34m'brand'\u001b[0m\u001b[1;33m]\u001b[0m\u001b[1;33m.\u001b[0m\u001b[0mmap\u001b[0m\u001b[1;33m(\u001b[0m\u001b[1;32mlambda\u001b[0m \u001b[0mx\u001b[0m\u001b[1;33m:\u001b[0m \u001b[0mword_tokenize\u001b[0m\u001b[1;33m(\u001b[0m\u001b[0mx\u001b[0m\u001b[1;33m)\u001b[0m\u001b[1;33m)\u001b[0m\u001b[1;33m\u001b[0m\u001b[0m\n",
      "\u001b[1;32mC:\\Anaconda3\\lib\\site-packages\\pandas\\core\\series.py\u001b[0m in \u001b[0;36mmap\u001b[1;34m(self, arg, na_action)\u001b[0m\n\u001b[0;32m   2119\u001b[0m                                      index=self.index).__finalize__(self)\n\u001b[0;32m   2120\u001b[0m         \u001b[1;32melse\u001b[0m\u001b[1;33m:\u001b[0m\u001b[1;33m\u001b[0m\u001b[0m\n\u001b[1;32m-> 2121\u001b[1;33m             \u001b[0mmapped\u001b[0m \u001b[1;33m=\u001b[0m \u001b[0mmap_f\u001b[0m\u001b[1;33m(\u001b[0m\u001b[0mvalues\u001b[0m\u001b[1;33m,\u001b[0m \u001b[0marg\u001b[0m\u001b[1;33m)\u001b[0m\u001b[1;33m\u001b[0m\u001b[0m\n\u001b[0m\u001b[0;32m   2122\u001b[0m             return self._constructor(mapped,\n\u001b[0;32m   2123\u001b[0m                                      index=self.index).__finalize__(self)\n",
      "\u001b[1;32mpandas\\src\\inference.pyx\u001b[0m in \u001b[0;36mpandas.lib.map_infer (pandas\\lib.c:63043)\u001b[1;34m()\u001b[0m\n",
      "\u001b[1;32m<ipython-input-22-495097c1ee63>\u001b[0m in \u001b[0;36m<lambda>\u001b[1;34m(x)\u001b[0m\n\u001b[1;32m----> 1\u001b[1;33m \u001b[0mdf\u001b[0m\u001b[1;33m[\u001b[0m\u001b[1;34m'tokens_search_term'\u001b[0m\u001b[1;33m]\u001b[0m \u001b[1;33m=\u001b[0m \u001b[0mdf\u001b[0m\u001b[1;33m[\u001b[0m\u001b[1;34m'search_term'\u001b[0m\u001b[1;33m]\u001b[0m\u001b[1;33m.\u001b[0m\u001b[0mmap\u001b[0m\u001b[1;33m(\u001b[0m\u001b[1;32mlambda\u001b[0m \u001b[0mx\u001b[0m\u001b[1;33m:\u001b[0m \u001b[0mword_tokenize\u001b[0m\u001b[1;33m(\u001b[0m\u001b[0mx\u001b[0m\u001b[1;33m)\u001b[0m\u001b[1;33m)\u001b[0m\u001b[1;33m\u001b[0m\u001b[0m\n\u001b[0m\u001b[0;32m      2\u001b[0m \u001b[0mdf\u001b[0m\u001b[1;33m[\u001b[0m\u001b[1;34m'tokens_product_title'\u001b[0m\u001b[1;33m]\u001b[0m \u001b[1;33m=\u001b[0m \u001b[0mdf\u001b[0m\u001b[1;33m[\u001b[0m\u001b[1;34m'product_title'\u001b[0m\u001b[1;33m]\u001b[0m\u001b[1;33m.\u001b[0m\u001b[0mmap\u001b[0m\u001b[1;33m(\u001b[0m\u001b[1;32mlambda\u001b[0m \u001b[0mx\u001b[0m\u001b[1;33m:\u001b[0m \u001b[0mword_tokenize\u001b[0m\u001b[1;33m(\u001b[0m\u001b[0mx\u001b[0m\u001b[1;33m)\u001b[0m\u001b[1;33m)\u001b[0m\u001b[1;33m\u001b[0m\u001b[0m\n\u001b[0;32m      3\u001b[0m \u001b[0mdf\u001b[0m\u001b[1;33m[\u001b[0m\u001b[1;34m'tokens_product_description'\u001b[0m\u001b[1;33m]\u001b[0m \u001b[1;33m=\u001b[0m \u001b[0mdf\u001b[0m\u001b[1;33m[\u001b[0m\u001b[1;34m'product_description'\u001b[0m\u001b[1;33m]\u001b[0m\u001b[1;33m.\u001b[0m\u001b[0mmap\u001b[0m\u001b[1;33m(\u001b[0m\u001b[1;32mlambda\u001b[0m \u001b[0mx\u001b[0m\u001b[1;33m:\u001b[0m \u001b[0mword_tokenize\u001b[0m\u001b[1;33m(\u001b[0m\u001b[0mx\u001b[0m\u001b[1;33m)\u001b[0m\u001b[1;33m)\u001b[0m\u001b[1;33m\u001b[0m\u001b[0m\n\u001b[0;32m      4\u001b[0m \u001b[0mdf\u001b[0m\u001b[1;33m[\u001b[0m\u001b[1;34m'tokens_brand'\u001b[0m\u001b[1;33m]\u001b[0m \u001b[1;33m=\u001b[0m \u001b[0mdf\u001b[0m\u001b[1;33m[\u001b[0m\u001b[1;34m'brand'\u001b[0m\u001b[1;33m]\u001b[0m\u001b[1;33m.\u001b[0m\u001b[0mmap\u001b[0m\u001b[1;33m(\u001b[0m\u001b[1;32mlambda\u001b[0m \u001b[0mx\u001b[0m\u001b[1;33m:\u001b[0m \u001b[0mword_tokenize\u001b[0m\u001b[1;33m(\u001b[0m\u001b[0mx\u001b[0m\u001b[1;33m)\u001b[0m\u001b[1;33m)\u001b[0m\u001b[1;33m\u001b[0m\u001b[0m\n",
      "\u001b[1;32mC:\\Anaconda3\\lib\\site-packages\\nltk\\tokenize\\__init__.py\u001b[0m in \u001b[0;36mword_tokenize\u001b[1;34m(text, language)\u001b[0m\n\u001b[0;32m    103\u001b[0m     \u001b[1;33m:\u001b[0m\u001b[0mparam\u001b[0m \u001b[0mlanguage\u001b[0m\u001b[1;33m:\u001b[0m \u001b[0mthe\u001b[0m \u001b[0mmodel\u001b[0m \u001b[0mname\u001b[0m \u001b[1;32min\u001b[0m \u001b[0mthe\u001b[0m \u001b[0mPunkt\u001b[0m \u001b[0mcorpus\u001b[0m\u001b[1;33m\u001b[0m\u001b[0m\n\u001b[0;32m    104\u001b[0m     \"\"\"\n\u001b[1;32m--> 105\u001b[1;33m     return [token for sent in sent_tokenize(text, language)\n\u001b[0m\u001b[0;32m    106\u001b[0m             for token in _treebank_word_tokenize(sent)]\n\u001b[0;32m    107\u001b[0m \u001b[1;33m\u001b[0m\u001b[0m\n",
      "\u001b[1;32mC:\\Anaconda3\\lib\\site-packages\\nltk\\tokenize\\__init__.py\u001b[0m in \u001b[0;36msent_tokenize\u001b[1;34m(text, language)\u001b[0m\n\u001b[0;32m     87\u001b[0m     \u001b[1;33m:\u001b[0m\u001b[0mparam\u001b[0m \u001b[0mlanguage\u001b[0m\u001b[1;33m:\u001b[0m \u001b[0mthe\u001b[0m \u001b[0mmodel\u001b[0m \u001b[0mname\u001b[0m \u001b[1;32min\u001b[0m \u001b[0mthe\u001b[0m \u001b[0mPunkt\u001b[0m \u001b[0mcorpus\u001b[0m\u001b[1;33m\u001b[0m\u001b[0m\n\u001b[0;32m     88\u001b[0m     \"\"\"\n\u001b[1;32m---> 89\u001b[1;33m     \u001b[0mtokenizer\u001b[0m \u001b[1;33m=\u001b[0m \u001b[0mload\u001b[0m\u001b[1;33m(\u001b[0m\u001b[1;34m'tokenizers/punkt/{0}.pickle'\u001b[0m\u001b[1;33m.\u001b[0m\u001b[0mformat\u001b[0m\u001b[1;33m(\u001b[0m\u001b[0mlanguage\u001b[0m\u001b[1;33m)\u001b[0m\u001b[1;33m)\u001b[0m\u001b[1;33m\u001b[0m\u001b[0m\n\u001b[0m\u001b[0;32m     90\u001b[0m     \u001b[1;32mreturn\u001b[0m \u001b[0mtokenizer\u001b[0m\u001b[1;33m.\u001b[0m\u001b[0mtokenize\u001b[0m\u001b[1;33m(\u001b[0m\u001b[0mtext\u001b[0m\u001b[1;33m)\u001b[0m\u001b[1;33m\u001b[0m\u001b[0m\n\u001b[0;32m     91\u001b[0m \u001b[1;33m\u001b[0m\u001b[0m\n",
      "\u001b[1;32mC:\\Anaconda3\\lib\\site-packages\\nltk\\data.py\u001b[0m in \u001b[0;36mload\u001b[1;34m(resource_url, format, cache, verbose, logic_parser, fstruct_reader, encoding)\u001b[0m\n\u001b[0;32m    799\u001b[0m \u001b[1;33m\u001b[0m\u001b[0m\n\u001b[0;32m    800\u001b[0m     \u001b[1;31m# Load the resource.\u001b[0m\u001b[1;33m\u001b[0m\u001b[1;33m\u001b[0m\u001b[0m\n\u001b[1;32m--> 801\u001b[1;33m     \u001b[0mopened_resource\u001b[0m \u001b[1;33m=\u001b[0m \u001b[0m_open\u001b[0m\u001b[1;33m(\u001b[0m\u001b[0mresource_url\u001b[0m\u001b[1;33m)\u001b[0m\u001b[1;33m\u001b[0m\u001b[0m\n\u001b[0m\u001b[0;32m    802\u001b[0m \u001b[1;33m\u001b[0m\u001b[0m\n\u001b[0;32m    803\u001b[0m     \u001b[1;32mif\u001b[0m \u001b[0mformat\u001b[0m \u001b[1;33m==\u001b[0m \u001b[1;34m'raw'\u001b[0m\u001b[1;33m:\u001b[0m\u001b[1;33m\u001b[0m\u001b[0m\n",
      "\u001b[1;32mC:\\Anaconda3\\lib\\site-packages\\nltk\\data.py\u001b[0m in \u001b[0;36m_open\u001b[1;34m(resource_url)\u001b[0m\n\u001b[0;32m    917\u001b[0m \u001b[1;33m\u001b[0m\u001b[0m\n\u001b[0;32m    918\u001b[0m     \u001b[1;32mif\u001b[0m \u001b[0mprotocol\u001b[0m \u001b[1;32mis\u001b[0m \u001b[1;32mNone\u001b[0m \u001b[1;32mor\u001b[0m \u001b[0mprotocol\u001b[0m\u001b[1;33m.\u001b[0m\u001b[0mlower\u001b[0m\u001b[1;33m(\u001b[0m\u001b[1;33m)\u001b[0m \u001b[1;33m==\u001b[0m \u001b[1;34m'nltk'\u001b[0m\u001b[1;33m:\u001b[0m\u001b[1;33m\u001b[0m\u001b[0m\n\u001b[1;32m--> 919\u001b[1;33m         \u001b[1;32mreturn\u001b[0m \u001b[0mfind\u001b[0m\u001b[1;33m(\u001b[0m\u001b[0mpath_\u001b[0m\u001b[1;33m,\u001b[0m \u001b[0mpath\u001b[0m \u001b[1;33m+\u001b[0m \u001b[1;33m[\u001b[0m\u001b[1;34m''\u001b[0m\u001b[1;33m]\u001b[0m\u001b[1;33m)\u001b[0m\u001b[1;33m.\u001b[0m\u001b[0mopen\u001b[0m\u001b[1;33m(\u001b[0m\u001b[1;33m)\u001b[0m\u001b[1;33m\u001b[0m\u001b[0m\n\u001b[0m\u001b[0;32m    920\u001b[0m     \u001b[1;32melif\u001b[0m \u001b[0mprotocol\u001b[0m\u001b[1;33m.\u001b[0m\u001b[0mlower\u001b[0m\u001b[1;33m(\u001b[0m\u001b[1;33m)\u001b[0m \u001b[1;33m==\u001b[0m \u001b[1;34m'file'\u001b[0m\u001b[1;33m:\u001b[0m\u001b[1;33m\u001b[0m\u001b[0m\n\u001b[0;32m    921\u001b[0m         \u001b[1;31m# urllib might not use mode='rb', so handle this one ourselves:\u001b[0m\u001b[1;33m\u001b[0m\u001b[1;33m\u001b[0m\u001b[0m\n",
      "\u001b[1;32mC:\\Anaconda3\\lib\\site-packages\\nltk\\data.py\u001b[0m in \u001b[0;36mfind\u001b[1;34m(resource_name, paths)\u001b[0m\n\u001b[0;32m    639\u001b[0m     \u001b[0msep\u001b[0m \u001b[1;33m=\u001b[0m \u001b[1;34m'*'\u001b[0m \u001b[1;33m*\u001b[0m \u001b[1;36m70\u001b[0m\u001b[1;33m\u001b[0m\u001b[0m\n\u001b[0;32m    640\u001b[0m     \u001b[0mresource_not_found\u001b[0m \u001b[1;33m=\u001b[0m \u001b[1;34m'\\n%s\\n%s\\n%s'\u001b[0m \u001b[1;33m%\u001b[0m \u001b[1;33m(\u001b[0m\u001b[0msep\u001b[0m\u001b[1;33m,\u001b[0m \u001b[0mmsg\u001b[0m\u001b[1;33m,\u001b[0m \u001b[0msep\u001b[0m\u001b[1;33m)\u001b[0m\u001b[1;33m\u001b[0m\u001b[0m\n\u001b[1;32m--> 641\u001b[1;33m     \u001b[1;32mraise\u001b[0m \u001b[0mLookupError\u001b[0m\u001b[1;33m(\u001b[0m\u001b[0mresource_not_found\u001b[0m\u001b[1;33m)\u001b[0m\u001b[1;33m\u001b[0m\u001b[0m\n\u001b[0m\u001b[0;32m    642\u001b[0m \u001b[1;33m\u001b[0m\u001b[0m\n\u001b[0;32m    643\u001b[0m \u001b[1;33m\u001b[0m\u001b[0m\n",
      "\u001b[1;31mLookupError\u001b[0m: \n**********************************************************************\n  Resource 'tokenizers/punkt/english.pickle' not found.  Please\n  use the NLTK Downloader to obtain the resource:  >>>\n  nltk.download()\n  Searched in:\n    - 'C:\\\\Users\\\\USER/nltk_data'\n    - 'C:\\\\nltk_data'\n    - 'D:\\\\nltk_data'\n    - 'E:\\\\nltk_data'\n    - 'C:\\\\Anaconda3\\\\nltk_data'\n    - 'C:\\\\Anaconda3\\\\lib\\\\nltk_data'\n    - 'C:\\\\Users\\\\USER\\\\AppData\\\\Roaming\\\\nltk_data'\n    - ''\n**********************************************************************"
     ]
    }
   ],
   "source": [
    "df['tokens_search_term'] = df['search_term'].map(lambda x: word_tokenize(x))\n",
    "df['tokens_product_title'] = df['product_title'].map(lambda x: word_tokenize(x))\n",
    "df['tokens_product_description'] = df['product_description'].map(lambda x: word_tokenize(x))\n",
    "df['tokens_brand'] = df['brand'].map(lambda x: word_tokenize(x))"
   ]
  },
  {
   "cell_type": "code",
   "execution_count": 83,
   "metadata": {
    "collapsed": false
   },
   "outputs": [],
   "source": [
    "df['tokens_search_term'] = df['search_term'].map(lambda x: x.split())\n",
    "df['tokens_product_title'] = df['product_title'].map(lambda x: x.split())\n",
    "df['tokens_product_description'] = df['product_description'].map(lambda x: x.split())\n",
    "df['tokens_brand'] = df['brand'].map(lambda x: x.split())"
   ]
  },
  {
   "cell_type": "code",
   "execution_count": 20,
   "metadata": {
    "collapsed": true
   },
   "outputs": [],
   "source": [
    "# df.to_csv('./df_aftering_stemming_and_tokenizing.csv')"
   ]
  },
  {
   "cell_type": "markdown",
   "metadata": {},
   "source": [
    "## Meta-Features"
   ]
  },
  {
   "cell_type": "code",
   "execution_count": 2,
   "metadata": {
    "collapsed": true
   },
   "outputs": [],
   "source": [
    "# df = pd.read_csv('./df_aftering_stemming_and_tokenizing.csv', encoding='ISO-8859-1', index_col=0)"
   ]
  },
  {
   "cell_type": "markdown",
   "metadata": {},
   "source": [
    "### Length"
   ]
  },
  {
   "cell_type": "code",
   "execution_count": 84,
   "metadata": {
    "collapsed": true
   },
   "outputs": [],
   "source": [
    "df['len_search_term'] = df['tokens_search_term'].map(lambda x: len(x))\n",
    "df['len_product_title'] = df['tokens_product_title'].map(lambda x: len(x))\n",
    "df['len_product_description'] = df['tokens_product_description'].map(lambda x: len(x))\n",
    "df['len_brand'] = df['tokens_brand'].map(lambda x: len(x))"
   ]
  },
  {
   "cell_type": "markdown",
   "metadata": {},
   "source": [
    "### Flag & Count & Ratio"
   ]
  },
  {
   "cell_type": "code",
   "execution_count": 141,
   "metadata": {
    "collapsed": false
   },
   "outputs": [],
   "source": [
    "df['flag_st_in_pt'] = df.apply(lambda x: int(x['search_term'] in x['product_title']), axis=1)\n",
    "df['flag_st_in_pd'] = df.apply(lambda x: int(x['search_term'] in x['product_description']), axis=1)\n",
    "df['flag_st_in_br'] = df.apply(lambda x: int(x['search_term'] in x['brand']), axis=1)"
   ]
  },
  {
   "cell_type": "code",
   "execution_count": 142,
   "metadata": {
    "collapsed": false
   },
   "outputs": [],
   "source": [
    "df['num_st_in_pt'] = \\\n",
    "    df.apply(lambda x: len(set(x['tokens_search_term']).intersection(set(x['tokens_product_title']))), axis=1)\n",
    "df['num_st_in_pd'] = \\\n",
    "    df.apply(lambda x: len(set(x['tokens_search_term']).intersection(set(x['tokens_product_description']))), axis=1)\n",
    "df['num_st_in_br'] = \\\n",
    "    df.apply(lambda x: len(set(x['tokens_search_term']).intersection(set(x['tokens_brand']))), axis=1)"
   ]
  },
  {
   "cell_type": "code",
   "execution_count": 144,
   "metadata": {
    "collapsed": false
   },
   "outputs": [],
   "source": [
    "df['ratio_st_in_pt'] = \\\n",
    "    df.apply(lambda x: x['num_st_in_pt'] / float(x['len_search_term']), axis=1)\n",
    "df['ratio_st_in_pd'] = \\\n",
    "    df.apply(lambda x: x['num_st_in_pd'] / float(x['len_search_term']), axis=1)\n",
    "df['ratio_st_in_br'] = \\\n",
    "    df.apply(lambda x: x['num_st_in_br'] / float(x['len_search_term']), axis=1)"
   ]
  },
  {
   "cell_type": "code",
   "execution_count": 145,
   "metadata": {
    "collapsed": false
   },
   "outputs": [
    {
     "data": {
      "text/plain": [
       "<matplotlib.axes._subplots.AxesSubplot at 0xb821e4e0>"
      ]
     },
     "execution_count": 145,
     "metadata": {},
     "output_type": "execute_result"
    },
    {
     "data": {
      "image/png": "[encoded data removed]",
      "text/plain": [
       "<matplotlib.figure.Figure at 0x164619588>"
      ]
     },
     "metadata": {},
     "output_type": "display_data"
    }
   ],
   "source": [
    "majoritize(df).boxplot(column='ratio_st_in_pt', by='relevance')"
   ]
  },
  {
   "cell_type": "code",
   "execution_count": 147,
   "metadata": {
    "collapsed": false,
    "scrolled": true
   },
   "outputs": [
    {
     "data": {
      "text/plain": [
       "<matplotlib.axes._subplots.AxesSubplot at 0xb8212eb8>"
      ]
     },
     "execution_count": 147,
     "metadata": {},
     "output_type": "execute_result"
    },
    {
     "data": {
      "image/png": "[encoded data removed]",
      "text/plain": [
       "<matplotlib.figure.Figure at 0xba0b8cf8>"
      ]
     },
     "metadata": {},
     "output_type": "display_data"
    }
   ],
   "source": [
    "majoritize(df).boxplot(column='ratio_st_in_pd', by='relevance')"
   ]
  },
  {
   "cell_type": "code",
   "execution_count": 148,
   "metadata": {
    "collapsed": false
   },
   "outputs": [
    {
     "data": {
      "text/plain": [
       "<matplotlib.axes._subplots.AxesSubplot at 0x16427ce80>"
      ]
     },
     "execution_count": 148,
     "metadata": {},
     "output_type": "execute_result"
    },
    {
     "data": {
      "image/png": "[encoded data removed]",
      "text/plain": [
       "<matplotlib.figure.Figure at 0x16428c320>"
      ]
     },
     "metadata": {},
     "output_type": "display_data"
    }
   ],
   "source": [
    "# not very useful\n",
    "majoritize(df).boxplot(column='ratio_st_in_br', by='relevance')"
   ]
  },
  {
   "cell_type": "markdown",
   "metadata": {},
   "source": [
    "### Encode Brand Feature"
   ]
  },
  {
   "cell_type": "code",
   "execution_count": 90,
   "metadata": {
    "collapsed": true
   },
   "outputs": [],
   "source": [
    "brands = pd.unique(df.brand.ravel())\n",
    "brand_encoder = {}\n",
    "index = 1000\n",
    "for brand in brands:\n",
    "    brand_encoder[brand] = index\n",
    "    index += 10\n",
    "brand_encoder['nobrand'] = 500"
   ]
  },
  {
   "cell_type": "code",
   "execution_count": 91,
   "metadata": {
    "collapsed": true
   },
   "outputs": [],
   "source": [
    "df['brand_encoded'] = df['brand'].map(lambda x: brand_encoder.get(x, 500))"
   ]
  },
  {
   "cell_type": "markdown",
   "metadata": {},
   "source": [
    "### Encode Attributes Feature"
   ]
  },
  {
   "cell_type": "code",
   "execution_count": 99,
   "metadata": {
    "collapsed": true
   },
   "outputs": [],
   "source": [
    "pids_with_attr = pd.unique(df_attr.product_uid.ravel())\n",
    "attr_encoder = {}\n",
    "for pid in pids_with_attr:\n",
    "    attr_encoder[pid] = 1"
   ]
  },
  {
   "cell_type": "code",
   "execution_count": 100,
   "metadata": {
    "collapsed": false
   },
   "outputs": [],
   "source": [
    "df['flag_has_attr'] = df['product_uid'].map(lambda x: attr_encoder.get(x, 0))"
   ]
  },
  {
   "cell_type": "code",
   "execution_count": 132,
   "metadata": {
    "collapsed": false
   },
   "outputs": [
    {
     "data": {
      "text/plain": [
       "<matplotlib.axes._subplots.AxesSubplot at 0x164644550>"
      ]
     },
     "execution_count": 132,
     "metadata": {},
     "output_type": "execute_result"
    },
    {
     "data": {
      "image/png": "[encoded data removed]",
      "text/plain": [
       "<matplotlib.figure.Figure at 0xba2bf908>"
      ]
     },
     "metadata": {},
     "output_type": "display_data"
    }
   ],
   "source": [
    "majoritize(df).boxplot(column='relevance', by='flag_has_attr')"
   ]
  },
  {
   "cell_type": "markdown",
   "metadata": {},
   "source": [
    "## Text Similarities"
   ]
  },
  {
   "cell_type": "markdown",
   "metadata": {},
   "source": [
    "### BOW"
   ]
  },
  {
   "cell_type": "markdown",
   "metadata": {},
   "source": [
    "### TF-IDF"
   ]
  },
  {
   "cell_type": "code",
   "execution_count": 40,
   "metadata": {
    "collapsed": false
   },
   "outputs": [],
   "source": [
    "from sklearn.feature_extraction.text import TfidfVectorizer\n",
    "from sklearn.decomposition import TruncatedSVD\n",
    "from sklearn.metrics.pairwise import linear_kernel\n",
    "tsvd = TruncatedSVD(n_components=10, random_state=2016)"
   ]
  },
  {
   "cell_type": "markdown",
   "metadata": {},
   "source": [
    "#### ST - PT & ST - PD based on ST"
   ]
  },
  {
   "cell_type": "code",
   "execution_count": 233,
   "metadata": {
    "collapsed": true
   },
   "outputs": [],
   "source": [
    "tiv_from_st = TfidfVectorizer(ngram_range=(1, 3), stop_words='english')\n",
    "tiv_from_st.fit(df['search_term'])\n",
    "tiv_of_st_from_st = tiv_from_st.transform(df['search_term'])\n",
    "tiv_of_pt_from_st = tiv_from_st.transform(df['product_title'])\n",
    "tiv_of_pd_from_st = tiv_from_st.transform(df['product_description'])"
   ]
  },
  {
   "cell_type": "code",
   "execution_count": 241,
   "metadata": {
    "collapsed": true
   },
   "outputs": [
    {
     "name": "stdout",
     "output_type": "stream",
     "text": [
      "0\n",
      "1000\n",
      "2000\n",
      "3000\n",
      "4000\n",
      "5000\n",
      "6000\n",
      "7000\n",
      "8000\n",
      "9000\n",
      "10000\n",
      "11000\n",
      "12000\n",
      "13000\n",
      "14000\n",
      "15000\n",
      "16000\n",
      "17000\n",
      "18000\n",
      "19000\n",
      "20000\n",
      "21000\n",
      "22000\n",
      "23000\n",
      "24000\n",
      "25000\n",
      "26000\n",
      "27000\n",
      "28000\n",
      "29000\n",
      "30000\n",
      "31000\n",
      "32000\n",
      "33000\n",
      "34000\n",
      "35000\n",
      "36000\n",
      "37000\n",
      "38000\n",
      "39000\n",
      "40000\n",
      "41000\n",
      "42000\n",
      "43000\n",
      "44000\n",
      "45000\n",
      "46000\n",
      "47000\n",
      "48000\n",
      "49000\n",
      "50000\n",
      "51000\n",
      "52000\n",
      "53000\n",
      "54000\n",
      "55000\n",
      "56000\n",
      "57000\n",
      "58000\n",
      "59000\n",
      "60000\n",
      "61000\n",
      "62000\n",
      "63000\n",
      "64000\n",
      "65000\n",
      "66000\n",
      "67000\n",
      "68000\n",
      "69000\n",
      "70000\n",
      "71000\n",
      "72000\n",
      "73000\n",
      "74000\n",
      "75000\n",
      "76000\n",
      "77000\n",
      "78000\n",
      "79000\n",
      "80000\n",
      "81000\n",
      "82000\n",
      "83000\n",
      "84000\n",
      "85000\n",
      "86000\n",
      "87000\n",
      "88000\n",
      "89000\n",
      "90000\n",
      "91000\n",
      "92000\n",
      "93000\n",
      "94000\n",
      "95000\n",
      "96000\n",
      "97000\n",
      "98000\n",
      "99000\n",
      "100000\n",
      "101000\n",
      "102000\n",
      "103000\n",
      "104000\n",
      "105000\n",
      "106000\n",
      "107000\n",
      "108000\n",
      "109000\n",
      "110000\n",
      "111000\n",
      "112000\n",
      "113000\n",
      "114000\n",
      "115000\n",
      "116000\n",
      "117000\n",
      "118000\n",
      "119000\n",
      "120000\n",
      "121000\n",
      "122000\n",
      "123000\n",
      "124000\n",
      "125000\n",
      "126000\n",
      "127000\n",
      "128000\n",
      "129000\n",
      "130000\n",
      "131000\n",
      "132000\n",
      "133000\n",
      "134000\n",
      "135000\n",
      "136000\n",
      "137000\n",
      "138000\n",
      "139000\n",
      "140000\n",
      "141000\n",
      "142000\n",
      "143000\n",
      "144000\n",
      "145000\n",
      "146000\n",
      "147000\n",
      "148000\n",
      "149000\n",
      "150000\n",
      "151000\n",
      "152000\n",
      "153000\n",
      "154000\n",
      "155000\n",
      "156000\n",
      "157000\n",
      "158000\n",
      "159000\n",
      "160000\n",
      "161000\n",
      "162000\n",
      "163000\n",
      "164000\n",
      "165000\n",
      "166000\n",
      "167000\n",
      "168000\n",
      "169000\n",
      "170000\n",
      "171000\n",
      "172000\n",
      "173000\n",
      "174000\n",
      "175000\n",
      "176000\n",
      "177000\n",
      "178000\n",
      "179000\n",
      "180000\n",
      "181000\n",
      "182000\n",
      "183000\n",
      "184000\n",
      "185000\n",
      "186000\n",
      "187000\n",
      "188000\n",
      "189000\n",
      "190000\n",
      "191000\n",
      "192000\n",
      "193000\n",
      "194000\n",
      "195000\n",
      "196000\n",
      "197000\n",
      "198000\n",
      "199000\n",
      "200000\n",
      "201000\n",
      "202000\n",
      "203000\n",
      "204000\n",
      "205000\n",
      "206000\n",
      "207000\n",
      "208000\n",
      "209000\n",
      "210000\n",
      "211000\n",
      "212000\n",
      "213000\n",
      "214000\n",
      "215000\n",
      "216000\n",
      "217000\n",
      "218000\n",
      "219000\n",
      "220000\n",
      "221000\n",
      "222000\n",
      "223000\n",
      "224000\n",
      "225000\n",
      "226000\n",
      "227000\n",
      "228000\n",
      "229000\n",
      "230000\n",
      "231000\n",
      "232000\n",
      "233000\n",
      "234000\n",
      "235000\n",
      "236000\n",
      "237000\n",
      "238000\n",
      "239000\n",
      "240000\n"
     ]
    }
   ],
   "source": [
    "tiv_cos_sim_st_pt_from_st = []\n",
    "for idx in range(tiv_of_st_from_st.shape[0]):\n",
    "    if idx % 10000 == 0:\n",
    "        print(idx)\n",
    "    tiv_cos_sim_st_pt_from_st.append(linear_kernel(tiv_of_st_from_st[idx], tiv_of_pt_from_st[idx])[0][0])\n",
    "df['tiv_cos_sim_st_pt_from_st'] = tiv_cos_sim_st_pt_from_st"
   ]
  },
  {
   "cell_type": "code",
   "execution_count": 245,
   "metadata": {
    "collapsed": false
   },
   "outputs": [
    {
     "data": {
      "text/plain": [
       "<matplotlib.axes._subplots.AxesSubplot at 0x1b1c4dc50>"
      ]
     },
     "execution_count": 245,
     "metadata": {},
     "output_type": "execute_result"
    },
    {
     "data": {
      "image/png": "[encoded data removed]",
      "text/plain": [
       "<matplotlib.figure.Figure at 0x1c261ca20>"
      ]
     },
     "metadata": {},
     "output_type": "display_data"
    }
   ],
   "source": [
    "majoritize(df).boxplot(column='tiv_cos_sim_st_pt_from_st', by='relevance')"
   ]
  },
  {
   "cell_type": "code",
   "execution_count": 246,
   "metadata": {
    "collapsed": false
   },
   "outputs": [
    {
     "name": "stdout",
     "output_type": "stream",
     "text": [
      "0\n",
      "10000\n",
      "20000\n",
      "30000\n",
      "40000\n",
      "50000\n",
      "60000\n",
      "70000\n",
      "80000\n",
      "90000\n",
      "100000\n",
      "110000\n",
      "120000\n",
      "130000\n",
      "140000\n",
      "150000\n",
      "160000\n",
      "170000\n",
      "180000\n",
      "190000\n",
      "200000\n",
      "210000\n",
      "220000\n",
      "230000\n",
      "240000\n"
     ]
    }
   ],
   "source": [
    "tiv_cos_sim_st_pd_from_st = []\n",
    "for idx in range(tiv_of_st_from_st.shape[0]):\n",
    "    if idx % 10000 == 0:\n",
    "        print(idx)\n",
    "    tiv_cos_sim_st_pd_from_st.append(linear_kernel(tiv_of_st_from_st[idx], tiv_of_pd_from_st[idx])[0][0])\n",
    "df['tiv_cos_sim_st_pd_from_st'] = tiv_cos_sim_st_pd_from_st"
   ]
  },
  {
   "cell_type": "code",
   "execution_count": 247,
   "metadata": {
    "collapsed": false
   },
   "outputs": [
    {
     "data": {
      "text/plain": [
       "<matplotlib.axes._subplots.AxesSubplot at 0x1ac139a20>"
      ]
     },
     "execution_count": 247,
     "metadata": {},
     "output_type": "execute_result"
    },
    {
     "data": {
      "image/png": "[encoded data removed]",
      "text/plain": [
       "<matplotlib.figure.Figure at 0x198a19ac8>"
      ]
     },
     "metadata": {},
     "output_type": "display_data"
    }
   ],
   "source": [
    "majoritize(df).boxplot(column='tiv_cos_sim_st_pd_from_st', by='relevance')"
   ]
  },
  {
   "cell_type": "markdown",
   "metadata": {},
   "source": [
    "#### ST - PT based on PT"
   ]
  },
  {
   "cell_type": "code",
   "execution_count": 42,
   "metadata": {
    "collapsed": true
   },
   "outputs": [
    {
     "data": {
      "text/plain": [
       "TfidfVectorizer(analyzer='word', binary=False, decode_error='strict',\n",
       "        dtype=<class 'numpy.int64'>, encoding='utf-8', input='content',\n",
       "        lowercase=True, max_df=1.0, max_features=None, min_df=1,\n",
       "        ngram_range=(1, 3), norm='l2', preprocessor=None, smooth_idf=True,\n",
       "        stop_words='english', strip_accents=None, sublinear_tf=False,\n",
       "        token_pattern='(?u)\\\\b\\\\w\\\\w+\\\\b', tokenizer=None, use_idf=True,\n",
       "        vocabulary=None)"
      ]
     },
     "execution_count": 42,
     "metadata": {},
     "output_type": "execute_result"
    }
   ],
   "source": [
    "tiv_from_pt = TfidfVectorizer(ngram_range=(1, 3), stop_words='english')\n",
    "tiv_from_pt.fit(df['product_title'])\n",
    "tiv_of_pt_from_pt = tiv_from_pt.transform(df['product_title'])\n",
    "tiv_of_st_from_pt = tiv_from_pt.transform(df['search_term'])"
   ]
  },
  {
   "cell_type": "code",
   "execution_count": 59,
   "metadata": {
    "collapsed": true
   },
   "outputs": [
    {
     "name": "stdout",
     "output_type": "stream",
     "text": [
      "0\n",
      "1000\n",
      "2000\n",
      "3000\n",
      "4000\n",
      "5000\n",
      "6000\n",
      "7000\n",
      "8000\n",
      "9000\n",
      "10000\n",
      "11000\n",
      "12000\n",
      "13000\n",
      "14000\n",
      "15000\n",
      "16000\n",
      "17000\n",
      "18000\n",
      "19000\n",
      "20000\n",
      "21000\n",
      "22000\n",
      "23000\n",
      "24000\n",
      "25000\n",
      "26000\n",
      "27000\n",
      "28000\n",
      "29000\n",
      "30000\n",
      "31000\n",
      "32000\n",
      "33000\n",
      "34000\n",
      "35000\n",
      "36000\n",
      "37000\n",
      "38000\n",
      "39000\n",
      "40000\n",
      "41000\n",
      "42000\n",
      "43000\n",
      "44000\n",
      "45000\n",
      "46000\n",
      "47000\n",
      "48000\n",
      "49000\n",
      "50000\n",
      "51000\n",
      "52000\n",
      "53000\n",
      "54000\n",
      "55000\n",
      "56000\n",
      "57000\n",
      "58000\n",
      "59000\n",
      "60000\n",
      "61000\n",
      "62000\n",
      "63000\n",
      "64000\n",
      "65000\n",
      "66000\n",
      "67000\n",
      "68000\n",
      "69000\n",
      "70000\n",
      "71000\n",
      "72000\n",
      "73000\n",
      "74000\n",
      "75000\n",
      "76000\n",
      "77000\n",
      "78000\n",
      "79000\n",
      "80000\n",
      "81000\n",
      "82000\n",
      "83000\n",
      "84000\n",
      "85000\n",
      "86000\n",
      "87000\n",
      "88000\n",
      "89000\n",
      "90000\n",
      "91000\n",
      "92000\n",
      "93000\n",
      "94000\n",
      "95000\n",
      "96000\n",
      "97000\n",
      "98000\n",
      "99000\n",
      "100000\n",
      "101000\n",
      "102000\n",
      "103000\n",
      "104000\n",
      "105000\n",
      "106000\n",
      "107000\n",
      "108000\n",
      "109000\n",
      "110000\n",
      "111000\n",
      "112000\n",
      "113000\n",
      "114000\n",
      "115000\n",
      "116000\n",
      "117000\n",
      "118000\n",
      "119000\n",
      "120000\n",
      "121000\n",
      "122000\n",
      "123000\n",
      "124000\n",
      "125000\n",
      "126000\n",
      "127000\n",
      "128000\n",
      "129000\n",
      "130000\n",
      "131000\n",
      "132000\n",
      "133000\n",
      "134000\n",
      "135000\n",
      "136000\n",
      "137000\n",
      "138000\n",
      "139000\n",
      "140000\n",
      "141000\n",
      "142000\n",
      "143000\n",
      "144000\n",
      "145000\n",
      "146000\n",
      "147000\n",
      "148000\n",
      "149000\n",
      "150000\n",
      "151000\n",
      "152000\n",
      "153000\n",
      "154000\n",
      "155000\n",
      "156000\n",
      "157000\n",
      "158000\n",
      "159000\n",
      "160000\n",
      "161000\n",
      "162000\n",
      "163000\n",
      "164000\n",
      "165000\n",
      "166000\n",
      "167000\n",
      "168000\n",
      "169000\n",
      "170000\n",
      "171000\n",
      "172000\n",
      "173000\n",
      "174000\n",
      "175000\n",
      "176000\n",
      "177000\n",
      "178000\n",
      "179000\n",
      "180000\n",
      "181000\n",
      "182000\n",
      "183000\n",
      "184000\n",
      "185000\n",
      "186000\n",
      "187000\n",
      "188000\n",
      "189000\n",
      "190000\n",
      "191000\n",
      "192000\n",
      "193000\n",
      "194000\n",
      "195000\n",
      "196000\n",
      "197000\n",
      "198000\n",
      "199000\n",
      "200000\n",
      "201000\n",
      "202000\n",
      "203000\n",
      "204000\n",
      "205000\n",
      "206000\n",
      "207000\n",
      "208000\n",
      "209000\n",
      "210000\n",
      "211000\n",
      "212000\n",
      "213000\n",
      "214000\n",
      "215000\n",
      "216000\n",
      "217000\n",
      "218000\n",
      "219000\n",
      "220000\n",
      "221000\n",
      "222000\n",
      "223000\n",
      "224000\n",
      "225000\n",
      "226000\n",
      "227000\n",
      "228000\n",
      "229000\n",
      "230000\n",
      "231000\n",
      "232000\n",
      "233000\n",
      "234000\n",
      "235000\n",
      "236000\n",
      "237000\n",
      "238000\n",
      "239000\n",
      "240000\n"
     ]
    }
   ],
   "source": [
    "tiv_cos_sim_st_pt_from_pt = []\n",
    "for idx in range(tiv_of_st_from_pt.shape[0]):\n",
    "    if idx % 1000 == 0:\n",
    "        print(idx)\n",
    "    tiv_cos_sim_st_pt.append(linear_kernel(tiv_of_st_from_pt[idx], tiv_of_pt_from_pt[idx])[0][0])"
   ]
  },
  {
   "cell_type": "code",
   "execution_count": 107,
   "metadata": {
    "collapsed": true
   },
   "outputs": [
    {
     "ename": "NameError",
     "evalue": "name 'tiv_cos_sim_st_pt_from_pt' is not defined",
     "output_type": "error",
     "traceback": [
      "\u001b[1;31m---------------------------------------------------------------------------\u001b[0m",
      "\u001b[1;31mNameError\u001b[0m                                 Traceback (most recent call last)",
      "\u001b[1;32m<ipython-input-107-01aecc23425d>\u001b[0m in \u001b[0;36m<module>\u001b[1;34m()\u001b[0m\n\u001b[1;32m----> 1\u001b[1;33m \u001b[0mdf\u001b[0m\u001b[1;33m[\u001b[0m\u001b[1;34m'tiv_cos_sim_st_pt_from_pt'\u001b[0m\u001b[1;33m]\u001b[0m \u001b[1;33m=\u001b[0m \u001b[0mtiv_cos_sim_st_pt_from_pt\u001b[0m\u001b[1;33m\u001b[0m\u001b[0m\n\u001b[0m\u001b[0;32m      2\u001b[0m \u001b[0mdf\u001b[0m\u001b[1;33m.\u001b[0m\u001b[0mboxplot\u001b[0m\u001b[1;33m(\u001b[0m\u001b[0mcolumn\u001b[0m\u001b[1;33m=\u001b[0m\u001b[1;34m'tiv_cos_sim_st_pt_from_pt'\u001b[0m\u001b[1;33m,\u001b[0m \u001b[0mby\u001b[0m\u001b[1;33m=\u001b[0m\u001b[1;34m'relevance'\u001b[0m\u001b[1;33m)\u001b[0m\u001b[1;33m\u001b[0m\u001b[0m\n",
      "\u001b[1;31mNameError\u001b[0m: name 'tiv_cos_sim_st_pt_from_pt' is not defined"
     ]
    }
   ],
   "source": [
    "df['tiv_cos_sim_st_pt_from_pt'] = tiv_cos_sim_st_pt_from_pt"
   ]
  },
  {
   "cell_type": "code",
   "execution_count": 118,
   "metadata": {
    "collapsed": false
   },
   "outputs": [
    {
     "data": {
      "text/plain": [
       "<matplotlib.axes._subplots.AxesSubplot at 0x164960cc0>"
      ]
     },
     "execution_count": 118,
     "metadata": {},
     "output_type": "execute_result"
    },
    {
     "data": {
      "image/png": "[encoded data removed]",
      "text/plain": [
       "<matplotlib.figure.Figure at 0x16496ef28>"
      ]
     },
     "metadata": {},
     "output_type": "display_data"
    }
   ],
   "source": [
    "majoritize(df).boxplot(column='tiv_cos_sim_st_pt_from_pt', by='relevance')"
   ]
  },
  {
   "cell_type": "markdown",
   "metadata": {},
   "source": [
    "#### ST - PT based on PT"
   ]
  },
  {
   "cell_type": "code",
   "execution_count": null,
   "metadata": {
    "collapsed": true
   },
   "outputs": [],
   "source": [
    "tiv_from_pd = TfidfVectorizer(ngram_range=(1, 3), stop_words='english')\n",
    "tiv_from_pd.fit(df['product_description'])\n",
    "tiv_of_pd_from_pd = tiv_from_pd.transform(df['product_description'])\n",
    "tiv_of_st_from_pd = tiv_from_pd.transform(df['search_term'])"
   ]
  },
  {
   "cell_type": "code",
   "execution_count": 73,
   "metadata": {
    "collapsed": true
   },
   "outputs": [
    {
     "name": "stdout",
     "output_type": "stream",
     "text": [
      "0\n",
      "1000\n",
      "2000\n",
      "3000\n",
      "4000\n",
      "5000\n",
      "6000\n",
      "7000\n",
      "8000\n",
      "9000\n",
      "10000\n",
      "11000\n",
      "12000\n",
      "13000\n",
      "14000\n",
      "15000\n",
      "16000\n",
      "17000\n",
      "18000\n",
      "19000\n",
      "20000\n",
      "21000\n",
      "22000\n",
      "23000\n",
      "24000\n",
      "25000\n",
      "26000\n",
      "27000\n",
      "28000\n",
      "29000\n",
      "30000\n",
      "31000\n",
      "32000\n",
      "33000\n",
      "34000\n",
      "35000\n",
      "36000\n",
      "37000\n",
      "38000\n",
      "39000\n",
      "40000\n",
      "41000\n",
      "42000\n",
      "43000\n",
      "44000\n",
      "45000\n",
      "46000\n",
      "47000\n",
      "48000\n",
      "49000\n",
      "50000\n",
      "51000\n",
      "52000\n",
      "53000\n",
      "54000\n",
      "55000\n",
      "56000\n",
      "57000\n",
      "58000\n",
      "59000\n",
      "60000\n",
      "61000\n",
      "62000\n",
      "63000\n",
      "64000\n",
      "65000\n",
      "66000\n",
      "67000\n",
      "68000\n",
      "69000\n",
      "70000\n",
      "71000\n",
      "72000\n",
      "73000\n",
      "74000\n",
      "75000\n",
      "76000\n",
      "77000\n",
      "78000\n",
      "79000\n",
      "80000\n",
      "81000\n",
      "82000\n",
      "83000\n",
      "84000\n",
      "85000\n",
      "86000\n",
      "87000\n",
      "88000\n",
      "89000\n",
      "90000\n",
      "91000\n",
      "92000\n",
      "93000\n",
      "94000\n",
      "95000\n",
      "96000\n",
      "97000\n",
      "98000\n",
      "99000\n",
      "100000\n",
      "101000\n",
      "102000\n",
      "103000\n",
      "104000\n",
      "105000\n",
      "106000\n",
      "107000\n",
      "108000\n",
      "109000\n",
      "110000\n",
      "111000\n",
      "112000\n",
      "113000\n",
      "114000\n",
      "115000\n",
      "116000\n",
      "117000\n",
      "118000\n",
      "119000\n",
      "120000\n",
      "121000\n",
      "122000\n",
      "123000\n",
      "124000\n",
      "125000\n",
      "126000\n",
      "127000\n",
      "128000\n",
      "129000\n",
      "130000\n",
      "131000\n",
      "132000\n",
      "133000\n",
      "134000\n",
      "135000\n",
      "136000\n",
      "137000\n",
      "138000\n",
      "139000\n",
      "140000\n",
      "141000\n",
      "142000\n",
      "143000\n",
      "144000\n",
      "145000\n",
      "146000\n",
      "147000\n",
      "148000\n",
      "149000\n",
      "150000\n",
      "151000\n",
      "152000\n",
      "153000\n",
      "154000\n",
      "155000\n",
      "156000\n",
      "157000\n",
      "158000\n",
      "159000\n",
      "160000\n",
      "161000\n",
      "162000\n",
      "163000\n",
      "164000\n",
      "165000\n",
      "166000\n",
      "167000\n",
      "168000\n",
      "169000\n",
      "170000\n",
      "171000\n",
      "172000\n",
      "173000\n",
      "174000\n",
      "175000\n",
      "176000\n",
      "177000\n",
      "178000\n",
      "179000\n",
      "180000\n",
      "181000\n",
      "182000\n",
      "183000\n",
      "184000\n",
      "185000\n",
      "186000\n",
      "187000\n",
      "188000\n",
      "189000\n",
      "190000\n",
      "191000\n",
      "192000\n",
      "193000\n",
      "194000\n",
      "195000\n",
      "196000\n",
      "197000\n",
      "198000\n",
      "199000\n",
      "200000\n",
      "201000\n",
      "202000\n",
      "203000\n",
      "204000\n",
      "205000\n",
      "206000\n",
      "207000\n",
      "208000\n",
      "209000\n",
      "210000\n",
      "211000\n",
      "212000\n",
      "213000\n",
      "214000\n",
      "215000\n",
      "216000\n",
      "217000\n",
      "218000\n",
      "219000\n",
      "220000\n",
      "221000\n",
      "222000\n",
      "223000\n",
      "224000\n",
      "225000\n",
      "226000\n",
      "227000\n",
      "228000\n",
      "229000\n",
      "230000\n",
      "231000\n",
      "232000\n",
      "233000\n",
      "234000\n",
      "235000\n",
      "236000\n",
      "237000\n",
      "238000\n",
      "239000\n",
      "240000\n"
     ]
    }
   ],
   "source": [
    "tiv_cos_sim_st_pd_from_pd = []\n",
    "for idx in range(tiv_of_st_from_pd.shape[0]):\n",
    "    if idx % 1000 == 0:\n",
    "        print(idx)\n",
    "    tiv_cos_sim_st_pd.append(linear_kernel(tiv_of_st_from_pd[idx], tiv_of_pd_from_pd[idx])[0][0])"
   ]
  },
  {
   "cell_type": "code",
   "execution_count": 128,
   "metadata": {
    "collapsed": false
   },
   "outputs": [],
   "source": [
    "df['tiv_cos_sim_st_pd_from_pd'] = tiv_cos_sim_st_pd_from_pd"
   ]
  },
  {
   "cell_type": "code",
   "execution_count": 130,
   "metadata": {
    "collapsed": false,
    "scrolled": true
   },
   "outputs": [
    {
     "data": {
      "text/plain": [
       "<matplotlib.axes._subplots.AxesSubplot at 0xb81524e0>"
      ]
     },
     "execution_count": 130,
     "metadata": {},
     "output_type": "execute_result"
    },
    {
     "data": {
      "image/png": "[encoded data removed]",
      "text/plain": [
       "<matplotlib.figure.Figure at 0xb81f36a0>"
      ]
     },
     "metadata": {},
     "output_type": "display_data"
    }
   ],
   "source": [
    "majoritize(df).boxplot(column='tiv_cos_sim_st_pd_from_pd', by='relevance', figsize=(5, 5))"
   ]
  },
  {
   "cell_type": "markdown",
   "metadata": {},
   "source": [
    "### Jaccard"
   ]
  },
  {
   "cell_type": "code",
   "execution_count": 80,
   "metadata": {
    "collapsed": true
   },
   "outputs": [],
   "source": [
    "def jaccard(A, B):\n",
    "    C = A.intersection(B)\n",
    "    return float(len(C)) / (len(A) + len(B) - len(C))"
   ]
  },
  {
   "cell_type": "code",
   "execution_count": 103,
   "metadata": {
    "collapsed": false
   },
   "outputs": [],
   "source": [
    "df['jaccard_st_pt'] = df.apply(lambda x: jaccard(set(x['tokens_search_term']), set(x['tokens_product_title'])), axis=1)\n",
    "df['jaccard_st_pd'] = df.apply(lambda x: jaccard(set(x['search_term']), set(x['product_description'])), axis=1)    \n",
    "df['jaccard_st_br'] = df.apply(lambda x: jaccard(set(x['search_term']), set(x['brand'])), axis=1) "
   ]
  },
  {
   "cell_type": "code",
   "execution_count": 123,
   "metadata": {
    "collapsed": false,
    "scrolled": true
   },
   "outputs": [
    {
     "data": {
      "text/plain": [
       "<matplotlib.axes._subplots.AxesSubplot at 0xb83997f0>"
      ]
     },
     "execution_count": 123,
     "metadata": {},
     "output_type": "execute_result"
    },
    {
     "data": {
      "image/png": "[encoded data removed]",
      "text/plain": [
       "<matplotlib.figure.Figure at 0xb839fc50>"
      ]
     },
     "metadata": {},
     "output_type": "display_data"
    }
   ],
   "source": [
    "majoritize(df).boxplot(column='jaccard_st_pt', by='relevance', figsize=(5, 5))"
   ]
  },
  {
   "cell_type": "code",
   "execution_count": 124,
   "metadata": {
    "collapsed": false
   },
   "outputs": [
    {
     "data": {
      "text/plain": [
       "<matplotlib.axes._subplots.AxesSubplot at 0xb84994e0>"
      ]
     },
     "execution_count": 124,
     "metadata": {},
     "output_type": "execute_result"
    },
    {
     "data": {
      "image/png": "[encoded data removed]",
      "text/plain": [
       "<matplotlib.figure.Figure at 0xb8403898>"
      ]
     },
     "metadata": {},
     "output_type": "display_data"
    }
   ],
   "source": [
    "# not very useful\n",
    "majoritize(df).boxplot(column='jaccard_st_pd', by='relevance', figsize=(5, 5))"
   ]
  },
  {
   "cell_type": "code",
   "execution_count": 125,
   "metadata": {
    "collapsed": false
   },
   "outputs": [
    {
     "data": {
      "text/plain": [
       "<matplotlib.axes._subplots.AxesSubplot at 0xb8142dd8>"
      ]
     },
     "execution_count": 125,
     "metadata": {},
     "output_type": "execute_result"
    },
    {
     "data": {
      "image/png": "[encoded data removed]",
      "text/plain": [
       "<matplotlib.figure.Figure at 0xb9f15a90>"
      ]
     },
     "metadata": {},
     "output_type": "display_data"
    }
   ],
   "source": [
    "# not very useful\n",
    "majoritize(df).boxplot(column='jaccard_st_br', by='relevance', figsize=(5, 5))"
   ]
  },
  {
   "cell_type": "markdown",
   "metadata": {},
   "source": [
    "### Edit Distance"
   ]
  },
  {
   "cell_type": "code",
   "execution_count": null,
   "metadata": {
    "collapsed": true
   },
   "outputs": [],
   "source": [
    "from nltk.metrics import edit_distance"
   ]
  },
  {
   "cell_type": "markdown",
   "metadata": {},
   "source": [
    "## tSVD"
   ]
  },
  {
   "cell_type": "code",
   "execution_count": 224,
   "metadata": {
    "collapsed": true
   },
   "outputs": [],
   "source": [
    "tfidf = TfidfVectorizer(ngram_range=(1, 3), stop_words='english')\n",
    "tsvd = TruncatedSVD(n_components=20, random_state=2016)"
   ]
  },
  {
   "cell_type": "code",
   "execution_count": 225,
   "metadata": {
    "collapsed": false
   },
   "outputs": [],
   "source": [
    "st_tfidf_tsvd = tsvd.fit_transform(tfidf.fit_transform(df['search_term']))\n",
    "for i in range(st_tfidf_tsvd.shape[1]):\n",
    "    df['st_tfidf_tsvd_'+str(i)] = st_tfidf_tsvd[:,i]"
   ]
  },
  {
   "cell_type": "code",
   "execution_count": 226,
   "metadata": {
    "collapsed": false
   },
   "outputs": [],
   "source": [
    "pt_tfidf_tsvd = tsvd.fit_transform(tfidf.fit_transform(df['product_title']))\n",
    "for i in range(pt_tfidf_tsvd.shape[1]):\n",
    "    df['pt_tfidf_tsvd_'+str(i)] = pt_tfidf_tsvd[:,i]"
   ]
  },
  {
   "cell_type": "code",
   "execution_count": 227,
   "metadata": {
    "collapsed": true
   },
   "outputs": [],
   "source": [
    "pd_tfidf_tsvd = tsvd.fit_transform(tfidf.fit_transform(df['product_description']))\n",
    "for i in range(pd_tfidf_tsvd.shape[1]):\n",
    "    df['pd_tfidf_tsvd_'+str(i)] = pd_tfidf_tsvd[:,i]"
   ]
  },
  {
   "cell_type": "markdown",
   "metadata": {},
   "source": [
    "### tSVD based Cosine Similarity"
   ]
  },
  {
   "cell_type": "code",
   "execution_count": 210,
   "metadata": {
    "collapsed": false
   },
   "outputs": [],
   "source": [
    "from sklearn.metrics.pairwise import cosine_similarity"
   ]
  },
  {
   "cell_type": "code",
   "execution_count": 228,
   "metadata": {
    "collapsed": true
   },
   "outputs": [
    {
     "name": "stdout",
     "output_type": "stream",
     "text": [
      "0\n",
      "1000\n",
      "2000\n",
      "3000\n",
      "4000\n",
      "5000\n",
      "6000\n",
      "7000\n",
      "8000\n",
      "9000\n",
      "10000\n",
      "11000\n",
      "12000\n",
      "13000\n",
      "14000\n",
      "15000\n",
      "16000\n",
      "17000\n",
      "18000\n",
      "19000\n",
      "20000\n",
      "21000\n",
      "22000\n",
      "23000\n",
      "24000\n",
      "25000\n",
      "26000\n",
      "27000\n",
      "28000\n",
      "29000\n",
      "30000\n",
      "31000\n",
      "32000\n",
      "33000\n",
      "34000\n",
      "35000\n",
      "36000\n",
      "37000\n",
      "38000\n",
      "39000\n",
      "40000\n",
      "41000\n",
      "42000\n",
      "43000\n",
      "44000\n",
      "45000\n",
      "46000\n",
      "47000\n",
      "48000\n",
      "49000\n",
      "50000\n",
      "51000\n",
      "52000\n",
      "53000\n",
      "54000\n",
      "55000\n",
      "56000\n",
      "57000\n",
      "58000\n",
      "59000\n",
      "60000\n",
      "61000\n",
      "62000\n",
      "63000\n",
      "64000\n",
      "65000\n",
      "66000\n",
      "67000\n",
      "68000\n",
      "69000\n",
      "70000\n",
      "71000\n",
      "72000\n",
      "73000\n",
      "74000\n",
      "75000\n",
      "76000\n",
      "77000\n",
      "78000\n",
      "79000\n",
      "80000\n",
      "81000\n",
      "82000\n",
      "83000\n",
      "84000\n",
      "85000\n",
      "86000\n",
      "87000\n",
      "88000\n",
      "89000\n",
      "90000\n",
      "91000\n",
      "92000\n",
      "93000\n",
      "94000\n",
      "95000\n",
      "96000\n",
      "97000\n",
      "98000\n",
      "99000\n",
      "100000\n",
      "101000\n",
      "102000\n",
      "103000\n",
      "104000\n",
      "105000\n",
      "106000\n",
      "107000\n",
      "108000\n",
      "109000\n",
      "110000\n",
      "111000\n",
      "112000\n",
      "113000\n",
      "114000\n",
      "115000\n",
      "116000\n",
      "117000\n",
      "118000\n",
      "119000\n",
      "120000\n",
      "121000\n",
      "122000\n",
      "123000\n",
      "124000\n",
      "125000\n",
      "126000\n",
      "127000\n",
      "128000\n",
      "129000\n",
      "130000\n",
      "131000\n",
      "132000\n",
      "133000\n",
      "134000\n",
      "135000\n",
      "136000\n",
      "137000\n",
      "138000\n",
      "139000\n",
      "140000\n",
      "141000\n",
      "142000\n",
      "143000\n",
      "144000\n",
      "145000\n",
      "146000\n",
      "147000\n",
      "148000\n",
      "149000\n",
      "150000\n",
      "151000\n",
      "152000\n",
      "153000\n",
      "154000\n",
      "155000\n",
      "156000\n",
      "157000\n",
      "158000\n",
      "159000\n",
      "160000\n",
      "161000\n",
      "162000\n",
      "163000\n",
      "164000\n",
      "165000\n",
      "166000\n",
      "167000\n",
      "168000\n",
      "169000\n",
      "170000\n",
      "171000\n",
      "172000\n",
      "173000\n",
      "174000\n",
      "175000\n",
      "176000\n",
      "177000\n",
      "178000\n",
      "179000\n",
      "180000\n",
      "181000\n",
      "182000\n",
      "183000\n",
      "184000\n",
      "185000\n",
      "186000\n",
      "187000\n",
      "188000\n",
      "189000\n",
      "190000\n",
      "191000\n",
      "192000\n",
      "193000\n",
      "194000\n",
      "195000\n",
      "196000\n",
      "197000\n",
      "198000\n",
      "199000\n",
      "200000\n",
      "201000\n",
      "202000\n",
      "203000\n",
      "204000\n",
      "205000\n",
      "206000\n",
      "207000\n",
      "208000\n",
      "209000\n",
      "210000\n",
      "211000\n",
      "212000\n",
      "213000\n",
      "214000\n",
      "215000\n",
      "216000\n",
      "217000\n",
      "218000\n",
      "219000\n",
      "220000\n",
      "221000\n",
      "222000\n",
      "223000\n",
      "224000\n",
      "225000\n",
      "226000\n",
      "227000\n",
      "228000\n",
      "229000\n",
      "230000\n",
      "231000\n",
      "232000\n",
      "233000\n",
      "234000\n",
      "235000\n",
      "236000\n",
      "237000\n",
      "238000\n",
      "239000\n",
      "240000\n"
     ]
    }
   ],
   "source": [
    "tsvd_cos_sim_st_pt = []\n",
    "for idx in range(st_tfidf_tsvd.shape[0]):\n",
    "    if idx % 1000 == 0:\n",
    "        print(idx)\n",
    "    tsvd_cos_sim_st_pt.append(cosine_similarity(st_tfidf_tsvd[idx], pt_tfidf_tsvd[idx])[0][0])"
   ]
  },
  {
   "cell_type": "code",
   "execution_count": 229,
   "metadata": {
    "collapsed": true
   },
   "outputs": [],
   "source": [
    "df['tsvd_cos_sim_st_pt'] = tsvd_cos_sim_st_pt"
   ]
  },
  {
   "cell_type": "code",
   "execution_count": 234,
   "metadata": {
    "collapsed": false
   },
   "outputs": [
    {
     "data": {
      "text/plain": [
       "<matplotlib.axes._subplots.AxesSubplot at 0x19f2cc160>"
      ]
     },
     "execution_count": 234,
     "metadata": {},
     "output_type": "execute_result"
    },
    {
     "data": {
      "image/png": "[encoded data removed]",
      "text/plain": [
       "<matplotlib.figure.Figure at 0x1644ee128>"
      ]
     },
     "metadata": {},
     "output_type": "display_data"
    }
   ],
   "source": [
    "majoritize(df).boxplot(column='tsvd_cos_sim_st_pt', by='relevance', figsize=(5, 5))"
   ]
  },
  {
   "cell_type": "code",
   "execution_count": 230,
   "metadata": {
    "collapsed": true
   },
   "outputs": [
    {
     "name": "stdout",
     "output_type": "stream",
     "text": [
      "0\n",
      "1000\n",
      "2000\n",
      "3000\n",
      "4000\n",
      "5000\n",
      "6000\n",
      "7000\n",
      "8000\n",
      "9000\n",
      "10000\n",
      "11000\n",
      "12000\n",
      "13000\n",
      "14000\n",
      "15000\n",
      "16000\n",
      "17000\n",
      "18000\n",
      "19000\n",
      "20000\n",
      "21000\n",
      "22000\n",
      "23000\n",
      "24000\n",
      "25000\n",
      "26000\n",
      "27000\n",
      "28000\n",
      "29000\n",
      "30000\n",
      "31000\n",
      "32000\n",
      "33000\n",
      "34000\n",
      "35000\n",
      "36000\n",
      "37000\n",
      "38000\n",
      "39000\n",
      "40000\n",
      "41000\n",
      "42000\n",
      "43000\n",
      "44000\n",
      "45000\n",
      "46000\n",
      "47000\n",
      "48000\n",
      "49000\n",
      "50000\n",
      "51000\n",
      "52000\n",
      "53000\n",
      "54000\n",
      "55000\n",
      "56000\n",
      "57000\n",
      "58000\n",
      "59000\n",
      "60000\n",
      "61000\n",
      "62000\n",
      "63000\n",
      "64000\n",
      "65000\n",
      "66000\n",
      "67000\n",
      "68000\n",
      "69000\n",
      "70000\n",
      "71000\n",
      "72000\n",
      "73000\n",
      "74000\n",
      "75000\n",
      "76000\n",
      "77000\n",
      "78000\n",
      "79000\n",
      "80000\n",
      "81000\n",
      "82000\n",
      "83000\n",
      "84000\n",
      "85000\n",
      "86000\n",
      "87000\n",
      "88000\n",
      "89000\n",
      "90000\n",
      "91000\n",
      "92000\n",
      "93000\n",
      "94000\n",
      "95000\n",
      "96000\n",
      "97000\n",
      "98000\n",
      "99000\n",
      "100000\n",
      "101000\n",
      "102000\n",
      "103000\n",
      "104000\n",
      "105000\n",
      "106000\n",
      "107000\n",
      "108000\n",
      "109000\n",
      "110000\n",
      "111000\n",
      "112000\n",
      "113000\n",
      "114000\n",
      "115000\n",
      "116000\n",
      "117000\n",
      "118000\n",
      "119000\n",
      "120000\n",
      "121000\n",
      "122000\n",
      "123000\n",
      "124000\n",
      "125000\n",
      "126000\n",
      "127000\n",
      "128000\n",
      "129000\n",
      "130000\n",
      "131000\n",
      "132000\n",
      "133000\n",
      "134000\n",
      "135000\n",
      "136000\n",
      "137000\n",
      "138000\n",
      "139000\n",
      "140000\n",
      "141000\n",
      "142000\n",
      "143000\n",
      "144000\n",
      "145000\n",
      "146000\n",
      "147000\n",
      "148000\n",
      "149000\n",
      "150000\n",
      "151000\n",
      "152000\n",
      "153000\n",
      "154000\n",
      "155000\n",
      "156000\n",
      "157000\n",
      "158000\n",
      "159000\n",
      "160000\n",
      "161000\n",
      "162000\n",
      "163000\n",
      "164000\n",
      "165000\n",
      "166000\n",
      "167000\n",
      "168000\n",
      "169000\n",
      "170000\n",
      "171000\n",
      "172000\n",
      "173000\n",
      "174000\n",
      "175000\n",
      "176000\n",
      "177000\n",
      "178000\n",
      "179000\n",
      "180000\n",
      "181000\n",
      "182000\n",
      "183000\n",
      "184000\n",
      "185000\n",
      "186000\n",
      "187000\n",
      "188000\n",
      "189000\n",
      "190000\n",
      "191000\n",
      "192000\n",
      "193000\n",
      "194000\n",
      "195000\n",
      "196000\n",
      "197000\n",
      "198000\n",
      "199000\n",
      "200000\n",
      "201000\n",
      "202000\n",
      "203000\n",
      "204000\n",
      "205000\n",
      "206000\n",
      "207000\n",
      "208000\n",
      "209000\n",
      "210000\n",
      "211000\n",
      "212000\n",
      "213000\n",
      "214000\n",
      "215000\n",
      "216000\n",
      "217000\n",
      "218000\n",
      "219000\n",
      "220000\n",
      "221000\n",
      "222000\n",
      "223000\n",
      "224000\n",
      "225000\n",
      "226000\n",
      "227000\n",
      "228000\n",
      "229000\n",
      "230000\n",
      "231000\n",
      "232000\n",
      "233000\n",
      "234000\n",
      "235000\n",
      "236000\n",
      "237000\n",
      "238000\n",
      "239000\n",
      "240000\n"
     ]
    }
   ],
   "source": [
    "tsvd_cos_sim_st_pd = []\n",
    "for idx in range(st_tfidf_tsvd.shape[0]):\n",
    "    if idx % 1000 == 0:\n",
    "        print(idx)\n",
    "    tsvd_cos_sim_st_pd.append(cosine_similarity(st_tfidf_tsvd[idx], pd_tfidf_tsvd[idx])[0][0])"
   ]
  },
  {
   "cell_type": "code",
   "execution_count": 231,
   "metadata": {
    "collapsed": true
   },
   "outputs": [],
   "source": [
    "df['tsvd_cos_sim_st_pd'] = tsvd_cos_sim_st_pd"
   ]
  },
  {
   "cell_type": "code",
   "execution_count": 235,
   "metadata": {
    "collapsed": false
   },
   "outputs": [
    {
     "data": {
      "text/plain": [
       "<matplotlib.axes._subplots.AxesSubplot at 0x19e9025c0>"
      ]
     },
     "execution_count": 235,
     "metadata": {},
     "output_type": "execute_result"
    },
    {
     "data": {
      "image/png": "[encoded data removed]",
      "text/plain": [
       "<matplotlib.figure.Figure at 0x1644ee048>"
      ]
     },
     "metadata": {},
     "output_type": "display_data"
    }
   ],
   "source": [
    "majoritize(df).boxplot(column='tsvd_cos_sim_st_pd', by='relevance', figsize=(5, 5))"
   ]
  },
  {
   "cell_type": "markdown",
   "metadata": {},
   "source": [
    "## Word2Vec"
   ]
  },
  {
   "cell_type": "code",
   "execution_count": 77,
   "metadata": {
    "collapsed": true
   },
   "outputs": [],
   "source": [
    "# descriptions = list(df.product_description)\n",
    "# title = list(df.product_title)\n",
    "# sentences = descriptions + title\n",
    "# sentences = [[word for word in word_tokenize(sentence)] for sentence in sentences]\n",
    "\n",
    "# from collections import defaultdict\n",
    "\n",
    "# frequency = defaultdict(int)\n",
    "# for sentence in sentences:\n",
    "#     for token in sentence:\n",
    "#         frequency[token] += 1\n",
    "\n",
    "# sentences = [[token for token in sentence if frequency[token] > 1] for sentence in sentences]\n",
    "\n",
    "# model = word2vec.Word2Vec(sentences, size=100, window=5, min_count=5, workers=1)\n",
    "# model.save('w2v.dump')"
   ]
  },
  {
   "cell_type": "code",
   "execution_count": 28,
   "metadata": {
    "collapsed": false
   },
   "outputs": [],
   "source": [
    "# w2v_model = word2vec.Word2Vec.load('w2v.dump')\n",
    "\n",
    "# def w2v_similarity_wrapper(model, x, y):\n",
    "#     try:\n",
    "#         return model.similarity(x, y)\n",
    "#     except:\n",
    "#         return None\n",
    "    \n",
    "# def w2v_similarities(model, A, B):\n",
    "#     sims = []\n",
    "#     for x in A:\n",
    "# #         print(B)\n",
    "#         sims_ = [x for x in [w2v_similarity_wrapper(model, x, y) for y in B] if x is not None]\n",
    "#         most = max(sims_) if sims_ else None\n",
    "#         sims.append(most)\n",
    "#     sims = list(filter(lambda x: x is not None, sims))\n",
    "#     if not sims:\n",
    "#         return .0, .0, .0\n",
    "#     min_sim = min(sims)\n",
    "#     max_sim = max(sims)\n",
    "#     avg_sim = sum(sims) / float(len(A))\n",
    "#     return (min_sim, max_sim, avg_sim)    "
   ]
  },
  {
   "cell_type": "code",
   "execution_count": 35,
   "metadata": {
    "collapsed": false
   },
   "outputs": [],
   "source": [
    "# df['sim_w2v_search_term_to_product_title_tuples'] = \\\n",
    "#     df.apply(lambda x: w2v_similarities(w2v_model, x['tokens_search_term'], x['tokens_product_title']), axis=1)"
   ]
  },
  {
   "cell_type": "code",
   "execution_count": 43,
   "metadata": {
    "collapsed": false
   },
   "outputs": [],
   "source": [
    "# df['sim_w2v_search_term_to_product_title_min'] = df['sim_w2v_search_term_to_product_title_tuples'].map(lambda x: x[0])\n",
    "# df['sim_w2v_search_term_to_product_title_max'] = df['sim_w2v_search_term_to_product_title_tuples'].map(lambda x: x[1])\n",
    "# df['sim_w2v_search_term_to_product_title_avg'] = df['sim_w2v_search_term_to_product_title_tuples'].map(lambda x: x[2])"
   ]
  },
  {
   "cell_type": "code",
   "execution_count": null,
   "metadata": {
    "collapsed": true
   },
   "outputs": [],
   "source": [
    "# df['sim_w2v_search_term_to_product_description_tuples'] = \\\n",
    "#     df.apply(lambda x: w2v_similarities(w2v_model, x['tokens_search_term'], x['tokens_product_description']), axis=1)"
   ]
  },
  {
   "cell_type": "code",
   "execution_count": null,
   "metadata": {
    "collapsed": true
   },
   "outputs": [],
   "source": [
    "# df['sim_w2v_search_term_to_product_description_min'] = df['sim_w2v_search_term_to_product_description_tuples'].map(lambda x: x[0])\n",
    "# df['sim_w2v_search_term_to_product_description_max'] = df['sim_w2v_search_term_to_product_description_tuples'].map(lambda x: x[1])\n",
    "# df['sim_w2v_search_term_to_product_description_avg'] = df['sim_w2v_search_term_to_product_description_tuples'].map(lambda x: x[2])"
   ]
  },
  {
   "cell_type": "markdown",
   "metadata": {},
   "source": [
    "## Append"
   ]
  },
  {
   "cell_type": "code",
   "execution_count": 256,
   "metadata": {
    "collapsed": true
   },
   "outputs": [],
   "source": [
    "append = pd.read_csv('df_lev_dist_more_jaccard.csv', encoding='ISO-8859-1')"
   ]
  },
  {
   "cell_type": "code",
   "execution_count": 259,
   "metadata": {
    "collapsed": false
   },
   "outputs": [],
   "source": [
    "cols_to_append = [\n",
    "    'query_in_title',\n",
    "    'query_in_description',\n",
    "    'query_last_word_in_title',\n",
    "    'query_last_word_in_description',\n",
    "    'word_in_title',\n",
    "    'word_in_description',\n",
    "    'word_in_brand',\n",
    "    'ratio_title',\n",
    "    'ratio_description',\n",
    "    'ratio_brand',\n",
    "    'lev_dist_to_product_title_min',\n",
    "    'lev_dist_to_product_title_max',\n",
    "    'lev_dist_to_product_title_sum',\n",
    "    'lev_dist_to_product_description_min',\n",
    "    'lev_dist_to_product_description_max',\n",
    "    'lev_dist_to_product_description_sum'\n",
    "]"
   ]
  },
  {
   "cell_type": "code",
   "execution_count": 260,
   "metadata": {
    "collapsed": true
   },
   "outputs": [],
   "source": [
    "for x in cols_to_append:\n",
    "    df[x] = append[x]"
   ]
  },
  {
   "cell_type": "markdown",
   "metadata": {},
   "source": [
    "## Export"
   ]
  },
  {
   "cell_type": "code",
   "execution_count": 261,
   "metadata": {
    "collapsed": false
   },
   "outputs": [
    {
     "name": "stdout",
     "output_type": "stream",
     "text": [
      "Number of Features:  100\n"
     ]
    }
   ],
   "source": [
    "cols_to_drop = [\n",
    "    'tokens_search_term',\n",
    "    'tokens_product_title',\n",
    "    'tokens_product_description',\n",
    "    'tokens_brand',\n",
    "    'majority_relevance'\n",
    "]\n",
    "export_df = df.drop(cols_to_drop, axis=1)\n",
    "print('Number of Features: ', len(export_df.columns.tolist()) - 7)"
   ]
  },
  {
   "cell_type": "code",
   "execution_count": 252,
   "metadata": {
    "collapsed": false
   },
   "outputs": [
    {
     "data": {
      "text/html": [
       "<div>\n",
       "<table border=\"1\" class=\"dataframe\">\n",
       "  <thead>\n",
       "    <tr style=\"text-align: right;\">\n",
       "      <th></th>\n",
       "      <th>id</th>\n",
       "      <th>product_title</th>\n",
       "      <th>product_uid</th>\n",
       "      <th>relevance</th>\n",
       "      <th>search_term</th>\n",
       "      <th>product_description</th>\n",
       "      <th>brand</th>\n",
       "      <th>tiv_cos_sim_st_pt_from_pt</th>\n",
       "      <th>tiv_cos_sim_st_pd_from_pd</th>\n",
       "      <th>len_search_term</th>\n",
       "      <th>len_product_title</th>\n",
       "      <th>len_product_description</th>\n",
       "      <th>len_brand</th>\n",
       "      <th>brand_encoded</th>\n",
       "      <th>flag_has_attr</th>\n",
       "      <th>jaccard_st_pt</th>\n",
       "      <th>jaccard_st_pd</th>\n",
       "      <th>jaccard_st_br</th>\n",
       "      <th>flag_st_in_pt</th>\n",
       "      <th>flag_st_in_pd</th>\n",
       "      <th>flag_st_in_br</th>\n",
       "      <th>num_st_in_pt</th>\n",
       "      <th>num_st_in_pd</th>\n",
       "      <th>num_st_in_br</th>\n",
       "      <th>ratio_st_in_pt</th>\n",
       "      <th>ratio_st_in_pd</th>\n",
       "      <th>ratio_st_in_br</th>\n",
       "      <th>st_tfidf_tsvd_0</th>\n",
       "      <th>st_tfidf_tsvd_1</th>\n",
       "      <th>st_tfidf_tsvd_2</th>\n",
       "      <th>st_tfidf_tsvd_3</th>\n",
       "      <th>st_tfidf_tsvd_4</th>\n",
       "      <th>st_tfidf_tsvd_5</th>\n",
       "      <th>st_tfidf_tsvd_6</th>\n",
       "      <th>st_tfidf_tsvd_7</th>\n",
       "      <th>st_tfidf_tsvd_8</th>\n",
       "      <th>st_tfidf_tsvd_9</th>\n",
       "      <th>pt_tfidf_tsvd_0</th>\n",
       "      <th>pt_tfidf_tsvd_1</th>\n",
       "      <th>pt_tfidf_tsvd_2</th>\n",
       "      <th>pt_tfidf_tsvd_3</th>\n",
       "      <th>pt_tfidf_tsvd_4</th>\n",
       "      <th>pt_tfidf_tsvd_5</th>\n",
       "      <th>pt_tfidf_tsvd_6</th>\n",
       "      <th>pt_tfidf_tsvd_7</th>\n",
       "      <th>pt_tfidf_tsvd_8</th>\n",
       "      <th>pt_tfidf_tsvd_9</th>\n",
       "      <th>pd_tfidf_tsvd_0</th>\n",
       "      <th>pd_tfidf_tsvd_1</th>\n",
       "      <th>pd_tfidf_tsvd_2</th>\n",
       "      <th>pd_tfidf_tsvd_3</th>\n",
       "      <th>pd_tfidf_tsvd_4</th>\n",
       "      <th>pd_tfidf_tsvd_5</th>\n",
       "      <th>pd_tfidf_tsvd_6</th>\n",
       "      <th>pd_tfidf_tsvd_7</th>\n",
       "      <th>pd_tfidf_tsvd_8</th>\n",
       "      <th>pd_tfidf_tsvd_9</th>\n",
       "      <th>tsvd_cos_sim_st_pt</th>\n",
       "      <th>tsvd_cos_sim_st_pd</th>\n",
       "      <th>st_tfidf_tsvd_10</th>\n",
       "      <th>st_tfidf_tsvd_11</th>\n",
       "      <th>st_tfidf_tsvd_12</th>\n",
       "      <th>st_tfidf_tsvd_13</th>\n",
       "      <th>st_tfidf_tsvd_14</th>\n",
       "      <th>st_tfidf_tsvd_15</th>\n",
       "      <th>st_tfidf_tsvd_16</th>\n",
       "      <th>st_tfidf_tsvd_17</th>\n",
       "      <th>st_tfidf_tsvd_18</th>\n",
       "      <th>st_tfidf_tsvd_19</th>\n",
       "      <th>pt_tfidf_tsvd_10</th>\n",
       "      <th>pt_tfidf_tsvd_11</th>\n",
       "      <th>pt_tfidf_tsvd_12</th>\n",
       "      <th>pt_tfidf_tsvd_13</th>\n",
       "      <th>pt_tfidf_tsvd_14</th>\n",
       "      <th>pt_tfidf_tsvd_15</th>\n",
       "      <th>pt_tfidf_tsvd_16</th>\n",
       "      <th>pt_tfidf_tsvd_17</th>\n",
       "      <th>pt_tfidf_tsvd_18</th>\n",
       "      <th>pt_tfidf_tsvd_19</th>\n",
       "      <th>pd_tfidf_tsvd_10</th>\n",
       "      <th>pd_tfidf_tsvd_11</th>\n",
       "      <th>pd_tfidf_tsvd_12</th>\n",
       "      <th>pd_tfidf_tsvd_13</th>\n",
       "      <th>pd_tfidf_tsvd_14</th>\n",
       "      <th>pd_tfidf_tsvd_15</th>\n",
       "      <th>pd_tfidf_tsvd_16</th>\n",
       "      <th>pd_tfidf_tsvd_17</th>\n",
       "      <th>pd_tfidf_tsvd_18</th>\n",
       "      <th>pd_tfidf_tsvd_19</th>\n",
       "      <th>tiv_cos_sim_st_pt_from_st</th>\n",
       "      <th>tiv_cos_sim_st_pd_from_st</th>\n",
       "    </tr>\n",
       "  </thead>\n",
       "  <tbody>\n",
       "    <tr>\n",
       "      <th>0</th>\n",
       "      <td>2</td>\n",
       "      <td>simpson strong tie 12 gaug angl</td>\n",
       "      <td>100001</td>\n",
       "      <td>3.0</td>\n",
       "      <td>angl bracket</td>\n",
       "      <td>not onli do angl make joint stronger they also...</td>\n",
       "      <td>simpson strong tie</td>\n",
       "      <td>0.098972</td>\n",
       "      <td>0.042391</td>\n",
       "      <td>2</td>\n",
       "      <td>6</td>\n",
       "      <td>135</td>\n",
       "      <td>3</td>\n",
       "      <td>1000</td>\n",
       "      <td>1</td>\n",
       "      <td>0.142857</td>\n",
       "      <td>0.297297</td>\n",
       "      <td>0.375</td>\n",
       "      <td>0</td>\n",
       "      <td>0</td>\n",
       "      <td>0</td>\n",
       "      <td>1</td>\n",
       "      <td>1</td>\n",
       "      <td>0</td>\n",
       "      <td>0.5</td>\n",
       "      <td>0.5</td>\n",
       "      <td>0.0</td>\n",
       "      <td>0.002581</td>\n",
       "      <td>0.002476</td>\n",
       "      <td>0.002105</td>\n",
       "      <td>0.010208</td>\n",
       "      <td>0.000414</td>\n",
       "      <td>-0.004085</td>\n",
       "      <td>-0.000676</td>\n",
       "      <td>-0.003501</td>\n",
       "      <td>0.020349</td>\n",
       "      <td>0.008458</td>\n",
       "      <td>0.027834</td>\n",
       "      <td>-0.004397</td>\n",
       "      <td>0.009356</td>\n",
       "      <td>-0.005977</td>\n",
       "      <td>-0.001123</td>\n",
       "      <td>0.015347</td>\n",
       "      <td>0.021875</td>\n",
       "      <td>0.010590</td>\n",
       "      <td>-0.016595</td>\n",
       "      <td>0.009619</td>\n",
       "      <td>0.063502</td>\n",
       "      <td>-0.037022</td>\n",
       "      <td>-0.019762</td>\n",
       "      <td>-0.009397</td>\n",
       "      <td>-0.004174</td>\n",
       "      <td>0.001824</td>\n",
       "      <td>-0.039904</td>\n",
       "      <td>0.001151</td>\n",
       "      <td>0.049458</td>\n",
       "      <td>-0.021712</td>\n",
       "      <td>-0.358421</td>\n",
       "      <td>-0.008858</td>\n",
       "      <td>0.000215</td>\n",
       "      <td>0.011668</td>\n",
       "      <td>0.001485</td>\n",
       "      <td>0.016781</td>\n",
       "      <td>-0.012570</td>\n",
       "      <td>-0.010925</td>\n",
       "      <td>0.022703</td>\n",
       "      <td>0.010636</td>\n",
       "      <td>0.023691</td>\n",
       "      <td>0.004590</td>\n",
       "      <td>-0.022955</td>\n",
       "      <td>-0.003192</td>\n",
       "      <td>0.004204</td>\n",
       "      <td>0.002126</td>\n",
       "      <td>0.009005</td>\n",
       "      <td>-0.027243</td>\n",
       "      <td>0.026662</td>\n",
       "      <td>-0.026422</td>\n",
       "      <td>-0.104726</td>\n",
       "      <td>0.008874</td>\n",
       "      <td>-0.016560</td>\n",
       "      <td>0.000179</td>\n",
       "      <td>-0.020996</td>\n",
       "      <td>-0.04224</td>\n",
       "      <td>0.011451</td>\n",
       "      <td>0.030388</td>\n",
       "      <td>0.008129</td>\n",
       "      <td>-0.006199</td>\n",
       "      <td>0.014950</td>\n",
       "      <td>-0.017557</td>\n",
       "      <td>0.137956</td>\n",
       "      <td>0.117150</td>\n",
       "    </tr>\n",
       "    <tr>\n",
       "      <th>1</th>\n",
       "      <td>3</td>\n",
       "      <td>simpson strong tie 12 gaug angl</td>\n",
       "      <td>100001</td>\n",
       "      <td>2.5</td>\n",
       "      <td>l bracket</td>\n",
       "      <td>not onli do angl make joint stronger they also...</td>\n",
       "      <td>simpson strong tie</td>\n",
       "      <td>0.000000</td>\n",
       "      <td>0.000000</td>\n",
       "      <td>2</td>\n",
       "      <td>6</td>\n",
       "      <td>135</td>\n",
       "      <td>3</td>\n",
       "      <td>1000</td>\n",
       "      <td>1</td>\n",
       "      <td>0.000000</td>\n",
       "      <td>0.243243</td>\n",
       "      <td>0.250</td>\n",
       "      <td>0</td>\n",
       "      <td>0</td>\n",
       "      <td>0</td>\n",
       "      <td>0</td>\n",
       "      <td>0</td>\n",
       "      <td>0</td>\n",
       "      <td>0.0</td>\n",
       "      <td>0.0</td>\n",
       "      <td>0.0</td>\n",
       "      <td>0.003524</td>\n",
       "      <td>0.004073</td>\n",
       "      <td>0.001405</td>\n",
       "      <td>0.017381</td>\n",
       "      <td>-0.001632</td>\n",
       "      <td>-0.007845</td>\n",
       "      <td>-0.001499</td>\n",
       "      <td>-0.010721</td>\n",
       "      <td>0.036691</td>\n",
       "      <td>0.017112</td>\n",
       "      <td>0.027834</td>\n",
       "      <td>-0.004397</td>\n",
       "      <td>0.009356</td>\n",
       "      <td>-0.005977</td>\n",
       "      <td>-0.001123</td>\n",
       "      <td>0.015347</td>\n",
       "      <td>0.021875</td>\n",
       "      <td>0.010590</td>\n",
       "      <td>-0.016595</td>\n",
       "      <td>0.009619</td>\n",
       "      <td>0.063502</td>\n",
       "      <td>-0.037022</td>\n",
       "      <td>-0.019762</td>\n",
       "      <td>-0.009397</td>\n",
       "      <td>-0.004174</td>\n",
       "      <td>0.001824</td>\n",
       "      <td>-0.039904</td>\n",
       "      <td>0.001151</td>\n",
       "      <td>0.049458</td>\n",
       "      <td>-0.021712</td>\n",
       "      <td>-0.389182</td>\n",
       "      <td>0.007202</td>\n",
       "      <td>-0.003119</td>\n",
       "      <td>0.022232</td>\n",
       "      <td>0.003221</td>\n",
       "      <td>0.026485</td>\n",
       "      <td>-0.023491</td>\n",
       "      <td>-0.020745</td>\n",
       "      <td>0.043293</td>\n",
       "      <td>0.021111</td>\n",
       "      <td>0.048846</td>\n",
       "      <td>0.011549</td>\n",
       "      <td>-0.022955</td>\n",
       "      <td>-0.003192</td>\n",
       "      <td>0.004204</td>\n",
       "      <td>0.002126</td>\n",
       "      <td>0.009005</td>\n",
       "      <td>-0.027243</td>\n",
       "      <td>0.026662</td>\n",
       "      <td>-0.026422</td>\n",
       "      <td>-0.104726</td>\n",
       "      <td>0.008874</td>\n",
       "      <td>-0.016560</td>\n",
       "      <td>0.000179</td>\n",
       "      <td>-0.020996</td>\n",
       "      <td>-0.04224</td>\n",
       "      <td>0.011451</td>\n",
       "      <td>0.030388</td>\n",
       "      <td>0.008129</td>\n",
       "      <td>-0.006199</td>\n",
       "      <td>0.014950</td>\n",
       "      <td>-0.017557</td>\n",
       "      <td>0.000000</td>\n",
       "      <td>0.000000</td>\n",
       "    </tr>\n",
       "    <tr>\n",
       "      <th>2</th>\n",
       "      <td>9</td>\n",
       "      <td>behr premium textur deckov 1gal. #sc 141 tugbo...</td>\n",
       "      <td>100002</td>\n",
       "      <td>3.0</td>\n",
       "      <td>deck over</td>\n",
       "      <td>behr premium textur deckov is an innov solid c...</td>\n",
       "      <td>behr premium textur deckov</td>\n",
       "      <td>0.000000</td>\n",
       "      <td>0.090275</td>\n",
       "      <td>2</td>\n",
       "      <td>12</td>\n",
       "      <td>169</td>\n",
       "      <td>4</td>\n",
       "      <td>1010</td>\n",
       "      <td>1</td>\n",
       "      <td>0.000000</td>\n",
       "      <td>0.210526</td>\n",
       "      <td>0.500</td>\n",
       "      <td>0</td>\n",
       "      <td>0</td>\n",
       "      <td>0</td>\n",
       "      <td>0</td>\n",
       "      <td>1</td>\n",
       "      <td>0</td>\n",
       "      <td>0.0</td>\n",
       "      <td>0.5</td>\n",
       "      <td>0.0</td>\n",
       "      <td>0.010247</td>\n",
       "      <td>0.005425</td>\n",
       "      <td>-0.000586</td>\n",
       "      <td>0.016702</td>\n",
       "      <td>-0.012679</td>\n",
       "      <td>-0.015642</td>\n",
       "      <td>-0.012186</td>\n",
       "      <td>-0.026668</td>\n",
       "      <td>0.047811</td>\n",
       "      <td>-0.006619</td>\n",
       "      <td>0.012572</td>\n",
       "      <td>-0.001650</td>\n",
       "      <td>-0.000029</td>\n",
       "      <td>0.003020</td>\n",
       "      <td>-0.009497</td>\n",
       "      <td>0.012161</td>\n",
       "      <td>-0.030995</td>\n",
       "      <td>-0.020599</td>\n",
       "      <td>0.023260</td>\n",
       "      <td>-0.004258</td>\n",
       "      <td>0.100527</td>\n",
       "      <td>-0.110985</td>\n",
       "      <td>0.239911</td>\n",
       "      <td>0.041422</td>\n",
       "      <td>0.017161</td>\n",
       "      <td>-0.021333</td>\n",
       "      <td>0.013920</td>\n",
       "      <td>-0.080788</td>\n",
       "      <td>0.022276</td>\n",
       "      <td>-0.002187</td>\n",
       "      <td>0.170551</td>\n",
       "      <td>0.085309</td>\n",
       "      <td>0.071808</td>\n",
       "      <td>0.003138</td>\n",
       "      <td>0.042883</td>\n",
       "      <td>-0.026379</td>\n",
       "      <td>-0.042348</td>\n",
       "      <td>-0.002232</td>\n",
       "      <td>0.047848</td>\n",
       "      <td>0.062268</td>\n",
       "      <td>0.023312</td>\n",
       "      <td>0.069516</td>\n",
       "      <td>-0.014685</td>\n",
       "      <td>-0.046375</td>\n",
       "      <td>0.114831</td>\n",
       "      <td>-0.014295</td>\n",
       "      <td>0.042351</td>\n",
       "      <td>0.002611</td>\n",
       "      <td>-0.006461</td>\n",
       "      <td>-0.004805</td>\n",
       "      <td>0.020214</td>\n",
       "      <td>-0.006825</td>\n",
       "      <td>-0.004309</td>\n",
       "      <td>-0.011836</td>\n",
       "      <td>-0.000144</td>\n",
       "      <td>-0.01578</td>\n",
       "      <td>-0.006489</td>\n",
       "      <td>0.031753</td>\n",
       "      <td>0.015803</td>\n",
       "      <td>0.001863</td>\n",
       "      <td>0.004388</td>\n",
       "      <td>-0.018870</td>\n",
       "      <td>0.000000</td>\n",
       "      <td>0.172419</td>\n",
       "    </tr>\n",
       "  </tbody>\n",
       "</table>\n",
       "</div>"
      ],
      "text/plain": [
       "   id                                      product_title  product_uid  \\\n",
       "0   2                    simpson strong tie 12 gaug angl       100001   \n",
       "1   3                    simpson strong tie 12 gaug angl       100001   \n",
       "2   9  behr premium textur deckov 1gal. #sc 141 tugbo...       100002   \n",
       "\n",
       "   relevance   search_term                                product_description  \\\n",
       "0        3.0  angl bracket  not onli do angl make joint stronger they also...   \n",
       "1        2.5     l bracket  not onli do angl make joint stronger they also...   \n",
       "2        3.0     deck over  behr premium textur deckov is an innov solid c...   \n",
       "\n",
       "                        brand  tiv_cos_sim_st_pt_from_pt  \\\n",
       "0          simpson strong tie                   0.098972   \n",
       "1          simpson strong tie                   0.000000   \n",
       "2  behr premium textur deckov                   0.000000   \n",
       "\n",
       "   tiv_cos_sim_st_pd_from_pd  len_search_term  len_product_title  \\\n",
       "0                   0.042391                2                  6   \n",
       "1                   0.000000                2                  6   \n",
       "2                   0.090275                2                 12   \n",
       "\n",
       "   len_product_description  len_brand  brand_encoded  flag_has_attr  \\\n",
       "0                      135          3           1000              1   \n",
       "1                      135          3           1000              1   \n",
       "2                      169          4           1010              1   \n",
       "\n",
       "   jaccard_st_pt  jaccard_st_pd  jaccard_st_br  flag_st_in_pt  flag_st_in_pd  \\\n",
       "0       0.142857       0.297297          0.375              0              0   \n",
       "1       0.000000       0.243243          0.250              0              0   \n",
       "2       0.000000       0.210526          0.500              0              0   \n",
       "\n",
       "   flag_st_in_br  num_st_in_pt  num_st_in_pd  num_st_in_br  ratio_st_in_pt  \\\n",
       "0              0             1             1             0             0.5   \n",
       "1              0             0             0             0             0.0   \n",
       "2              0             0             1             0             0.0   \n",
       "\n",
       "   ratio_st_in_pd  ratio_st_in_br  st_tfidf_tsvd_0  st_tfidf_tsvd_1  \\\n",
       "0             0.5             0.0         0.002581         0.002476   \n",
       "1             0.0             0.0         0.003524         0.004073   \n",
       "2             0.5             0.0         0.010247         0.005425   \n",
       "\n",
       "   st_tfidf_tsvd_2  st_tfidf_tsvd_3  st_tfidf_tsvd_4  st_tfidf_tsvd_5  \\\n",
       "0         0.002105         0.010208         0.000414        -0.004085   \n",
       "1         0.001405         0.017381        -0.001632        -0.007845   \n",
       "2        -0.000586         0.016702        -0.012679        -0.015642   \n",
       "\n",
       "   st_tfidf_tsvd_6  st_tfidf_tsvd_7  st_tfidf_tsvd_8  st_tfidf_tsvd_9  \\\n",
       "0        -0.000676        -0.003501         0.020349         0.008458   \n",
       "1        -0.001499        -0.010721         0.036691         0.017112   \n",
       "2        -0.012186        -0.026668         0.047811        -0.006619   \n",
       "\n",
       "   pt_tfidf_tsvd_0  pt_tfidf_tsvd_1  pt_tfidf_tsvd_2  pt_tfidf_tsvd_3  \\\n",
       "0         0.027834        -0.004397         0.009356        -0.005977   \n",
       "1         0.027834        -0.004397         0.009356        -0.005977   \n",
       "2         0.012572        -0.001650        -0.000029         0.003020   \n",
       "\n",
       "   pt_tfidf_tsvd_4  pt_tfidf_tsvd_5  pt_tfidf_tsvd_6  pt_tfidf_tsvd_7  \\\n",
       "0        -0.001123         0.015347         0.021875         0.010590   \n",
       "1        -0.001123         0.015347         0.021875         0.010590   \n",
       "2        -0.009497         0.012161        -0.030995        -0.020599   \n",
       "\n",
       "   pt_tfidf_tsvd_8  pt_tfidf_tsvd_9  pd_tfidf_tsvd_0  pd_tfidf_tsvd_1  \\\n",
       "0        -0.016595         0.009619         0.063502        -0.037022   \n",
       "1        -0.016595         0.009619         0.063502        -0.037022   \n",
       "2         0.023260        -0.004258         0.100527        -0.110985   \n",
       "\n",
       "   pd_tfidf_tsvd_2  pd_tfidf_tsvd_3  pd_tfidf_tsvd_4  pd_tfidf_tsvd_5  \\\n",
       "0        -0.019762        -0.009397        -0.004174         0.001824   \n",
       "1        -0.019762        -0.009397        -0.004174         0.001824   \n",
       "2         0.239911         0.041422         0.017161        -0.021333   \n",
       "\n",
       "   pd_tfidf_tsvd_6  pd_tfidf_tsvd_7  pd_tfidf_tsvd_8  pd_tfidf_tsvd_9  \\\n",
       "0        -0.039904         0.001151         0.049458        -0.021712   \n",
       "1        -0.039904         0.001151         0.049458        -0.021712   \n",
       "2         0.013920        -0.080788         0.022276        -0.002187   \n",
       "\n",
       "   tsvd_cos_sim_st_pt  tsvd_cos_sim_st_pd  st_tfidf_tsvd_10  st_tfidf_tsvd_11  \\\n",
       "0           -0.358421           -0.008858          0.000215          0.011668   \n",
       "1           -0.389182            0.007202         -0.003119          0.022232   \n",
       "2            0.170551            0.085309          0.071808          0.003138   \n",
       "\n",
       "   st_tfidf_tsvd_12  st_tfidf_tsvd_13  st_tfidf_tsvd_14  st_tfidf_tsvd_15  \\\n",
       "0          0.001485          0.016781         -0.012570         -0.010925   \n",
       "1          0.003221          0.026485         -0.023491         -0.020745   \n",
       "2          0.042883         -0.026379         -0.042348         -0.002232   \n",
       "\n",
       "   st_tfidf_tsvd_16  st_tfidf_tsvd_17  st_tfidf_tsvd_18  st_tfidf_tsvd_19  \\\n",
       "0          0.022703          0.010636          0.023691          0.004590   \n",
       "1          0.043293          0.021111          0.048846          0.011549   \n",
       "2          0.047848          0.062268          0.023312          0.069516   \n",
       "\n",
       "   pt_tfidf_tsvd_10  pt_tfidf_tsvd_11  pt_tfidf_tsvd_12  pt_tfidf_tsvd_13  \\\n",
       "0         -0.022955         -0.003192          0.004204          0.002126   \n",
       "1         -0.022955         -0.003192          0.004204          0.002126   \n",
       "2         -0.014685         -0.046375          0.114831         -0.014295   \n",
       "\n",
       "   pt_tfidf_tsvd_14  pt_tfidf_tsvd_15  pt_tfidf_tsvd_16  pt_tfidf_tsvd_17  \\\n",
       "0          0.009005         -0.027243          0.026662         -0.026422   \n",
       "1          0.009005         -0.027243          0.026662         -0.026422   \n",
       "2          0.042351          0.002611         -0.006461         -0.004805   \n",
       "\n",
       "   pt_tfidf_tsvd_18  pt_tfidf_tsvd_19  pd_tfidf_tsvd_10  pd_tfidf_tsvd_11  \\\n",
       "0         -0.104726          0.008874         -0.016560          0.000179   \n",
       "1         -0.104726          0.008874         -0.016560          0.000179   \n",
       "2          0.020214         -0.006825         -0.004309         -0.011836   \n",
       "\n",
       "   pd_tfidf_tsvd_12  pd_tfidf_tsvd_13  pd_tfidf_tsvd_14  pd_tfidf_tsvd_15  \\\n",
       "0         -0.020996          -0.04224          0.011451          0.030388   \n",
       "1         -0.020996          -0.04224          0.011451          0.030388   \n",
       "2         -0.000144          -0.01578         -0.006489          0.031753   \n",
       "\n",
       "   pd_tfidf_tsvd_16  pd_tfidf_tsvd_17  pd_tfidf_tsvd_18  pd_tfidf_tsvd_19  \\\n",
       "0          0.008129         -0.006199          0.014950         -0.017557   \n",
       "1          0.008129         -0.006199          0.014950         -0.017557   \n",
       "2          0.015803          0.001863          0.004388         -0.018870   \n",
       "\n",
       "   tiv_cos_sim_st_pt_from_st  tiv_cos_sim_st_pd_from_st  \n",
       "0                   0.137956                   0.117150  \n",
       "1                   0.000000                   0.000000  \n",
       "2                   0.000000                   0.172419  "
      ]
     },
     "execution_count": 252,
     "metadata": {},
     "output_type": "execute_result"
    }
   ],
   "source": [
    "export_df.head(3)"
   ]
  },
  {
   "cell_type": "code",
   "execution_count": 262,
   "metadata": {
    "collapsed": true
   },
   "outputs": [],
   "source": [
    "export_df.to_csv('./df_new_419_3.csv')"
   ]
  }
 ],
 "metadata": {
  "kernelspec": {
   "display_name": "Python 3",
   "language": "python",
   "name": "python3"
  },
  "language_info": {
   "codemirror_mode": {
    "name": "ipython",
    "version": 3
   },
   "file_extension": ".py",
   "mimetype": "text/x-python",
   "name": "python",
   "nbconvert_exporter": "python",
   "pygments_lexer": "ipython3",
   "version": "3.5.1"
  }
 },
 "nbformat": 4,
 "nbformat_minor": 0
}
