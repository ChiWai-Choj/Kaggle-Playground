{
 "cells": [
  {
   "cell_type": "code",
   "execution_count": 1,
   "metadata": {
    "collapsed": false
   },
   "outputs": [],
   "source": [
    "import numpy as np\n",
    "import matplotlib.pyplot as plt\n",
    "%matplotlib inline\n",
    "import seaborn as sns\n",
    "import pandas as pd\n",
    "import zipfile\n",
    "import sklearn\n",
    "import xgboost as xgb\n",
    "from sklearn.feature_selection import SelectKBest\n",
    "from sklearn.feature_selection import f_classif\n",
    "from sklearn import cross_validation\n",
    "from sklearn.metrics import roc_auc_score"
   ]
  },
  {
   "cell_type": "code",
   "execution_count": 2,
   "metadata": {
    "collapsed": false
   },
   "outputs": [],
   "source": [
    "z = zipfile.ZipFile('train.csv.zip')\n",
    "df = pd.read_csv(z.open('train.csv'))"
   ]
  },
  {
   "cell_type": "code",
   "execution_count": 3,
   "metadata": {
    "collapsed": false
   },
   "outputs": [
    {
     "data": {
      "text/plain": [
       "count     76020.000000\n",
       "mean      -1523.199277\n",
       "std       39033.462364\n",
       "min     -999999.000000\n",
       "25%           2.000000\n",
       "50%           2.000000\n",
       "75%           2.000000\n",
       "max         238.000000\n",
       "Name: var3, dtype: float64"
      ]
     },
     "execution_count": 3,
     "metadata": {},
     "output_type": "execute_result"
    }
   ],
   "source": [
    "df['var3'].describe()"
   ]
  },
  {
   "cell_type": "code",
   "execution_count": 4,
   "metadata": {
    "collapsed": false
   },
   "outputs": [],
   "source": [
    "df.replace(to_replace={'var3': {-999999: 2}}, inplace=True)"
   ]
  },
  {
   "cell_type": "code",
   "execution_count": 5,
   "metadata": {
    "collapsed": false
   },
   "outputs": [],
   "source": [
    "x = df.iloc[:,:-1]\n",
    "y = df.TARGET"
   ]
  },
  {
   "cell_type": "code",
   "execution_count": 6,
   "metadata": {
    "collapsed": false
   },
   "outputs": [
    {
     "name": "stderr",
     "output_type": "stream",
     "text": [
      "C:\\Users\\linghao\\Anaconda2\\lib\\site-packages\\sklearn\\feature_selection\\univariate_selection.py:113: UserWarning: Features [ 22  23  57  58  59  60  81  85  86 132 133 134 135 156 162 163 180 181\n",
      " 190 193 221 223 235 239 245 249 262 263 304 308 316 320 328 350] are constant.\n",
      "  UserWarning)\n"
     ]
    }
   ],
   "source": [
    "selectK = SelectKBest(f_classif, k=100)\n",
    "selectK.fit(x, y)\n",
    "x_sel = selectK.transform(x)\n",
    "features = x.columns[selectK.get_support()]"
   ]
  },
  {
   "cell_type": "code",
   "execution_count": 7,
   "metadata": {
    "collapsed": false
   },
   "outputs": [],
   "source": [
    "# x_train, x_test, y_train, y_test = cross_validation.train_test_split(x_sel, y, random_state=1126, stratify=y, test_size=0.3)"
   ]
  },
  {
   "cell_type": "code",
   "execution_count": 8,
   "metadata": {
    "collapsed": false,
    "scrolled": true
   },
   "outputs": [],
   "source": [
    "clf = xgb.XGBClassifier(\n",
    "                max_depth = 5,\n",
    "                n_estimators=525,\n",
    "                learning_rate=0.02, \n",
    "                nthread=4,\n",
    "                subsample=0.95,\n",
    "                colsample_bytree=0.85, \n",
    "                seed=4242\n",
    ")"
   ]
  },
  {
   "cell_type": "code",
   "execution_count": 9,
   "metadata": {
    "collapsed": true
   },
   "outputs": [
    {
     "ename": "KeyboardInterrupt",
     "evalue": "",
     "output_type": "error",
     "traceback": [
      "\u001b[1;31m---------------------------------------------------------------------------\u001b[0m",
      "\u001b[1;31mKeyboardInterrupt\u001b[0m                         Traceback (most recent call last)",
      "\u001b[1;32m<ipython-input-9-6ccc9eb68989>\u001b[0m in \u001b[0;36m<module>\u001b[1;34m()\u001b[0m\n\u001b[0;32m      1\u001b[0m \u001b[0mcv\u001b[0m \u001b[1;33m=\u001b[0m \u001b[0mcross_validation\u001b[0m\u001b[1;33m.\u001b[0m\u001b[0mStratifiedKFold\u001b[0m\u001b[1;33m(\u001b[0m\u001b[0my\u001b[0m\u001b[1;33m,\u001b[0m \u001b[0mn_folds\u001b[0m\u001b[1;33m=\u001b[0m\u001b[1;36m4\u001b[0m\u001b[1;33m,\u001b[0m \u001b[0mshuffle\u001b[0m\u001b[1;33m=\u001b[0m\u001b[0mTrue\u001b[0m\u001b[1;33m)\u001b[0m\u001b[1;33m\u001b[0m\u001b[0m\n\u001b[1;32m----> 2\u001b[1;33m \u001b[0mscores\u001b[0m \u001b[1;33m=\u001b[0m \u001b[0mcross_validation\u001b[0m\u001b[1;33m.\u001b[0m\u001b[0mcross_val_score\u001b[0m\u001b[1;33m(\u001b[0m\u001b[0mclf\u001b[0m\u001b[1;33m,\u001b[0m \u001b[0mx_sel\u001b[0m\u001b[1;33m,\u001b[0m \u001b[0my\u001b[0m\u001b[1;33m,\u001b[0m \u001b[0mcv\u001b[0m\u001b[1;33m=\u001b[0m\u001b[0mcv\u001b[0m\u001b[1;33m,\u001b[0m \u001b[0mscoring\u001b[0m\u001b[1;33m=\u001b[0m\u001b[1;34m'roc_auc'\u001b[0m\u001b[1;33m)\u001b[0m\u001b[1;33m\u001b[0m\u001b[0m\n\u001b[0m\u001b[0;32m      3\u001b[0m \u001b[1;32mprint\u001b[0m\u001b[1;33m(\u001b[0m\u001b[1;34m\"Auc: %0.3f (+/- %0.3f)\"\u001b[0m \u001b[1;33m%\u001b[0m \u001b[1;33m(\u001b[0m\u001b[0mscores\u001b[0m\u001b[1;33m.\u001b[0m\u001b[0mmean\u001b[0m\u001b[1;33m(\u001b[0m\u001b[1;33m)\u001b[0m\u001b[1;33m,\u001b[0m \u001b[0mscores\u001b[0m\u001b[1;33m.\u001b[0m\u001b[0mstd\u001b[0m\u001b[1;33m(\u001b[0m\u001b[1;33m)\u001b[0m\u001b[1;33m)\u001b[0m\u001b[1;33m)\u001b[0m\u001b[1;33m\u001b[0m\u001b[0m\n",
      "\u001b[1;32mC:\\Users\\linghao\\Anaconda2\\lib\\site-packages\\sklearn\\cross_validation.pyc\u001b[0m in \u001b[0;36mcross_val_score\u001b[1;34m(estimator, X, y, scoring, cv, n_jobs, verbose, fit_params, pre_dispatch)\u001b[0m\n\u001b[0;32m   1431\u001b[0m                                               \u001b[0mtrain\u001b[0m\u001b[1;33m,\u001b[0m \u001b[0mtest\u001b[0m\u001b[1;33m,\u001b[0m \u001b[0mverbose\u001b[0m\u001b[1;33m,\u001b[0m \u001b[0mNone\u001b[0m\u001b[1;33m,\u001b[0m\u001b[1;33m\u001b[0m\u001b[0m\n\u001b[0;32m   1432\u001b[0m                                               fit_params)\n\u001b[1;32m-> 1433\u001b[1;33m                       for train, test in cv)\n\u001b[0m\u001b[0;32m   1434\u001b[0m     \u001b[1;32mreturn\u001b[0m \u001b[0mnp\u001b[0m\u001b[1;33m.\u001b[0m\u001b[0marray\u001b[0m\u001b[1;33m(\u001b[0m\u001b[0mscores\u001b[0m\u001b[1;33m)\u001b[0m\u001b[1;33m[\u001b[0m\u001b[1;33m:\u001b[0m\u001b[1;33m,\u001b[0m \u001b[1;36m0\u001b[0m\u001b[1;33m]\u001b[0m\u001b[1;33m\u001b[0m\u001b[0m\n\u001b[0;32m   1435\u001b[0m \u001b[1;33m\u001b[0m\u001b[0m\n",
      "\u001b[1;32mC:\\Users\\linghao\\Anaconda2\\lib\\site-packages\\sklearn\\externals\\joblib\\parallel.pyc\u001b[0m in \u001b[0;36m__call__\u001b[1;34m(self, iterable)\u001b[0m\n\u001b[0;32m    802\u001b[0m             \u001b[0mself\u001b[0m\u001b[1;33m.\u001b[0m\u001b[0m_iterating\u001b[0m \u001b[1;33m=\u001b[0m \u001b[0mTrue\u001b[0m\u001b[1;33m\u001b[0m\u001b[0m\n\u001b[0;32m    803\u001b[0m \u001b[1;33m\u001b[0m\u001b[0m\n\u001b[1;32m--> 804\u001b[1;33m             \u001b[1;32mwhile\u001b[0m \u001b[0mself\u001b[0m\u001b[1;33m.\u001b[0m\u001b[0mdispatch_one_batch\u001b[0m\u001b[1;33m(\u001b[0m\u001b[0miterator\u001b[0m\u001b[1;33m)\u001b[0m\u001b[1;33m:\u001b[0m\u001b[1;33m\u001b[0m\u001b[0m\n\u001b[0m\u001b[0;32m    805\u001b[0m                 \u001b[1;32mpass\u001b[0m\u001b[1;33m\u001b[0m\u001b[0m\n\u001b[0;32m    806\u001b[0m \u001b[1;33m\u001b[0m\u001b[0m\n",
      "\u001b[1;32mC:\\Users\\linghao\\Anaconda2\\lib\\site-packages\\sklearn\\externals\\joblib\\parallel.pyc\u001b[0m in \u001b[0;36mdispatch_one_batch\u001b[1;34m(self, iterator)\u001b[0m\n\u001b[0;32m    660\u001b[0m                 \u001b[1;32mreturn\u001b[0m \u001b[0mFalse\u001b[0m\u001b[1;33m\u001b[0m\u001b[0m\n\u001b[0;32m    661\u001b[0m             \u001b[1;32melse\u001b[0m\u001b[1;33m:\u001b[0m\u001b[1;33m\u001b[0m\u001b[0m\n\u001b[1;32m--> 662\u001b[1;33m                 \u001b[0mself\u001b[0m\u001b[1;33m.\u001b[0m\u001b[0m_dispatch\u001b[0m\u001b[1;33m(\u001b[0m\u001b[0mtasks\u001b[0m\u001b[1;33m)\u001b[0m\u001b[1;33m\u001b[0m\u001b[0m\n\u001b[0m\u001b[0;32m    663\u001b[0m                 \u001b[1;32mreturn\u001b[0m \u001b[0mTrue\u001b[0m\u001b[1;33m\u001b[0m\u001b[0m\n\u001b[0;32m    664\u001b[0m \u001b[1;33m\u001b[0m\u001b[0m\n",
      "\u001b[1;32mC:\\Users\\linghao\\Anaconda2\\lib\\site-packages\\sklearn\\externals\\joblib\\parallel.pyc\u001b[0m in \u001b[0;36m_dispatch\u001b[1;34m(self, batch)\u001b[0m\n\u001b[0;32m    568\u001b[0m \u001b[1;33m\u001b[0m\u001b[0m\n\u001b[0;32m    569\u001b[0m         \u001b[1;32mif\u001b[0m \u001b[0mself\u001b[0m\u001b[1;33m.\u001b[0m\u001b[0m_pool\u001b[0m \u001b[1;32mis\u001b[0m \u001b[0mNone\u001b[0m\u001b[1;33m:\u001b[0m\u001b[1;33m\u001b[0m\u001b[0m\n\u001b[1;32m--> 570\u001b[1;33m             \u001b[0mjob\u001b[0m \u001b[1;33m=\u001b[0m \u001b[0mImmediateComputeBatch\u001b[0m\u001b[1;33m(\u001b[0m\u001b[0mbatch\u001b[0m\u001b[1;33m)\u001b[0m\u001b[1;33m\u001b[0m\u001b[0m\n\u001b[0m\u001b[0;32m    571\u001b[0m             \u001b[0mself\u001b[0m\u001b[1;33m.\u001b[0m\u001b[0m_jobs\u001b[0m\u001b[1;33m.\u001b[0m\u001b[0mappend\u001b[0m\u001b[1;33m(\u001b[0m\u001b[0mjob\u001b[0m\u001b[1;33m)\u001b[0m\u001b[1;33m\u001b[0m\u001b[0m\n\u001b[0;32m    572\u001b[0m             \u001b[0mself\u001b[0m\u001b[1;33m.\u001b[0m\u001b[0mn_dispatched_batches\u001b[0m \u001b[1;33m+=\u001b[0m \u001b[1;36m1\u001b[0m\u001b[1;33m\u001b[0m\u001b[0m\n",
      "\u001b[1;32mC:\\Users\\linghao\\Anaconda2\\lib\\site-packages\\sklearn\\externals\\joblib\\parallel.pyc\u001b[0m in \u001b[0;36m__init__\u001b[1;34m(self, batch)\u001b[0m\n\u001b[0;32m    181\u001b[0m         \u001b[1;31m# Don't delay the application, to avoid keeping the input\u001b[0m\u001b[1;33m\u001b[0m\u001b[1;33m\u001b[0m\u001b[0m\n\u001b[0;32m    182\u001b[0m         \u001b[1;31m# arguments in memory\u001b[0m\u001b[1;33m\u001b[0m\u001b[1;33m\u001b[0m\u001b[0m\n\u001b[1;32m--> 183\u001b[1;33m         \u001b[0mself\u001b[0m\u001b[1;33m.\u001b[0m\u001b[0mresults\u001b[0m \u001b[1;33m=\u001b[0m \u001b[0mbatch\u001b[0m\u001b[1;33m(\u001b[0m\u001b[1;33m)\u001b[0m\u001b[1;33m\u001b[0m\u001b[0m\n\u001b[0m\u001b[0;32m    184\u001b[0m \u001b[1;33m\u001b[0m\u001b[0m\n\u001b[0;32m    185\u001b[0m     \u001b[1;32mdef\u001b[0m \u001b[0mget\u001b[0m\u001b[1;33m(\u001b[0m\u001b[0mself\u001b[0m\u001b[1;33m)\u001b[0m\u001b[1;33m:\u001b[0m\u001b[1;33m\u001b[0m\u001b[0m\n",
      "\u001b[1;32mC:\\Users\\linghao\\Anaconda2\\lib\\site-packages\\sklearn\\externals\\joblib\\parallel.pyc\u001b[0m in \u001b[0;36m__call__\u001b[1;34m(self)\u001b[0m\n\u001b[0;32m     70\u001b[0m \u001b[1;33m\u001b[0m\u001b[0m\n\u001b[0;32m     71\u001b[0m     \u001b[1;32mdef\u001b[0m \u001b[0m__call__\u001b[0m\u001b[1;33m(\u001b[0m\u001b[0mself\u001b[0m\u001b[1;33m)\u001b[0m\u001b[1;33m:\u001b[0m\u001b[1;33m\u001b[0m\u001b[0m\n\u001b[1;32m---> 72\u001b[1;33m         \u001b[1;32mreturn\u001b[0m \u001b[1;33m[\u001b[0m\u001b[0mfunc\u001b[0m\u001b[1;33m(\u001b[0m\u001b[1;33m*\u001b[0m\u001b[0margs\u001b[0m\u001b[1;33m,\u001b[0m \u001b[1;33m**\u001b[0m\u001b[0mkwargs\u001b[0m\u001b[1;33m)\u001b[0m \u001b[1;32mfor\u001b[0m \u001b[0mfunc\u001b[0m\u001b[1;33m,\u001b[0m \u001b[0margs\u001b[0m\u001b[1;33m,\u001b[0m \u001b[0mkwargs\u001b[0m \u001b[1;32min\u001b[0m \u001b[0mself\u001b[0m\u001b[1;33m.\u001b[0m\u001b[0mitems\u001b[0m\u001b[1;33m]\u001b[0m\u001b[1;33m\u001b[0m\u001b[0m\n\u001b[0m\u001b[0;32m     73\u001b[0m \u001b[1;33m\u001b[0m\u001b[0m\n\u001b[0;32m     74\u001b[0m     \u001b[1;32mdef\u001b[0m \u001b[0m__len__\u001b[0m\u001b[1;33m(\u001b[0m\u001b[0mself\u001b[0m\u001b[1;33m)\u001b[0m\u001b[1;33m:\u001b[0m\u001b[1;33m\u001b[0m\u001b[0m\n",
      "\u001b[1;32mC:\\Users\\linghao\\Anaconda2\\lib\\site-packages\\sklearn\\cross_validation.pyc\u001b[0m in \u001b[0;36m_fit_and_score\u001b[1;34m(estimator, X, y, scorer, train, test, verbose, parameters, fit_params, return_train_score, return_parameters, error_score)\u001b[0m\n\u001b[0;32m   1529\u001b[0m             \u001b[0mestimator\u001b[0m\u001b[1;33m.\u001b[0m\u001b[0mfit\u001b[0m\u001b[1;33m(\u001b[0m\u001b[0mX_train\u001b[0m\u001b[1;33m,\u001b[0m \u001b[1;33m**\u001b[0m\u001b[0mfit_params\u001b[0m\u001b[1;33m)\u001b[0m\u001b[1;33m\u001b[0m\u001b[0m\n\u001b[0;32m   1530\u001b[0m         \u001b[1;32melse\u001b[0m\u001b[1;33m:\u001b[0m\u001b[1;33m\u001b[0m\u001b[0m\n\u001b[1;32m-> 1531\u001b[1;33m             \u001b[0mestimator\u001b[0m\u001b[1;33m.\u001b[0m\u001b[0mfit\u001b[0m\u001b[1;33m(\u001b[0m\u001b[0mX_train\u001b[0m\u001b[1;33m,\u001b[0m \u001b[0my_train\u001b[0m\u001b[1;33m,\u001b[0m \u001b[1;33m**\u001b[0m\u001b[0mfit_params\u001b[0m\u001b[1;33m)\u001b[0m\u001b[1;33m\u001b[0m\u001b[0m\n\u001b[0m\u001b[0;32m   1532\u001b[0m \u001b[1;33m\u001b[0m\u001b[0m\n\u001b[0;32m   1533\u001b[0m     \u001b[1;32mexcept\u001b[0m \u001b[0mException\u001b[0m \u001b[1;32mas\u001b[0m \u001b[0me\u001b[0m\u001b[1;33m:\u001b[0m\u001b[1;33m\u001b[0m\u001b[0m\n",
      "\u001b[1;32mC:\\Users\\linghao\\Anaconda2\\lib\\site-packages\\xgboost-0.4-py2.7.egg\\xgboost\\sklearn.pyc\u001b[0m in \u001b[0;36mfit\u001b[1;34m(self, X, y, sample_weight, eval_set, eval_metric, early_stopping_rounds, verbose)\u001b[0m\n\u001b[0;32m    414\u001b[0m                               \u001b[0mearly_stopping_rounds\u001b[0m\u001b[1;33m=\u001b[0m\u001b[0mearly_stopping_rounds\u001b[0m\u001b[1;33m,\u001b[0m\u001b[1;33m\u001b[0m\u001b[0m\n\u001b[0;32m    415\u001b[0m                               \u001b[0mevals_result\u001b[0m\u001b[1;33m=\u001b[0m\u001b[0mevals_result\u001b[0m\u001b[1;33m,\u001b[0m \u001b[0mobj\u001b[0m\u001b[1;33m=\u001b[0m\u001b[0mobj\u001b[0m\u001b[1;33m,\u001b[0m \u001b[0mfeval\u001b[0m\u001b[1;33m=\u001b[0m\u001b[0mfeval\u001b[0m\u001b[1;33m,\u001b[0m\u001b[1;33m\u001b[0m\u001b[0m\n\u001b[1;32m--> 416\u001b[1;33m                               verbose_eval=verbose)\n\u001b[0m\u001b[0;32m    417\u001b[0m \u001b[1;33m\u001b[0m\u001b[0m\n\u001b[0;32m    418\u001b[0m         \u001b[1;32mif\u001b[0m \u001b[0mevals_result\u001b[0m\u001b[1;33m:\u001b[0m\u001b[1;33m\u001b[0m\u001b[0m\n",
      "\u001b[1;32mC:\\Users\\linghao\\Anaconda2\\lib\\site-packages\\xgboost-0.4-py2.7.egg\\xgboost\\training.pyc\u001b[0m in \u001b[0;36mtrain\u001b[1;34m(params, dtrain, num_boost_round, evals, obj, feval, maximize, early_stopping_rounds, evals_result, verbose_eval, learning_rates, xgb_model)\u001b[0m\n\u001b[0;32m    175\u001b[0m         \u001b[1;31m# Skip the first update if it is a recovery step.\u001b[0m\u001b[1;33m\u001b[0m\u001b[1;33m\u001b[0m\u001b[0m\n\u001b[0;32m    176\u001b[0m         \u001b[1;32mif\u001b[0m \u001b[0mversion\u001b[0m \u001b[1;33m%\u001b[0m \u001b[1;36m2\u001b[0m  \u001b[1;33m==\u001b[0m \u001b[1;36m0\u001b[0m\u001b[1;33m:\u001b[0m\u001b[1;33m\u001b[0m\u001b[0m\n\u001b[1;32m--> 177\u001b[1;33m             \u001b[0mbst\u001b[0m\u001b[1;33m.\u001b[0m\u001b[0mupdate\u001b[0m\u001b[1;33m(\u001b[0m\u001b[0mdtrain\u001b[0m\u001b[1;33m,\u001b[0m \u001b[0mi\u001b[0m\u001b[1;33m,\u001b[0m \u001b[0mobj\u001b[0m\u001b[1;33m)\u001b[0m\u001b[1;33m\u001b[0m\u001b[0m\n\u001b[0m\u001b[0;32m    178\u001b[0m             \u001b[0mbst\u001b[0m\u001b[1;33m.\u001b[0m\u001b[0msave_rabit_checkpoint\u001b[0m\u001b[1;33m(\u001b[0m\u001b[1;33m)\u001b[0m\u001b[1;33m\u001b[0m\u001b[0m\n\u001b[0;32m    179\u001b[0m             \u001b[0mversion\u001b[0m \u001b[1;33m+=\u001b[0m \u001b[1;36m1\u001b[0m\u001b[1;33m\u001b[0m\u001b[0m\n",
      "\u001b[1;32mC:\\Users\\linghao\\Anaconda2\\lib\\site-packages\\xgboost-0.4-py2.7.egg\\xgboost\\core.pyc\u001b[0m in \u001b[0;36mupdate\u001b[1;34m(self, dtrain, iteration, fobj)\u001b[0m\n\u001b[0;32m    747\u001b[0m \u001b[1;33m\u001b[0m\u001b[0m\n\u001b[0;32m    748\u001b[0m         \u001b[1;32mif\u001b[0m \u001b[0mfobj\u001b[0m \u001b[1;32mis\u001b[0m \u001b[0mNone\u001b[0m\u001b[1;33m:\u001b[0m\u001b[1;33m\u001b[0m\u001b[0m\n\u001b[1;32m--> 749\u001b[1;33m             \u001b[0m_check_call\u001b[0m\u001b[1;33m(\u001b[0m\u001b[0m_LIB\u001b[0m\u001b[1;33m.\u001b[0m\u001b[0mXGBoosterUpdateOneIter\u001b[0m\u001b[1;33m(\u001b[0m\u001b[0mself\u001b[0m\u001b[1;33m.\u001b[0m\u001b[0mhandle\u001b[0m\u001b[1;33m,\u001b[0m \u001b[0miteration\u001b[0m\u001b[1;33m,\u001b[0m \u001b[0mdtrain\u001b[0m\u001b[1;33m.\u001b[0m\u001b[0mhandle\u001b[0m\u001b[1;33m)\u001b[0m\u001b[1;33m)\u001b[0m\u001b[1;33m\u001b[0m\u001b[0m\n\u001b[0m\u001b[0;32m    750\u001b[0m         \u001b[1;32melse\u001b[0m\u001b[1;33m:\u001b[0m\u001b[1;33m\u001b[0m\u001b[0m\n\u001b[0;32m    751\u001b[0m             \u001b[0mpred\u001b[0m \u001b[1;33m=\u001b[0m \u001b[0mself\u001b[0m\u001b[1;33m.\u001b[0m\u001b[0mpredict\u001b[0m\u001b[1;33m(\u001b[0m\u001b[0mdtrain\u001b[0m\u001b[1;33m)\u001b[0m\u001b[1;33m\u001b[0m\u001b[0m\n",
      "\u001b[1;31mKeyboardInterrupt\u001b[0m: "
     ]
    }
   ],
   "source": [
    "cv = cross_validation.StratifiedKFold(y, n_folds=4, shuffle=True)\n",
    "scores = cross_validation.cross_val_score(clf, x_sel, y, cv=cv, scoring='roc_auc')\n",
    "print(\"Auc: %0.3f (+/- %0.3f)\" % (scores.mean(), scores.std()))"
   ]
  },
  {
   "cell_type": "code",
   "execution_count": null,
   "metadata": {
    "collapsed": true
   },
   "outputs": [],
   "source": [
    "clf.fit(x_train, y_train, early_stopping_rounds=50, eval_metric=\"auc\", eval_set=[(x_test, y_test)])"
   ]
  },
  {
   "cell_type": "code",
   "execution_count": null,
   "metadata": {
    "collapsed": false
   },
   "outputs": [],
   "source": [
    "test = pd.read_csv(zipfile.ZipFile('test.csv.zip').open('test.csv'))\n",
    "sel_test = selectK.transform(test)    \n",
    "y_pred = clf.predict_proba(sel_test)"
   ]
  },
  {
   "cell_type": "code",
   "execution_count": null,
   "metadata": {
    "collapsed": true
   },
   "outputs": [],
   "source": [
    "submission = pd.DataFrame({\"ID\":test.ID, \"TARGET\":y_pred[:,1]})\n",
    "submission.to_csv(\"submission.csv\", index=False)"
   ]
  },
  {
   "cell_type": "markdown",
   "metadata": {},
   "source": [
    "## Grid Search"
   ]
  },
  {
   "cell_type": "code",
   "execution_count": 10,
   "metadata": {
    "collapsed": true
   },
   "outputs": [],
   "source": [
    "import sys\n",
    "class flushfile(object):\n",
    "    def __init__(self, f):\n",
    "        self.f = f\n",
    "\n",
    "    def __getattr__(self,name): \n",
    "        return object.__getattribute__(self.f, name)\n",
    "\n",
    "    def write(self, x):\n",
    "        self.f.write(x)\n",
    "        self.f.flush()\n",
    "\n",
    "    def flush(self):\n",
    "        self.f.flush()\n",
    "sys.stdout = flushfile(sys.stdout)        "
   ]
  },
  {
   "cell_type": "markdown",
   "metadata": {},
   "source": [
    "### Grid Search #1"
   ]
  },
  {
   "cell_type": "code",
   "execution_count": 15,
   "metadata": {
    "collapsed": false
   },
   "outputs": [],
   "source": [
    "from sklearn.grid_search import GridSearchCV\n",
    "clf = xgb.XGBClassifier()\n",
    "xgb_params = {\n",
    "    'learning_rate': [0.1],\n",
    "    'n_estimators': [100, 500, 1000],\n",
    "    'max_depth': [3, 7, 11]\n",
    "}\n",
    "cv = cross_validation.StratifiedKFold(y)\n",
    "grid = GridSearchCV(clf, xgb_params, scoring='roc_auc', cv=cv, verbose=10, n_jobs=1)"
   ]
  },
  {
   "cell_type": "code",
   "execution_count": 12,
   "metadata": {
    "collapsed": true
   },
   "outputs": [
    {
     "name": "stdout",
     "output_type": "stream",
     "text": [
      "Fitting 3 folds for each of 9 candidates, totalling 27 fits\n",
      "[CV] n_estimators=100, learning_rate=0.1, max_depth=3 ................\n",
      "[CV]  n_estimators=100, learning_rate=0.1, max_depth=3, score=0.831969 -   6.1s\n",
      "[CV] n_estimators=100, learning_rate=0.1, max_depth=3 ................\n",
      "[CV]  n_estimators=100, learning_rate=0.1, max_depth=3, score=0.834196 -   6.9s\n",
      "[CV] n_estimators=100, learning_rate=0.1, max_depth=3 ................\n",
      "[CV]  n_estimators=100, learning_rate=0.1, max_depth=3, score=0.842906 -   6.8s\n",
      "[CV] n_estimators=500, learning_rate=0.1, max_depth=3 ................\n",
      "[CV]  n_estimators=500, learning_rate=0.1, max_depth=3, score=0.826961 -  29.5s\n"
     ]
    },
    {
     "name": "stderr",
     "output_type": "stream",
     "text": [
      "[Parallel(n_jobs=1)]: Done   1 tasks       | elapsed:    6.1s\n",
      "[Parallel(n_jobs=1)]: Done   4 tasks       | elapsed:   49.7s\n"
     ]
    },
    {
     "name": "stdout",
     "output_type": "stream",
     "text": [
      "[CV] n_estimators=500, learning_rate=0.1, max_depth=3 ................\n",
      "[CV]  n_estimators=500, learning_rate=0.1, max_depth=3, score=0.830471 -  29.5s\n",
      "[CV] n_estimators=500, learning_rate=0.1, max_depth=3 ................\n",
      "[CV]  n_estimators=500, learning_rate=0.1, max_depth=3, score=0.838799 -  29.8s\n",
      "[CV] n_estimators=1000, learning_rate=0.1, max_depth=3 ...............\n",
      "[CV]  n_estimators=1000, learning_rate=0.1, max_depth=3, score=0.821769 -  56.9s\n",
      "[CV] n_estimators=1000, learning_rate=0.1, max_depth=3 ...............\n",
      "[CV]  n_estimators=1000, learning_rate=0.1, max_depth=3, score=0.823983 -  57.0s\n",
      "[CV] n_estimators=1000, learning_rate=0.1, max_depth=3 ...............\n",
      "[CV]  n_estimators=1000, learning_rate=0.1, max_depth=3, score=0.830945 -  57.8s\n",
      "[CV] n_estimators=100, learning_rate=0.1, max_depth=7 ................\n",
      "[CV]  n_estimators=100, learning_rate=0.1, max_depth=7, score=0.828725 -  14.1s\n",
      "[CV] n_estimators=100, learning_rate=0.1, max_depth=7 ................\n",
      "[CV]  n_estimators=100, learning_rate=0.1, max_depth=7, score=0.831805 -  13.6s\n",
      "[CV] n_estimators=100, learning_rate=0.1, max_depth=7 ................\n",
      "[CV]  n_estimators=100, learning_rate=0.1, max_depth=7, score=0.840774 -  13.8s\n"
     ]
    },
    {
     "name": "stderr",
     "output_type": "stream",
     "text": [
      "[Parallel(n_jobs=1)]: Done   7 tasks       | elapsed:  2.8min\n",
      "[Parallel(n_jobs=1)]: Done  12 tasks       | elapsed:  5.4min\n"
     ]
    },
    {
     "name": "stdout",
     "output_type": "stream",
     "text": [
      "[CV] n_estimators=500, learning_rate=0.1, max_depth=7 ................\n",
      "[CV]  n_estimators=500, learning_rate=0.1, max_depth=7, score=0.807271 - 1.1min\n",
      "[CV] n_estimators=500, learning_rate=0.1, max_depth=7 ................\n",
      "[CV]  n_estimators=500, learning_rate=0.1, max_depth=7, score=0.809292 - 1.1min\n",
      "[CV] n_estimators=500, learning_rate=0.1, max_depth=7 ................\n",
      "[CV]  n_estimators=500, learning_rate=0.1, max_depth=7, score=0.816808 - 1.1min\n",
      "[CV] n_estimators=1000, learning_rate=0.1, max_depth=7 ...............\n",
      "[CV]  n_estimators=1000, learning_rate=0.1, max_depth=7, score=0.793121 - 2.2min\n",
      "[CV] n_estimators=1000, learning_rate=0.1, max_depth=7 ...............\n",
      "[CV]  n_estimators=1000, learning_rate=0.1, max_depth=7, score=0.792721 - 2.4min\n",
      "[CV] n_estimators=1000, learning_rate=0.1, max_depth=7 ...............\n",
      "[CV]  n_estimators=1000, learning_rate=0.1, max_depth=7, score=0.802070 - 2.3min\n",
      "[CV] n_estimators=100, learning_rate=0.1, max_depth=11 ...............\n",
      "[CV]  n_estimators=100, learning_rate=0.1, max_depth=11, score=0.820608 -  21.2s\n",
      "[CV] n_estimators=100, learning_rate=0.1, max_depth=11 ...............\n",
      "[CV]  n_estimators=100, learning_rate=0.1, max_depth=11, score=0.824042 -  21.7s\n",
      "[CV] n_estimators=100, learning_rate=0.1, max_depth=11 ...............\n",
      "[CV]  n_estimators=100, learning_rate=0.1, max_depth=11, score=0.832822 -  21.5s\n",
      "[CV] n_estimators=500, learning_rate=0.1, max_depth=11 ...............\n",
      "[CV]  n_estimators=500, learning_rate=0.1, max_depth=11, score=0.793399 - 1.7min\n",
      "[CV] n_estimators=500, learning_rate=0.1, max_depth=11 ...............\n",
      "[CV]  n_estimators=500, learning_rate=0.1, max_depth=11, score=0.795652 - 1.7min\n",
      "[CV] n_estimators=500, learning_rate=0.1, max_depth=11 ...............\n",
      "[CV]  n_estimators=500, learning_rate=0.1, max_depth=11, score=0.807263 - 1.7min\n"
     ]
    },
    {
     "name": "stderr",
     "output_type": "stream",
     "text": [
      "[Parallel(n_jobs=1)]: Done  17 tasks       | elapsed: 13.3min\n",
      "[Parallel(n_jobs=1)]: Done  24 tasks       | elapsed: 21.7min\n"
     ]
    },
    {
     "name": "stdout",
     "output_type": "stream",
     "text": [
      "[CV] n_estimators=1000, learning_rate=0.1, max_depth=11 ..............\n",
      "[CV]  n_estimators=1000, learning_rate=0.1, max_depth=11, score=0.779233 - 3.4min\n",
      "[CV] n_estimators=1000, learning_rate=0.1, max_depth=11 ..............\n",
      "[CV]  n_estimators=1000, learning_rate=0.1, max_depth=11, score=0.783280 - 3.3min\n",
      "[CV] n_estimators=1000, learning_rate=0.1, max_depth=11 ..............\n",
      "[CV]  n_estimators=1000, learning_rate=0.1, max_depth=11, score=0.794498 - 3.3min\n"
     ]
    },
    {
     "name": "stderr",
     "output_type": "stream",
     "text": [
      "[Parallel(n_jobs=1)]: Done  27 out of  27 | elapsed: 31.7min finished\n"
     ]
    },
    {
     "data": {
      "text/plain": [
       "GridSearchCV(cv=sklearn.cross_validation.StratifiedKFold(labels=[0 0 ..., 0 0], n_folds=3, shuffle=False, random_state=None),\n",
       "       error_score='raise',\n",
       "       estimator=XGBClassifier(base_score=0.5, colsample_bylevel=1, colsample_bytree=1,\n",
       "       gamma=0, learning_rate=0.1, max_delta_step=0, max_depth=3,\n",
       "       min_child_weight=1, missing=None, n_estimators=100, nthread=-1,\n",
       "       objective='binary:logistic', reg_alpha=0, reg_lambda=1,\n",
       "       scale_pos_weight=1, seed=0, silent=True, subsample=1),\n",
       "       fit_params={}, iid=True, n_jobs=1,\n",
       "       param_grid={'n_estimators': [100, 500, 1000], 'learning_rate': [0.1], 'max_depth': [3, 7, 11]},\n",
       "       pre_dispatch='2*n_jobs', refit=True, scoring='roc_auc', verbose=10)"
      ]
     },
     "execution_count": 12,
     "metadata": {},
     "output_type": "execute_result"
    }
   ],
   "source": [
    "grid.fit(x_sel, y)"
   ]
  },
  {
   "cell_type": "code",
   "execution_count": 13,
   "metadata": {
    "collapsed": false,
    "scrolled": true
   },
   "outputs": [
    {
     "data": {
      "text/plain": [
       "{'learning_rate': 0.1, 'max_depth': 3, 'n_estimators': 100}"
      ]
     },
     "execution_count": 13,
     "metadata": {},
     "output_type": "execute_result"
    }
   ],
   "source": [
    "grid.best_params_"
   ]
  },
  {
   "cell_type": "markdown",
   "metadata": {},
   "source": [
    "### Grid Search #2"
   ]
  },
  {
   "cell_type": "code",
   "execution_count": 20,
   "metadata": {
    "collapsed": true
   },
   "outputs": [],
   "source": [
    "clf = xgb.XGBClassifier()\n",
    "xgb_params = {\n",
    "    'learning_rate': [0.05],\n",
    "    'n_estimators': [50, 100, 200],\n",
    "    'max_depth': [3, 5, 7]\n",
    "}\n",
    "cv = cross_validation.StratifiedKFold(y)\n",
    "grid = GridSearchCV(clf, xgb_params, scoring='roc_auc', cv=cv, verbose=10, n_jobs=1)"
   ]
  },
  {
   "cell_type": "code",
   "execution_count": 21,
   "metadata": {
    "collapsed": false,
    "scrolled": true
   },
   "outputs": [
    {
     "name": "stdout",
     "output_type": "stream",
     "text": [
      "Fitting 3 folds for each of 9 candidates, totalling 27 fits\n",
      "[CV] n_estimators=50, learning_rate=0.05, max_depth=3 ................\n",
      "[CV]  n_estimators=50, learning_rate=0.05, max_depth=3, score=0.819960 -   4.1s\n",
      "[CV] n_estimators=50, learning_rate=0.05, max_depth=3 ................\n",
      "[CV]  n_estimators=50, learning_rate=0.05, max_depth=3, score=0.818120 -   4.2s\n",
      "[CV] n_estimators=50, learning_rate=0.05, max_depth=3 ................\n",
      "[CV]  n_estimators=50, learning_rate=0.05, max_depth=3, score=0.831482 -   4.0s\n",
      "[CV] n_estimators=100, learning_rate=0.05, max_depth=3 ...............\n",
      "[CV]  n_estimators=100, learning_rate=0.05, max_depth=3, score=0.828535 -   9.0s\n"
     ]
    },
    {
     "name": "stderr",
     "output_type": "stream",
     "text": [
      "[Parallel(n_jobs=1)]: Done   1 tasks       | elapsed:    4.1s\n",
      "[Parallel(n_jobs=1)]: Done   4 tasks       | elapsed:   21.6s\n"
     ]
    },
    {
     "name": "stdout",
     "output_type": "stream",
     "text": [
      "[CV] n_estimators=100, learning_rate=0.05, max_depth=3 ...............\n",
      "[CV]  n_estimators=100, learning_rate=0.05, max_depth=3, score=0.827822 -   9.4s\n",
      "[CV] n_estimators=100, learning_rate=0.05, max_depth=3 ...............\n",
      "[CV]  n_estimators=100, learning_rate=0.05, max_depth=3, score=0.838799 -  11.3s\n",
      "[CV] n_estimators=200, learning_rate=0.05, max_depth=3 ...............\n",
      "[CV]  n_estimators=200, learning_rate=0.05, max_depth=3, score=0.832084 -  14.2s\n",
      "[CV] n_estimators=200, learning_rate=0.05, max_depth=3 ...............\n",
      "[CV]  n_estimators=200, learning_rate=0.05, max_depth=3, score=0.834375 -  13.4s\n",
      "[CV] n_estimators=200, learning_rate=0.05, max_depth=3 ...............\n",
      "[CV]  n_estimators=200, learning_rate=0.05, max_depth=3, score=0.842502 -  15.5s\n",
      "[CV] n_estimators=50, learning_rate=0.05, max_depth=5 ................\n",
      "[CV]  n_estimators=50, learning_rate=0.05, max_depth=5, score=0.828902 -   6.6s\n",
      "[CV] n_estimators=50, learning_rate=0.05, max_depth=5 ................\n",
      "[CV]  n_estimators=50, learning_rate=0.05, max_depth=5, score=0.827834 -   8.5s\n",
      "[CV] n_estimators=50, learning_rate=0.05, max_depth=5 ................\n",
      "[CV]  n_estimators=50, learning_rate=0.05, max_depth=5, score=0.841015 -   6.0s\n"
     ]
    },
    {
     "name": "stderr",
     "output_type": "stream",
     "text": [
      "[Parallel(n_jobs=1)]: Done   7 tasks       | elapsed:   56.8s\n",
      "[Parallel(n_jobs=1)]: Done  12 tasks       | elapsed:  1.8min\n"
     ]
    },
    {
     "name": "stdout",
     "output_type": "stream",
     "text": [
      "[CV] n_estimators=100, learning_rate=0.05, max_depth=5 ...............\n",
      "[CV]  n_estimators=100, learning_rate=0.05, max_depth=5, score=0.832732 -  12.5s\n",
      "[CV] n_estimators=100, learning_rate=0.05, max_depth=5 ...............\n",
      "[CV]  n_estimators=100, learning_rate=0.05, max_depth=5, score=0.834168 -  13.7s\n",
      "[CV] n_estimators=100, learning_rate=0.05, max_depth=5 ...............\n",
      "[CV]  n_estimators=100, learning_rate=0.05, max_depth=5, score=0.843696 -  13.1s\n",
      "[CV] n_estimators=200, learning_rate=0.05, max_depth=5 ...............\n",
      "[CV]  n_estimators=200, learning_rate=0.05, max_depth=5, score=0.831739 -  28.6s\n",
      "[CV] n_estimators=200, learning_rate=0.05, max_depth=5 ...............\n",
      "[CV]  n_estimators=200, learning_rate=0.05, max_depth=5, score=0.835096 -  23.9s\n",
      "[CV] n_estimators=200, learning_rate=0.05, max_depth=5 ...............\n",
      "[CV]  n_estimators=200, learning_rate=0.05, max_depth=5, score=0.844106 -  24.3s\n",
      "[CV] n_estimators=50, learning_rate=0.05, max_depth=7 ................\n",
      "[CV]  n_estimators=50, learning_rate=0.05, max_depth=7, score=0.829225 -  12.5s\n",
      "[CV] n_estimators=50, learning_rate=0.05, max_depth=7 ................\n",
      "[CV]  n_estimators=50, learning_rate=0.05, max_depth=7, score=0.830814 -  11.4s\n",
      "[CV] n_estimators=50, learning_rate=0.05, max_depth=7 ................\n",
      "[CV]  n_estimators=50, learning_rate=0.05, max_depth=7, score=0.842144 -   9.4s\n",
      "[CV] n_estimators=100, learning_rate=0.05, max_depth=7 ...............\n",
      "[CV]  n_estimators=100, learning_rate=0.05, max_depth=7, score=0.830183 -  16.8s\n",
      "[CV] n_estimators=100, learning_rate=0.05, max_depth=7 ...............\n",
      "[CV]  n_estimators=100, learning_rate=0.05, max_depth=7, score=0.833083 -  16.6s\n",
      "[CV] n_estimators=100, learning_rate=0.05, max_depth=7 ...............\n",
      "[CV]  n_estimators=100, learning_rate=0.05, max_depth=7, score=0.843062 -  21.4s\n"
     ]
    },
    {
     "name": "stderr",
     "output_type": "stream",
     "text": [
      "[Parallel(n_jobs=1)]: Done  17 tasks       | elapsed:  3.3min\n",
      "[Parallel(n_jobs=1)]: Done  24 tasks       | elapsed:  5.2min\n"
     ]
    },
    {
     "name": "stdout",
     "output_type": "stream",
     "text": [
      "[CV] n_estimators=200, learning_rate=0.05, max_depth=7 ...............\n",
      "[CV]  n_estimators=200, learning_rate=0.05, max_depth=7, score=0.828685 -  42.1s\n",
      "[CV] n_estimators=200, learning_rate=0.05, max_depth=7 ...............\n",
      "[CV]  n_estimators=200, learning_rate=0.05, max_depth=7, score=0.832836 -  37.0s\n",
      "[CV] n_estimators=200, learning_rate=0.05, max_depth=7 ...............\n",
      "[CV]  n_estimators=200, learning_rate=0.05, max_depth=7, score=0.841887 -  35.6s\n"
     ]
    },
    {
     "name": "stderr",
     "output_type": "stream",
     "text": [
      "[Parallel(n_jobs=1)]: Done  27 out of  27 | elapsed:  7.1min finished\n"
     ]
    },
    {
     "data": {
      "text/plain": [
       "GridSearchCV(cv=sklearn.cross_validation.StratifiedKFold(labels=[0 0 ..., 0 0], n_folds=3, shuffle=False, random_state=None),\n",
       "       error_score='raise',\n",
       "       estimator=XGBClassifier(base_score=0.5, colsample_bylevel=1, colsample_bytree=1,\n",
       "       gamma=0, learning_rate=0.1, max_delta_step=0, max_depth=3,\n",
       "       min_child_weight=1, missing=None, n_estimators=100, nthread=-1,\n",
       "       objective='binary:logistic', reg_alpha=0, reg_lambda=1,\n",
       "       scale_pos_weight=1, seed=0, silent=True, subsample=1),\n",
       "       fit_params={}, iid=True, n_jobs=1,\n",
       "       param_grid={'n_estimators': [50, 100, 200], 'learning_rate': [0.05], 'max_depth': [3, 5, 7]},\n",
       "       pre_dispatch='2*n_jobs', refit=True, scoring='roc_auc', verbose=10)"
      ]
     },
     "execution_count": 21,
     "metadata": {},
     "output_type": "execute_result"
    }
   ],
   "source": [
    "grid.fit(x_sel, y)"
   ]
  },
  {
   "cell_type": "code",
   "execution_count": 22,
   "metadata": {
    "collapsed": false
   },
   "outputs": [
    {
     "data": {
      "text/plain": [
       "{'learning_rate': 0.05, 'max_depth': 5, 'n_estimators': 200}"
      ]
     },
     "execution_count": 22,
     "metadata": {},
     "output_type": "execute_result"
    }
   ],
   "source": [
    "grid.best_params_"
   ]
  },
  {
   "cell_type": "markdown",
   "metadata": {},
   "source": [
    "### Grid Search #3"
   ]
  },
  {
   "cell_type": "code",
   "execution_count": 24,
   "metadata": {
    "collapsed": false
   },
   "outputs": [],
   "source": [
    "clf = xgb.XGBClassifier()\n",
    "xgb_params = {\n",
    "    'learning_rate': [0.05],\n",
    "    'n_estimators': [200, 300, 400],\n",
    "    'max_depth': [4, 5, 6],\n",
    "    'subsample': [0.9, 0.925, 0.95, 0.975],\n",
    "    'colsample_bytree': [0.8, 0.825, 0.85, 0.875, 0.9],\n",
    "    'seed': [1126]\n",
    "}\n",
    "cv = cross_validation.StratifiedKFold(y)\n",
    "grid = GridSearchCV(clf, xgb_params, scoring='roc_auc', cv=cv, verbose=10, n_jobs=1)"
   ]
  },
  {
   "cell_type": "code",
   "execution_count": 25,
   "metadata": {
    "collapsed": false,
    "scrolled": true
   },
   "outputs": [
    {
     "name": "stdout",
     "output_type": "stream",
     "text": [
      "Fitting 3 folds for each of 180 candidates, totalling 540 fits\n",
      "[CV] colsample_bytree=0.8, learning_rate=0.05, n_estimators=200, subsample=0.9, seed=1126, max_depth=4 \n",
      "[CV]  colsample_bytree=0.8, learning_rate=0.05, n_estimators=200, subsample=0.9, seed=1126, max_depth=4, score=0.832325 -  15.3s\n",
      "[CV] colsample_bytree=0.8, learning_rate=0.05, n_estimators=200, subsample=0.9, seed=1126, max_depth=4 \n",
      "[CV]  colsample_bytree=0.8, learning_rate=0.05, n_estimators=200, subsample=0.9, seed=1126, max_depth=4, score=0.834789 -  16.7s\n",
      "[CV] colsample_bytree=0.8, learning_rate=0.05, n_estimators=200, subsample=0.9, seed=1126, max_depth=4 \n",
      "[CV]  colsample_bytree=0.8, learning_rate=0.05, n_estimators=200, subsample=0.9, seed=1126, max_depth=4, score=0.843784 -  18.9s\n",
      "[CV] colsample_bytree=0.8, learning_rate=0.05, n_estimators=200, subsample=0.925, seed=1126, max_depth=4 \n",
      "[CV]  colsample_bytree=0.8, learning_rate=0.05, n_estimators=200, subsample=0.925, seed=1126, max_depth=4, score=0.832733 -  18.2s\n"
     ]
    },
    {
     "name": "stderr",
     "output_type": "stream",
     "text": [
      "[Parallel(n_jobs=1)]: Done   1 tasks       | elapsed:   15.3s\n",
      "[Parallel(n_jobs=1)]: Done   4 tasks       | elapsed:  1.2min\n"
     ]
    },
    {
     "name": "stdout",
     "output_type": "stream",
     "text": [
      "[CV] colsample_bytree=0.8, learning_rate=0.05, n_estimators=200, subsample=0.925, seed=1126, max_depth=4 \n",
      "[CV]  colsample_bytree=0.8, learning_rate=0.05, n_estimators=200, subsample=0.925, seed=1126, max_depth=4, score=0.834688 -  16.2s\n",
      "[CV] colsample_bytree=0.8, learning_rate=0.05, n_estimators=200, subsample=0.925, seed=1126, max_depth=4 \n",
      "[CV]  colsample_bytree=0.8, learning_rate=0.05, n_estimators=200, subsample=0.925, seed=1126, max_depth=4, score=0.843864 -  21.0s\n",
      "[CV] colsample_bytree=0.8, learning_rate=0.05, n_estimators=200, subsample=0.95, seed=1126, max_depth=4 \n",
      "[CV]  colsample_bytree=0.8, learning_rate=0.05, n_estimators=200, subsample=0.95, seed=1126, max_depth=4, score=0.832289 -  19.0s\n",
      "[CV] colsample_bytree=0.8, learning_rate=0.05, n_estimators=200, subsample=0.95, seed=1126, max_depth=4 \n",
      "[CV]  colsample_bytree=0.8, learning_rate=0.05, n_estimators=200, subsample=0.95, seed=1126, max_depth=4, score=0.835278 -  17.2s\n",
      "[CV] colsample_bytree=0.8, learning_rate=0.05, n_estimators=200, subsample=0.95, seed=1126, max_depth=4 \n",
      "[CV]  colsample_bytree=0.8, learning_rate=0.05, n_estimators=200, subsample=0.95, seed=1126, max_depth=4, score=0.843390 -  16.7s\n",
      "[CV] colsample_bytree=0.8, learning_rate=0.05, n_estimators=200, subsample=0.975, seed=1126, max_depth=4 \n",
      "[CV]  colsample_bytree=0.8, learning_rate=0.05, n_estimators=200, subsample=0.975, seed=1126, max_depth=4, score=0.832649 -  15.7s\n",
      "[CV] colsample_bytree=0.8, learning_rate=0.05, n_estimators=200, subsample=0.975, seed=1126, max_depth=4 \n",
      "[CV]  colsample_bytree=0.8, learning_rate=0.05, n_estimators=200, subsample=0.975, seed=1126, max_depth=4, score=0.834942 -  16.3s\n",
      "[CV] colsample_bytree=0.8, learning_rate=0.05, n_estimators=200, subsample=0.975, seed=1126, max_depth=4 \n",
      "[CV]  colsample_bytree=0.8, learning_rate=0.05, n_estimators=200, subsample=0.975, seed=1126, max_depth=4, score=0.843555 -  15.4s\n"
     ]
    },
    {
     "name": "stderr",
     "output_type": "stream",
     "text": [
      "[Parallel(n_jobs=1)]: Done   7 tasks       | elapsed:  2.1min\n",
      "[Parallel(n_jobs=1)]: Done  12 tasks       | elapsed:  3.5min\n"
     ]
    },
    {
     "name": "stdout",
     "output_type": "stream",
     "text": [
      "[CV] colsample_bytree=0.8, learning_rate=0.05, n_estimators=300, subsample=0.9, seed=1126, max_depth=4 \n",
      "[CV]  colsample_bytree=0.8, learning_rate=0.05, n_estimators=300, subsample=0.9, seed=1126, max_depth=4, score=0.830988 -  24.4s\n",
      "[CV] colsample_bytree=0.8, learning_rate=0.05, n_estimators=300, subsample=0.9, seed=1126, max_depth=4 \n",
      "[CV]  colsample_bytree=0.8, learning_rate=0.05, n_estimators=300, subsample=0.9, seed=1126, max_depth=4, score=0.834061 -  22.6s\n",
      "[CV] colsample_bytree=0.8, learning_rate=0.05, n_estimators=300, subsample=0.9, seed=1126, max_depth=4 \n",
      "[CV]  colsample_bytree=0.8, learning_rate=0.05, n_estimators=300, subsample=0.9, seed=1126, max_depth=4, score=0.843782 -  28.2s\n",
      "[CV] colsample_bytree=0.8, learning_rate=0.05, n_estimators=300, subsample=0.925, seed=1126, max_depth=4 \n",
      "[CV]  colsample_bytree=0.8, learning_rate=0.05, n_estimators=300, subsample=0.925, seed=1126, max_depth=4, score=0.831721 -  22.2s\n",
      "[CV] colsample_bytree=0.8, learning_rate=0.05, n_estimators=300, subsample=0.925, seed=1126, max_depth=4 \n",
      "[CV]  colsample_bytree=0.8, learning_rate=0.05, n_estimators=300, subsample=0.925, seed=1126, max_depth=4, score=0.834276 -  20.3s\n",
      "[CV] colsample_bytree=0.8, learning_rate=0.05, n_estimators=300, subsample=0.925, seed=1126, max_depth=4 \n",
      "[CV]  colsample_bytree=0.8, learning_rate=0.05, n_estimators=300, subsample=0.925, seed=1126, max_depth=4, score=0.843792 -  21.4s\n",
      "[CV] colsample_bytree=0.8, learning_rate=0.05, n_estimators=300, subsample=0.95, seed=1126, max_depth=4 \n",
      "[CV]  colsample_bytree=0.8, learning_rate=0.05, n_estimators=300, subsample=0.95, seed=1126, max_depth=4, score=0.831379 -  21.2s\n",
      "[CV] colsample_bytree=0.8, learning_rate=0.05, n_estimators=300, subsample=0.95, seed=1126, max_depth=4 \n",
      "[CV]  colsample_bytree=0.8, learning_rate=0.05, n_estimators=300, subsample=0.95, seed=1126, max_depth=4, score=0.834916 -  21.8s\n",
      "[CV] colsample_bytree=0.8, learning_rate=0.05, n_estimators=300, subsample=0.95, seed=1126, max_depth=4 \n",
      "[CV]  colsample_bytree=0.8, learning_rate=0.05, n_estimators=300, subsample=0.95, seed=1126, max_depth=4, score=0.843699 -  24.1s\n",
      "[CV] colsample_bytree=0.8, learning_rate=0.05, n_estimators=300, subsample=0.975, seed=1126, max_depth=4 \n",
      "[CV]  colsample_bytree=0.8, learning_rate=0.05, n_estimators=300, subsample=0.975, seed=1126, max_depth=4, score=0.831200 -  30.5s\n",
      "[CV] colsample_bytree=0.8, learning_rate=0.05, n_estimators=300, subsample=0.975, seed=1126, max_depth=4 \n",
      "[CV]  colsample_bytree=0.8, learning_rate=0.05, n_estimators=300, subsample=0.975, seed=1126, max_depth=4, score=0.834987 -  31.1s\n",
      "[CV] colsample_bytree=0.8, learning_rate=0.05, n_estimators=300, subsample=0.975, seed=1126, max_depth=4 \n",
      "[CV]  colsample_bytree=0.8, learning_rate=0.05, n_estimators=300, subsample=0.975, seed=1126, max_depth=4, score=0.843190 -  25.4s\n"
     ]
    },
    {
     "name": "stderr",
     "output_type": "stream",
     "text": [
      "[Parallel(n_jobs=1)]: Done  17 tasks       | elapsed:  5.4min\n",
      "[Parallel(n_jobs=1)]: Done  24 tasks       | elapsed:  8.4min\n"
     ]
    },
    {
     "name": "stdout",
     "output_type": "stream",
     "text": [
      "[CV] colsample_bytree=0.8, learning_rate=0.05, n_estimators=400, subsample=0.9, seed=1126, max_depth=4 \n",
      "[CV]  colsample_bytree=0.8, learning_rate=0.05, n_estimators=400, subsample=0.9, seed=1126, max_depth=4, score=0.830365 -  33.3s\n",
      "[CV] colsample_bytree=0.8, learning_rate=0.05, n_estimators=400, subsample=0.9, seed=1126, max_depth=4 \n",
      "[CV]  colsample_bytree=0.8, learning_rate=0.05, n_estimators=400, subsample=0.9, seed=1126, max_depth=4, score=0.833237 -  36.4s\n",
      "[CV] colsample_bytree=0.8, learning_rate=0.05, n_estimators=400, subsample=0.9, seed=1126, max_depth=4 \n",
      "[CV]  colsample_bytree=0.8, learning_rate=0.05, n_estimators=400, subsample=0.9, seed=1126, max_depth=4, score=0.843293 -  36.3s\n",
      "[CV] colsample_bytree=0.8, learning_rate=0.05, n_estimators=400, subsample=0.925, seed=1126, max_depth=4 \n",
      "[CV]  colsample_bytree=0.8, learning_rate=0.05, n_estimators=400, subsample=0.925, seed=1126, max_depth=4, score=0.831023 -  31.9s\n",
      "[CV] colsample_bytree=0.8, learning_rate=0.05, n_estimators=400, subsample=0.925, seed=1126, max_depth=4 \n",
      "[CV]  colsample_bytree=0.8, learning_rate=0.05, n_estimators=400, subsample=0.925, seed=1126, max_depth=4, score=0.833244 -  37.3s\n",
      "[CV] colsample_bytree=0.8, learning_rate=0.05, n_estimators=400, subsample=0.925, seed=1126, max_depth=4 \n",
      "[CV]  colsample_bytree=0.8, learning_rate=0.05, n_estimators=400, subsample=0.925, seed=1126, max_depth=4, score=0.843083 -  37.6s\n",
      "[CV] colsample_bytree=0.8, learning_rate=0.05, n_estimators=400, subsample=0.95, seed=1126, max_depth=4 \n",
      "[CV]  colsample_bytree=0.8, learning_rate=0.05, n_estimators=400, subsample=0.95, seed=1126, max_depth=4, score=0.830389 -  29.3s\n",
      "[CV] colsample_bytree=0.8, learning_rate=0.05, n_estimators=400, subsample=0.95, seed=1126, max_depth=4 \n",
      "[CV]  colsample_bytree=0.8, learning_rate=0.05, n_estimators=400, subsample=0.95, seed=1126, max_depth=4, score=0.833517 -  31.5s\n",
      "[CV] colsample_bytree=0.8, learning_rate=0.05, n_estimators=400, subsample=0.95, seed=1126, max_depth=4 \n",
      "[CV]  colsample_bytree=0.8, learning_rate=0.05, n_estimators=400, subsample=0.95, seed=1126, max_depth=4, score=0.843090 -  34.7s\n",
      "[CV] colsample_bytree=0.8, learning_rate=0.05, n_estimators=400, subsample=0.975, seed=1126, max_depth=4 \n",
      "[CV]  colsample_bytree=0.8, learning_rate=0.05, n_estimators=400, subsample=0.975, seed=1126, max_depth=4, score=0.830021 -  32.0s\n",
      "[CV] colsample_bytree=0.8, learning_rate=0.05, n_estimators=400, subsample=0.975, seed=1126, max_depth=4 \n",
      "[CV]  colsample_bytree=0.8, learning_rate=0.05, n_estimators=400, subsample=0.975, seed=1126, max_depth=4, score=0.834165 -  33.5s\n",
      "[CV] colsample_bytree=0.8, learning_rate=0.05, n_estimators=400, subsample=0.975, seed=1126, max_depth=4 \n",
      "[CV]  colsample_bytree=0.8, learning_rate=0.05, n_estimators=400, subsample=0.975, seed=1126, max_depth=4, score=0.842395 -  35.0s\n",
      "[CV] colsample_bytree=0.8, learning_rate=0.05, n_estimators=200, subsample=0.9, seed=1126, max_depth=5 \n",
      "[CV]  colsample_bytree=0.8, learning_rate=0.05, n_estimators=200, subsample=0.9, seed=1126, max_depth=5, score=0.830994 -  22.8s\n",
      "[CV] colsample_bytree=0.8, learning_rate=0.05, n_estimators=200, subsample=0.9, seed=1126, max_depth=5 \n",
      "[CV]  colsample_bytree=0.8, learning_rate=0.05, n_estimators=200, subsample=0.9, seed=1126, max_depth=5, score=0.834345 -  20.5s\n",
      "[CV] colsample_bytree=0.8, learning_rate=0.05, n_estimators=200, subsample=0.9, seed=1126, max_depth=5 \n",
      "[CV]  colsample_bytree=0.8, learning_rate=0.05, n_estimators=200, subsample=0.9, seed=1126, max_depth=5, score=0.844057 -  22.3s\n",
      "[CV] colsample_bytree=0.8, learning_rate=0.05, n_estimators=200, subsample=0.925, seed=1126, max_depth=5 \n",
      "[CV]  colsample_bytree=0.8, learning_rate=0.05, n_estimators=200, subsample=0.925, seed=1126, max_depth=5, score=0.831967 -  21.2s\n"
     ]
    },
    {
     "name": "stderr",
     "output_type": "stream",
     "text": [
      "[Parallel(n_jobs=1)]: Done  31 tasks       | elapsed: 12.4min\n",
      "[Parallel(n_jobs=1)]: Done  40 tasks       | elapsed: 16.7min\n"
     ]
    },
    {
     "name": "stdout",
     "output_type": "stream",
     "text": [
      "[CV] colsample_bytree=0.8, learning_rate=0.05, n_estimators=200, subsample=0.925, seed=1126, max_depth=5 \n",
      "[CV]  colsample_bytree=0.8, learning_rate=0.05, n_estimators=200, subsample=0.925, seed=1126, max_depth=5, score=0.834174 -  20.5s\n",
      "[CV] colsample_bytree=0.8, learning_rate=0.05, n_estimators=200, subsample=0.925, seed=1126, max_depth=5 \n",
      "[CV]  colsample_bytree=0.8, learning_rate=0.05, n_estimators=200, subsample=0.925, seed=1126, max_depth=5, score=0.844361 -  20.9s\n",
      "[CV] colsample_bytree=0.8, learning_rate=0.05, n_estimators=200, subsample=0.95, seed=1126, max_depth=5 \n",
      "[CV]  colsample_bytree=0.8, learning_rate=0.05, n_estimators=200, subsample=0.95, seed=1126, max_depth=5, score=0.831129 -  18.3s\n",
      "[CV] colsample_bytree=0.8, learning_rate=0.05, n_estimators=200, subsample=0.95, seed=1126, max_depth=5 \n",
      "[CV]  colsample_bytree=0.8, learning_rate=0.05, n_estimators=200, subsample=0.95, seed=1126, max_depth=5, score=0.835017 -  16.8s\n",
      "[CV] colsample_bytree=0.8, learning_rate=0.05, n_estimators=200, subsample=0.95, seed=1126, max_depth=5 \n",
      "[CV]  colsample_bytree=0.8, learning_rate=0.05, n_estimators=200, subsample=0.95, seed=1126, max_depth=5, score=0.844186 -  17.9s\n",
      "[CV] colsample_bytree=0.8, learning_rate=0.05, n_estimators=200, subsample=0.975, seed=1126, max_depth=5 \n",
      "[CV]  colsample_bytree=0.8, learning_rate=0.05, n_estimators=200, subsample=0.975, seed=1126, max_depth=5, score=0.831139 -  16.9s\n",
      "[CV] colsample_bytree=0.8, learning_rate=0.05, n_estimators=200, subsample=0.975, seed=1126, max_depth=5 \n",
      "[CV]  colsample_bytree=0.8, learning_rate=0.05, n_estimators=200, subsample=0.975, seed=1126, max_depth=5, score=0.835114 -  17.2s\n",
      "[CV] colsample_bytree=0.8, learning_rate=0.05, n_estimators=200, subsample=0.975, seed=1126, max_depth=5 \n",
      "[CV]  colsample_bytree=0.8, learning_rate=0.05, n_estimators=200, subsample=0.975, seed=1126, max_depth=5, score=0.844373 -  17.8s\n",
      "[CV] colsample_bytree=0.8, learning_rate=0.05, n_estimators=300, subsample=0.9, seed=1126, max_depth=5 \n",
      "[CV]  colsample_bytree=0.8, learning_rate=0.05, n_estimators=300, subsample=0.9, seed=1126, max_depth=5, score=0.829056 -  27.2s\n",
      "[CV] colsample_bytree=0.8, learning_rate=0.05, n_estimators=300, subsample=0.9, seed=1126, max_depth=5 \n",
      "[CV]  colsample_bytree=0.8, learning_rate=0.05, n_estimators=300, subsample=0.9, seed=1126, max_depth=5, score=0.833256 -  26.7s\n",
      "[CV] colsample_bytree=0.8, learning_rate=0.05, n_estimators=300, subsample=0.9, seed=1126, max_depth=5 \n",
      "[CV]  colsample_bytree=0.8, learning_rate=0.05, n_estimators=300, subsample=0.9, seed=1126, max_depth=5, score=0.843286 -  30.1s\n",
      "[CV] colsample_bytree=0.8, learning_rate=0.05, n_estimators=300, subsample=0.925, seed=1126, max_depth=5 \n",
      "[CV]  colsample_bytree=0.8, learning_rate=0.05, n_estimators=300, subsample=0.925, seed=1126, max_depth=5, score=0.831006 -  28.8s\n",
      "[CV] colsample_bytree=0.8, learning_rate=0.05, n_estimators=300, subsample=0.925, seed=1126, max_depth=5 \n",
      "[CV]  colsample_bytree=0.8, learning_rate=0.05, n_estimators=300, subsample=0.925, seed=1126, max_depth=5, score=0.832827 -  25.1s\n",
      "[CV] colsample_bytree=0.8, learning_rate=0.05, n_estimators=300, subsample=0.925, seed=1126, max_depth=5 \n",
      "[CV]  colsample_bytree=0.8, learning_rate=0.05, n_estimators=300, subsample=0.925, seed=1126, max_depth=5, score=0.843797 -  28.0s\n",
      "[CV] colsample_bytree=0.8, learning_rate=0.05, n_estimators=300, subsample=0.95, seed=1126, max_depth=5 \n",
      "[CV]  colsample_bytree=0.8, learning_rate=0.05, n_estimators=300, subsample=0.95, seed=1126, max_depth=5, score=0.829850 -  29.0s\n",
      "[CV] colsample_bytree=0.8, learning_rate=0.05, n_estimators=300, subsample=0.95, seed=1126, max_depth=5 \n",
      "[CV]  colsample_bytree=0.8, learning_rate=0.05, n_estimators=300, subsample=0.95, seed=1126, max_depth=5, score=0.833220 -  28.6s\n",
      "[CV] colsample_bytree=0.8, learning_rate=0.05, n_estimators=300, subsample=0.95, seed=1126, max_depth=5 \n",
      "[CV]  colsample_bytree=0.8, learning_rate=0.05, n_estimators=300, subsample=0.95, seed=1126, max_depth=5, score=0.843265 -  24.9s\n",
      "[CV] colsample_bytree=0.8, learning_rate=0.05, n_estimators=300, subsample=0.975, seed=1126, max_depth=5 \n",
      "[CV]  colsample_bytree=0.8, learning_rate=0.05, n_estimators=300, subsample=0.975, seed=1126, max_depth=5, score=0.829250 -  24.5s\n",
      "[CV] colsample_bytree=0.8, learning_rate=0.05, n_estimators=300, subsample=0.975, seed=1126, max_depth=5 \n",
      "[CV]  colsample_bytree=0.8, learning_rate=0.05, n_estimators=300, subsample=0.975, seed=1126, max_depth=5, score=0.834145 -  24.4s\n",
      "[CV] colsample_bytree=0.8, learning_rate=0.05, n_estimators=300, subsample=0.975, seed=1126, max_depth=5 \n",
      "[CV]  colsample_bytree=0.8, learning_rate=0.05, n_estimators=300, subsample=0.975, seed=1126, max_depth=5, score=0.843684 -  24.4s\n"
     ]
    },
    {
     "name": "stderr",
     "output_type": "stream",
     "text": [
      "[Parallel(n_jobs=1)]: Done  49 tasks       | elapsed: 19.6min\n",
      "[Parallel(n_jobs=1)]: Done  60 tasks       | elapsed: 24.5min\n"
     ]
    },
    {
     "name": "stdout",
     "output_type": "stream",
     "text": [
      "[CV] colsample_bytree=0.8, learning_rate=0.05, n_estimators=400, subsample=0.9, seed=1126, max_depth=5 \n",
      "[CV]  colsample_bytree=0.8, learning_rate=0.05, n_estimators=400, subsample=0.9, seed=1126, max_depth=5, score=0.828103 -  34.5s\n",
      "[CV] colsample_bytree=0.8, learning_rate=0.05, n_estimators=400, subsample=0.9, seed=1126, max_depth=5 \n",
      "[CV]  colsample_bytree=0.8, learning_rate=0.05, n_estimators=400, subsample=0.9, seed=1126, max_depth=5, score=0.831853 -  34.3s\n",
      "[CV] colsample_bytree=0.8, learning_rate=0.05, n_estimators=400, subsample=0.9, seed=1126, max_depth=5 \n",
      "[CV]  colsample_bytree=0.8, learning_rate=0.05, n_estimators=400, subsample=0.9, seed=1126, max_depth=5, score=0.841603 -  33.0s\n",
      "[CV] colsample_bytree=0.8, learning_rate=0.05, n_estimators=400, subsample=0.925, seed=1126, max_depth=5 \n",
      "[CV]  colsample_bytree=0.8, learning_rate=0.05, n_estimators=400, subsample=0.925, seed=1126, max_depth=5, score=0.829961 -  32.7s\n",
      "[CV] colsample_bytree=0.8, learning_rate=0.05, n_estimators=400, subsample=0.925, seed=1126, max_depth=5 \n",
      "[CV]  colsample_bytree=0.8, learning_rate=0.05, n_estimators=400, subsample=0.925, seed=1126, max_depth=5, score=0.831080 -  34.2s\n",
      "[CV] colsample_bytree=0.8, learning_rate=0.05, n_estimators=400, subsample=0.925, seed=1126, max_depth=5 \n",
      "[CV]  colsample_bytree=0.8, learning_rate=0.05, n_estimators=400, subsample=0.925, seed=1126, max_depth=5, score=0.842382 -  34.0s\n",
      "[CV] colsample_bytree=0.8, learning_rate=0.05, n_estimators=400, subsample=0.95, seed=1126, max_depth=5 \n",
      "[CV]  colsample_bytree=0.8, learning_rate=0.05, n_estimators=400, subsample=0.95, seed=1126, max_depth=5, score=0.828099 -  32.6s\n",
      "[CV] colsample_bytree=0.8, learning_rate=0.05, n_estimators=400, subsample=0.95, seed=1126, max_depth=5 \n",
      "[CV]  colsample_bytree=0.8, learning_rate=0.05, n_estimators=400, subsample=0.95, seed=1126, max_depth=5, score=0.831594 -  32.8s\n",
      "[CV] colsample_bytree=0.8, learning_rate=0.05, n_estimators=400, subsample=0.95, seed=1126, max_depth=5 \n",
      "[CV]  colsample_bytree=0.8, learning_rate=0.05, n_estimators=400, subsample=0.95, seed=1126, max_depth=5, score=0.842088 -  32.7s\n",
      "[CV] colsample_bytree=0.8, learning_rate=0.05, n_estimators=400, subsample=0.975, seed=1126, max_depth=5 \n",
      "[CV]  colsample_bytree=0.8, learning_rate=0.05, n_estimators=400, subsample=0.975, seed=1126, max_depth=5, score=0.828315 -  30.6s\n",
      "[CV] colsample_bytree=0.8, learning_rate=0.05, n_estimators=400, subsample=0.975, seed=1126, max_depth=5 \n",
      "[CV]  colsample_bytree=0.8, learning_rate=0.05, n_estimators=400, subsample=0.975, seed=1126, max_depth=5, score=0.832316 -  29.5s\n",
      "[CV] colsample_bytree=0.8, learning_rate=0.05, n_estimators=400, subsample=0.975, seed=1126, max_depth=5 \n",
      "[CV]  colsample_bytree=0.8, learning_rate=0.05, n_estimators=400, subsample=0.975, seed=1126, max_depth=5, score=0.842356 -  29.6s\n",
      "[CV] colsample_bytree=0.8, learning_rate=0.05, n_estimators=200, subsample=0.9, seed=1126, max_depth=6 \n",
      "[CV]  colsample_bytree=0.8, learning_rate=0.05, n_estimators=200, subsample=0.9, seed=1126, max_depth=6, score=0.831404 -  20.3s\n",
      "[CV] colsample_bytree=0.8, learning_rate=0.05, n_estimators=200, subsample=0.9, seed=1126, max_depth=6 \n",
      "[CV]  colsample_bytree=0.8, learning_rate=0.05, n_estimators=200, subsample=0.9, seed=1126, max_depth=6, score=0.832776 -  19.7s\n",
      "[CV] colsample_bytree=0.8, learning_rate=0.05, n_estimators=200, subsample=0.9, seed=1126, max_depth=6 \n",
      "[CV]  colsample_bytree=0.8, learning_rate=0.05, n_estimators=200, subsample=0.9, seed=1126, max_depth=6, score=0.843055 -  19.8s\n",
      "[CV] colsample_bytree=0.8, learning_rate=0.05, n_estimators=200, subsample=0.925, seed=1126, max_depth=6 \n",
      "[CV]  colsample_bytree=0.8, learning_rate=0.05, n_estimators=200, subsample=0.925, seed=1126, max_depth=6, score=0.831001 -  19.7s\n",
      "[CV] colsample_bytree=0.8, learning_rate=0.05, n_estimators=200, subsample=0.925, seed=1126, max_depth=6 \n",
      "[CV]  colsample_bytree=0.8, learning_rate=0.05, n_estimators=200, subsample=0.925, seed=1126, max_depth=6, score=0.833453 -  18.5s\n",
      "[CV] colsample_bytree=0.8, learning_rate=0.05, n_estimators=200, subsample=0.925, seed=1126, max_depth=6 \n",
      "[CV]  colsample_bytree=0.8, learning_rate=0.05, n_estimators=200, subsample=0.925, seed=1126, max_depth=6, score=0.843302 -  18.1s\n",
      "[CV] colsample_bytree=0.8, learning_rate=0.05, n_estimators=200, subsample=0.95, seed=1126, max_depth=6 \n",
      "[CV]  colsample_bytree=0.8, learning_rate=0.05, n_estimators=200, subsample=0.95, seed=1126, max_depth=6, score=0.831347 -  17.9s\n",
      "[CV] colsample_bytree=0.8, learning_rate=0.05, n_estimators=200, subsample=0.95, seed=1126, max_depth=6 \n",
      "[CV]  colsample_bytree=0.8, learning_rate=0.05, n_estimators=200, subsample=0.95, seed=1126, max_depth=6, score=0.834257 -  17.8s\n",
      "[CV] colsample_bytree=0.8, learning_rate=0.05, n_estimators=200, subsample=0.95, seed=1126, max_depth=6 \n",
      "[CV]  colsample_bytree=0.8, learning_rate=0.05, n_estimators=200, subsample=0.95, seed=1126, max_depth=6, score=0.843621 -  17.9s\n",
      "[CV] colsample_bytree=0.8, learning_rate=0.05, n_estimators=200, subsample=0.975, seed=1126, max_depth=6 \n",
      "[CV]  colsample_bytree=0.8, learning_rate=0.05, n_estimators=200, subsample=0.975, seed=1126, max_depth=6, score=0.831392 -  18.2s\n",
      "[CV] colsample_bytree=0.8, learning_rate=0.05, n_estimators=200, subsample=0.975, seed=1126, max_depth=6 \n",
      "[CV]  colsample_bytree=0.8, learning_rate=0.05, n_estimators=200, subsample=0.975, seed=1126, max_depth=6, score=0.834363 -  17.9s\n",
      "[CV] colsample_bytree=0.8, learning_rate=0.05, n_estimators=200, subsample=0.975, seed=1126, max_depth=6 \n",
      "[CV]  colsample_bytree=0.8, learning_rate=0.05, n_estimators=200, subsample=0.975, seed=1126, max_depth=6, score=0.843684 -  19.4s\n"
     ]
    },
    {
     "name": "stderr",
     "output_type": "stream",
     "text": [
      "[Parallel(n_jobs=1)]: Done  71 tasks       | elapsed: 30.5min\n",
      "[Parallel(n_jobs=1)]: Done  84 tasks       | elapsed: 34.8min\n"
     ]
    },
    {
     "name": "stdout",
     "output_type": "stream",
     "text": [
      "[CV] colsample_bytree=0.8, learning_rate=0.05, n_estimators=300, subsample=0.9, seed=1126, max_depth=6 \n",
      "[CV]  colsample_bytree=0.8, learning_rate=0.05, n_estimators=300, subsample=0.9, seed=1126, max_depth=6, score=0.828457 -  27.1s\n",
      "[CV] colsample_bytree=0.8, learning_rate=0.05, n_estimators=300, subsample=0.9, seed=1126, max_depth=6 \n",
      "[CV]  colsample_bytree=0.8, learning_rate=0.05, n_estimators=300, subsample=0.9, seed=1126, max_depth=6, score=0.830798 -  27.2s\n",
      "[CV] colsample_bytree=0.8, learning_rate=0.05, n_estimators=300, subsample=0.9, seed=1126, max_depth=6 \n",
      "[CV]  colsample_bytree=0.8, learning_rate=0.05, n_estimators=300, subsample=0.9, seed=1126, max_depth=6, score=0.842057 -  27.0s\n",
      "[CV] colsample_bytree=0.8, learning_rate=0.05, n_estimators=300, subsample=0.925, seed=1126, max_depth=6 \n",
      "[CV]  colsample_bytree=0.8, learning_rate=0.05, n_estimators=300, subsample=0.925, seed=1126, max_depth=6, score=0.829148 -  27.0s\n",
      "[CV] colsample_bytree=0.8, learning_rate=0.05, n_estimators=300, subsample=0.925, seed=1126, max_depth=6 \n",
      "[CV]  colsample_bytree=0.8, learning_rate=0.05, n_estimators=300, subsample=0.925, seed=1126, max_depth=6, score=0.831287 -  27.5s\n",
      "[CV] colsample_bytree=0.8, learning_rate=0.05, n_estimators=300, subsample=0.925, seed=1126, max_depth=6 \n",
      "[CV]  colsample_bytree=0.8, learning_rate=0.05, n_estimators=300, subsample=0.925, seed=1126, max_depth=6, score=0.842185 -  26.9s\n",
      "[CV] colsample_bytree=0.8, learning_rate=0.05, n_estimators=300, subsample=0.95, seed=1126, max_depth=6 \n",
      "[CV]  colsample_bytree=0.8, learning_rate=0.05, n_estimators=300, subsample=0.95, seed=1126, max_depth=6, score=0.829171 -  26.5s\n",
      "[CV] colsample_bytree=0.8, learning_rate=0.05, n_estimators=300, subsample=0.95, seed=1126, max_depth=6 \n",
      "[CV]  colsample_bytree=0.8, learning_rate=0.05, n_estimators=300, subsample=0.95, seed=1126, max_depth=6, score=0.831594 -  26.6s\n",
      "[CV] colsample_bytree=0.8, learning_rate=0.05, n_estimators=300, subsample=0.95, seed=1126, max_depth=6 \n",
      "[CV]  colsample_bytree=0.8, learning_rate=0.05, n_estimators=300, subsample=0.95, seed=1126, max_depth=6, score=0.842109 -  26.5s\n",
      "[CV] colsample_bytree=0.8, learning_rate=0.05, n_estimators=300, subsample=0.975, seed=1126, max_depth=6 \n",
      "[CV]  colsample_bytree=0.8, learning_rate=0.05, n_estimators=300, subsample=0.975, seed=1126, max_depth=6, score=0.829568 -  26.2s\n",
      "[CV] colsample_bytree=0.8, learning_rate=0.05, n_estimators=300, subsample=0.975, seed=1126, max_depth=6 \n",
      "[CV]  colsample_bytree=0.8, learning_rate=0.05, n_estimators=300, subsample=0.975, seed=1126, max_depth=6, score=0.832580 -  26.4s\n",
      "[CV] colsample_bytree=0.8, learning_rate=0.05, n_estimators=300, subsample=0.975, seed=1126, max_depth=6 \n",
      "[CV]  colsample_bytree=0.8, learning_rate=0.05, n_estimators=300, subsample=0.975, seed=1126, max_depth=6, score=0.842109 -  26.3s\n",
      "[CV] colsample_bytree=0.8, learning_rate=0.05, n_estimators=400, subsample=0.9, seed=1126, max_depth=6 \n",
      "[CV]  colsample_bytree=0.8, learning_rate=0.05, n_estimators=400, subsample=0.9, seed=1126, max_depth=6, score=0.825846 -  36.1s\n",
      "[CV] colsample_bytree=0.8, learning_rate=0.05, n_estimators=400, subsample=0.9, seed=1126, max_depth=6 \n",
      "[CV]  colsample_bytree=0.8, learning_rate=0.05, n_estimators=400, subsample=0.9, seed=1126, max_depth=6, score=0.827885 -  40.1s\n",
      "[CV] colsample_bytree=0.8, learning_rate=0.05, n_estimators=400, subsample=0.9, seed=1126, max_depth=6 \n",
      "[CV]  colsample_bytree=0.8, learning_rate=0.05, n_estimators=400, subsample=0.9, seed=1126, max_depth=6, score=0.838676 -  39.5s\n",
      "[CV] colsample_bytree=0.8, learning_rate=0.05, n_estimators=400, subsample=0.925, seed=1126, max_depth=6 \n",
      "[CV]  colsample_bytree=0.8, learning_rate=0.05, n_estimators=400, subsample=0.925, seed=1126, max_depth=6, score=0.827363 -  39.0s\n",
      "[CV] colsample_bytree=0.8, learning_rate=0.05, n_estimators=400, subsample=0.925, seed=1126, max_depth=6 \n",
      "[CV]  colsample_bytree=0.8, learning_rate=0.05, n_estimators=400, subsample=0.925, seed=1126, max_depth=6, score=0.829535 -  39.0s\n",
      "[CV] colsample_bytree=0.8, learning_rate=0.05, n_estimators=400, subsample=0.925, seed=1126, max_depth=6 \n",
      "[CV]  colsample_bytree=0.8, learning_rate=0.05, n_estimators=400, subsample=0.925, seed=1126, max_depth=6, score=0.839668 -  39.0s\n",
      "[CV] colsample_bytree=0.8, learning_rate=0.05, n_estimators=400, subsample=0.95, seed=1126, max_depth=6 \n",
      "[CV]  colsample_bytree=0.8, learning_rate=0.05, n_estimators=400, subsample=0.95, seed=1126, max_depth=6, score=0.827414 -  38.5s\n",
      "[CV] colsample_bytree=0.8, learning_rate=0.05, n_estimators=400, subsample=0.95, seed=1126, max_depth=6 \n",
      "[CV]  colsample_bytree=0.8, learning_rate=0.05, n_estimators=400, subsample=0.95, seed=1126, max_depth=6, score=0.829047 -  38.9s\n",
      "[CV] colsample_bytree=0.8, learning_rate=0.05, n_estimators=400, subsample=0.95, seed=1126, max_depth=6 \n",
      "[CV]  colsample_bytree=0.8, learning_rate=0.05, n_estimators=400, subsample=0.95, seed=1126, max_depth=6, score=0.840609 -  39.6s\n",
      "[CV] colsample_bytree=0.8, learning_rate=0.05, n_estimators=400, subsample=0.975, seed=1126, max_depth=6 \n",
      "[CV]  colsample_bytree=0.8, learning_rate=0.05, n_estimators=400, subsample=0.975, seed=1126, max_depth=6, score=0.828134 -  41.3s\n",
      "[CV] colsample_bytree=0.8, learning_rate=0.05, n_estimators=400, subsample=0.975, seed=1126, max_depth=6 \n",
      "[CV]  colsample_bytree=0.8, learning_rate=0.05, n_estimators=400, subsample=0.975, seed=1126, max_depth=6, score=0.830399 -  42.8s\n",
      "[CV] colsample_bytree=0.8, learning_rate=0.05, n_estimators=400, subsample=0.975, seed=1126, max_depth=6 \n",
      "[CV]  colsample_bytree=0.8, learning_rate=0.05, n_estimators=400, subsample=0.975, seed=1126, max_depth=6, score=0.839454 -  47.6s\n",
      "[CV] colsample_bytree=0.825, learning_rate=0.05, n_estimators=200, subsample=0.9, seed=1126, max_depth=4 \n",
      "[CV]  colsample_bytree=0.825, learning_rate=0.05, n_estimators=200, subsample=0.9, seed=1126, max_depth=4, score=0.832164 -  20.2s\n",
      "[CV] colsample_bytree=0.825, learning_rate=0.05, n_estimators=200, subsample=0.9, seed=1126, max_depth=4 \n",
      "[CV]  colsample_bytree=0.825, learning_rate=0.05, n_estimators=200, subsample=0.9, seed=1126, max_depth=4, score=0.834545 -  17.3s\n",
      "[CV] colsample_bytree=0.825, learning_rate=0.05, n_estimators=200, subsample=0.9, seed=1126, max_depth=4 \n",
      "[CV]  colsample_bytree=0.825, learning_rate=0.05, n_estimators=200, subsample=0.9, seed=1126, max_depth=4, score=0.843436 -  18.0s\n",
      "[CV] colsample_bytree=0.825, learning_rate=0.05, n_estimators=200, subsample=0.925, seed=1126, max_depth=4 \n",
      "[CV]  colsample_bytree=0.825, learning_rate=0.05, n_estimators=200, subsample=0.925, seed=1126, max_depth=4, score=0.832789 -  20.0s\n"
     ]
    },
    {
     "name": "stderr",
     "output_type": "stream",
     "text": [
      "[Parallel(n_jobs=1)]: Done  97 tasks       | elapsed: 40.8min\n",
      "[Parallel(n_jobs=1)]: Done 112 tasks       | elapsed: 49.5min\n"
     ]
    },
    {
     "name": "stdout",
     "output_type": "stream",
     "text": [
      "[CV] colsample_bytree=0.825, learning_rate=0.05, n_estimators=200, subsample=0.925, seed=1126, max_depth=4 \n",
      "[CV]  colsample_bytree=0.825, learning_rate=0.05, n_estimators=200, subsample=0.925, seed=1126, max_depth=4, score=0.834698 -  17.2s\n",
      "[CV] colsample_bytree=0.825, learning_rate=0.05, n_estimators=200, subsample=0.925, seed=1126, max_depth=4 \n",
      "[CV]  colsample_bytree=0.825, learning_rate=0.05, n_estimators=200, subsample=0.925, seed=1126, max_depth=4, score=0.843943 -  15.3s\n",
      "[CV] colsample_bytree=0.825, learning_rate=0.05, n_estimators=200, subsample=0.95, seed=1126, max_depth=4 \n",
      "[CV]  colsample_bytree=0.825, learning_rate=0.05, n_estimators=200, subsample=0.95, seed=1126, max_depth=4, score=0.832367 -  15.6s\n",
      "[CV] colsample_bytree=0.825, learning_rate=0.05, n_estimators=200, subsample=0.95, seed=1126, max_depth=4 \n",
      "[CV]  colsample_bytree=0.825, learning_rate=0.05, n_estimators=200, subsample=0.95, seed=1126, max_depth=4, score=0.834984 -  15.7s\n",
      "[CV] colsample_bytree=0.825, learning_rate=0.05, n_estimators=200, subsample=0.95, seed=1126, max_depth=4 \n",
      "[CV]  colsample_bytree=0.825, learning_rate=0.05, n_estimators=200, subsample=0.95, seed=1126, max_depth=4, score=0.843902 -  18.5s\n",
      "[CV] colsample_bytree=0.825, learning_rate=0.05, n_estimators=200, subsample=0.975, seed=1126, max_depth=4 \n",
      "[CV]  colsample_bytree=0.825, learning_rate=0.05, n_estimators=200, subsample=0.975, seed=1126, max_depth=4, score=0.832628 -  14.2s\n",
      "[CV] colsample_bytree=0.825, learning_rate=0.05, n_estimators=200, subsample=0.975, seed=1126, max_depth=4 \n",
      "[CV]  colsample_bytree=0.825, learning_rate=0.05, n_estimators=200, subsample=0.975, seed=1126, max_depth=4, score=0.835190 -  14.0s\n",
      "[CV] colsample_bytree=0.825, learning_rate=0.05, n_estimators=200, subsample=0.975, seed=1126, max_depth=4 \n",
      "[CV]  colsample_bytree=0.825, learning_rate=0.05, n_estimators=200, subsample=0.975, seed=1126, max_depth=4, score=0.842891 -  12.7s\n",
      "[CV] colsample_bytree=0.825, learning_rate=0.05, n_estimators=300, subsample=0.9, seed=1126, max_depth=4 \n",
      "[CV]  colsample_bytree=0.825, learning_rate=0.05, n_estimators=300, subsample=0.9, seed=1126, max_depth=4, score=0.831021 -  19.3s\n",
      "[CV] colsample_bytree=0.825, learning_rate=0.05, n_estimators=300, subsample=0.9, seed=1126, max_depth=4 \n",
      "[CV]  colsample_bytree=0.825, learning_rate=0.05, n_estimators=300, subsample=0.9, seed=1126, max_depth=4, score=0.833927 -  20.1s\n",
      "[CV] colsample_bytree=0.825, learning_rate=0.05, n_estimators=300, subsample=0.9, seed=1126, max_depth=4 \n",
      "[CV]  colsample_bytree=0.825, learning_rate=0.05, n_estimators=300, subsample=0.9, seed=1126, max_depth=4, score=0.843460 -  19.2s\n",
      "[CV] colsample_bytree=0.825, learning_rate=0.05, n_estimators=300, subsample=0.925, seed=1126, max_depth=4 \n",
      "[CV]  colsample_bytree=0.825, learning_rate=0.05, n_estimators=300, subsample=0.925, seed=1126, max_depth=4, score=0.832084 -  18.8s\n",
      "[CV] colsample_bytree=0.825, learning_rate=0.05, n_estimators=300, subsample=0.925, seed=1126, max_depth=4 \n",
      "[CV]  colsample_bytree=0.825, learning_rate=0.05, n_estimators=300, subsample=0.925, seed=1126, max_depth=4, score=0.834289 -  18.9s\n",
      "[CV] colsample_bytree=0.825, learning_rate=0.05, n_estimators=300, subsample=0.925, seed=1126, max_depth=4 \n",
      "[CV]  colsample_bytree=0.825, learning_rate=0.05, n_estimators=300, subsample=0.925, seed=1126, max_depth=4, score=0.844289 -  18.8s\n",
      "[CV] colsample_bytree=0.825, learning_rate=0.05, n_estimators=300, subsample=0.95, seed=1126, max_depth=4 \n",
      "[CV]  colsample_bytree=0.825, learning_rate=0.05, n_estimators=300, subsample=0.95, seed=1126, max_depth=4, score=0.831483 -  21.0s\n",
      "[CV] colsample_bytree=0.825, learning_rate=0.05, n_estimators=300, subsample=0.95, seed=1126, max_depth=4 \n",
      "[CV]  colsample_bytree=0.825, learning_rate=0.05, n_estimators=300, subsample=0.95, seed=1126, max_depth=4, score=0.834641 -  18.7s\n",
      "[CV] colsample_bytree=0.825, learning_rate=0.05, n_estimators=300, subsample=0.95, seed=1126, max_depth=4 \n",
      "[CV]  colsample_bytree=0.825, learning_rate=0.05, n_estimators=300, subsample=0.95, seed=1126, max_depth=4, score=0.844075 -  20.0s\n",
      "[CV] colsample_bytree=0.825, learning_rate=0.05, n_estimators=300, subsample=0.975, seed=1126, max_depth=4 \n",
      "[CV]  colsample_bytree=0.825, learning_rate=0.05, n_estimators=300, subsample=0.975, seed=1126, max_depth=4, score=0.830859 -  20.8s\n",
      "[CV] colsample_bytree=0.825, learning_rate=0.05, n_estimators=300, subsample=0.975, seed=1126, max_depth=4 \n",
      "[CV]  colsample_bytree=0.825, learning_rate=0.05, n_estimators=300, subsample=0.975, seed=1126, max_depth=4, score=0.834999 -  20.2s\n",
      "[CV] colsample_bytree=0.825, learning_rate=0.05, n_estimators=300, subsample=0.975, seed=1126, max_depth=4 \n",
      "[CV]  colsample_bytree=0.825, learning_rate=0.05, n_estimators=300, subsample=0.975, seed=1126, max_depth=4, score=0.842790 -  24.6s\n",
      "[CV] colsample_bytree=0.825, learning_rate=0.05, n_estimators=400, subsample=0.9, seed=1126, max_depth=4 \n",
      "[CV]  colsample_bytree=0.825, learning_rate=0.05, n_estimators=400, subsample=0.9, seed=1126, max_depth=4, score=0.830774 -  29.9s\n",
      "[CV] colsample_bytree=0.825, learning_rate=0.05, n_estimators=400, subsample=0.9, seed=1126, max_depth=4 \n",
      "[CV]  colsample_bytree=0.825, learning_rate=0.05, n_estimators=400, subsample=0.9, seed=1126, max_depth=4, score=0.833025 -  30.0s\n",
      "[CV] colsample_bytree=0.825, learning_rate=0.05, n_estimators=400, subsample=0.9, seed=1126, max_depth=4 \n",
      "[CV]  colsample_bytree=0.825, learning_rate=0.05, n_estimators=400, subsample=0.9, seed=1126, max_depth=4, score=0.842979 -  29.9s\n",
      "[CV] colsample_bytree=0.825, learning_rate=0.05, n_estimators=400, subsample=0.925, seed=1126, max_depth=4 \n",
      "[CV]  colsample_bytree=0.825, learning_rate=0.05, n_estimators=400, subsample=0.925, seed=1126, max_depth=4, score=0.830697 -  30.4s\n",
      "[CV] colsample_bytree=0.825, learning_rate=0.05, n_estimators=400, subsample=0.925, seed=1126, max_depth=4 \n",
      "[CV]  colsample_bytree=0.825, learning_rate=0.05, n_estimators=400, subsample=0.925, seed=1126, max_depth=4, score=0.833070 -  34.7s\n",
      "[CV] colsample_bytree=0.825, learning_rate=0.05, n_estimators=400, subsample=0.925, seed=1126, max_depth=4 \n",
      "[CV]  colsample_bytree=0.825, learning_rate=0.05, n_estimators=400, subsample=0.925, seed=1126, max_depth=4, score=0.843856 -  33.0s\n",
      "[CV] colsample_bytree=0.825, learning_rate=0.05, n_estimators=400, subsample=0.95, seed=1126, max_depth=4 \n",
      "[CV]  colsample_bytree=0.825, learning_rate=0.05, n_estimators=400, subsample=0.95, seed=1126, max_depth=4, score=0.830458 -  32.6s\n",
      "[CV] colsample_bytree=0.825, learning_rate=0.05, n_estimators=400, subsample=0.95, seed=1126, max_depth=4 \n",
      "[CV]  colsample_bytree=0.825, learning_rate=0.05, n_estimators=400, subsample=0.95, seed=1126, max_depth=4, score=0.833238 -  31.1s\n",
      "[CV] colsample_bytree=0.825, learning_rate=0.05, n_estimators=400, subsample=0.95, seed=1126, max_depth=4 \n",
      "[CV]  colsample_bytree=0.825, learning_rate=0.05, n_estimators=400, subsample=0.95, seed=1126, max_depth=4, score=0.843316 -  30.4s\n",
      "[CV] colsample_bytree=0.825, learning_rate=0.05, n_estimators=400, subsample=0.975, seed=1126, max_depth=4 \n",
      "[CV]  colsample_bytree=0.825, learning_rate=0.05, n_estimators=400, subsample=0.975, seed=1126, max_depth=4, score=0.830082 -  30.7s\n",
      "[CV] colsample_bytree=0.825, learning_rate=0.05, n_estimators=400, subsample=0.975, seed=1126, max_depth=4 \n",
      "[CV]  colsample_bytree=0.825, learning_rate=0.05, n_estimators=400, subsample=0.975, seed=1126, max_depth=4, score=0.834194 -  32.9s\n",
      "[CV] colsample_bytree=0.825, learning_rate=0.05, n_estimators=400, subsample=0.975, seed=1126, max_depth=4 \n",
      "[CV]  colsample_bytree=0.825, learning_rate=0.05, n_estimators=400, subsample=0.975, seed=1126, max_depth=4, score=0.841966 -  30.5s\n"
     ]
    },
    {
     "name": "stderr",
     "output_type": "stream",
     "text": [
      "[Parallel(n_jobs=1)]: Done 127 tasks       | elapsed: 53.9min\n",
      "[Parallel(n_jobs=1)]: Done 144 tasks       | elapsed: 61.9min\n"
     ]
    },
    {
     "name": "stdout",
     "output_type": "stream",
     "text": [
      "[CV] colsample_bytree=0.825, learning_rate=0.05, n_estimators=200, subsample=0.9, seed=1126, max_depth=5 \n",
      "[CV]  colsample_bytree=0.825, learning_rate=0.05, n_estimators=200, subsample=0.9, seed=1126, max_depth=5, score=0.830795 -  17.9s\n",
      "[CV] colsample_bytree=0.825, learning_rate=0.05, n_estimators=200, subsample=0.9, seed=1126, max_depth=5 \n",
      "[CV]  colsample_bytree=0.825, learning_rate=0.05, n_estimators=200, subsample=0.9, seed=1126, max_depth=5, score=0.834502 -  19.9s\n",
      "[CV] colsample_bytree=0.825, learning_rate=0.05, n_estimators=200, subsample=0.9, seed=1126, max_depth=5 \n",
      "[CV]  colsample_bytree=0.825, learning_rate=0.05, n_estimators=200, subsample=0.9, seed=1126, max_depth=5, score=0.844268 -  20.4s\n",
      "[CV] colsample_bytree=0.825, learning_rate=0.05, n_estimators=200, subsample=0.925, seed=1126, max_depth=5 \n",
      "[CV]  colsample_bytree=0.825, learning_rate=0.05, n_estimators=200, subsample=0.925, seed=1126, max_depth=5, score=0.831838 -  18.6s\n",
      "[CV] colsample_bytree=0.825, learning_rate=0.05, n_estimators=200, subsample=0.925, seed=1126, max_depth=5 \n",
      "[CV]  colsample_bytree=0.825, learning_rate=0.05, n_estimators=200, subsample=0.925, seed=1126, max_depth=5, score=0.834103 -  20.4s\n",
      "[CV] colsample_bytree=0.825, learning_rate=0.05, n_estimators=200, subsample=0.925, seed=1126, max_depth=5 \n",
      "[CV]  colsample_bytree=0.825, learning_rate=0.05, n_estimators=200, subsample=0.925, seed=1126, max_depth=5, score=0.844084 -  18.6s\n",
      "[CV] colsample_bytree=0.825, learning_rate=0.05, n_estimators=200, subsample=0.95, seed=1126, max_depth=5 \n",
      "[CV]  colsample_bytree=0.825, learning_rate=0.05, n_estimators=200, subsample=0.95, seed=1126, max_depth=5, score=0.830916 -  16.9s\n",
      "[CV] colsample_bytree=0.825, learning_rate=0.05, n_estimators=200, subsample=0.95, seed=1126, max_depth=5 \n",
      "[CV]  colsample_bytree=0.825, learning_rate=0.05, n_estimators=200, subsample=0.95, seed=1126, max_depth=5, score=0.834676 -  16.9s\n",
      "[CV] colsample_bytree=0.825, learning_rate=0.05, n_estimators=200, subsample=0.95, seed=1126, max_depth=5 \n",
      "[CV]  colsample_bytree=0.825, learning_rate=0.05, n_estimators=200, subsample=0.95, seed=1126, max_depth=5, score=0.844699 -  16.9s\n",
      "[CV] colsample_bytree=0.825, learning_rate=0.05, n_estimators=200, subsample=0.975, seed=1126, max_depth=5 \n",
      "[CV]  colsample_bytree=0.825, learning_rate=0.05, n_estimators=200, subsample=0.975, seed=1126, max_depth=5, score=0.831047 -  16.8s\n",
      "[CV] colsample_bytree=0.825, learning_rate=0.05, n_estimators=200, subsample=0.975, seed=1126, max_depth=5 \n",
      "[CV]  colsample_bytree=0.825, learning_rate=0.05, n_estimators=200, subsample=0.975, seed=1126, max_depth=5, score=0.834673 -  17.2s\n",
      "[CV] colsample_bytree=0.825, learning_rate=0.05, n_estimators=200, subsample=0.975, seed=1126, max_depth=5 \n",
      "[CV]  colsample_bytree=0.825, learning_rate=0.05, n_estimators=200, subsample=0.975, seed=1126, max_depth=5, score=0.844398 -  21.3s\n",
      "[CV] colsample_bytree=0.825, learning_rate=0.05, n_estimators=300, subsample=0.9, seed=1126, max_depth=5 \n",
      "[CV]  colsample_bytree=0.825, learning_rate=0.05, n_estimators=300, subsample=0.9, seed=1126, max_depth=5, score=0.828908 -  31.4s\n",
      "[CV] colsample_bytree=0.825, learning_rate=0.05, n_estimators=300, subsample=0.9, seed=1126, max_depth=5 \n",
      "[CV]  colsample_bytree=0.825, learning_rate=0.05, n_estimators=300, subsample=0.9, seed=1126, max_depth=5, score=0.833312 -  28.8s\n",
      "[CV] colsample_bytree=0.825, learning_rate=0.05, n_estimators=300, subsample=0.9, seed=1126, max_depth=5 \n",
      "[CV]  colsample_bytree=0.825, learning_rate=0.05, n_estimators=300, subsample=0.9, seed=1126, max_depth=5, score=0.843418 -  29.3s\n",
      "[CV] colsample_bytree=0.825, learning_rate=0.05, n_estimators=300, subsample=0.925, seed=1126, max_depth=5 \n",
      "[CV]  colsample_bytree=0.825, learning_rate=0.05, n_estimators=300, subsample=0.925, seed=1126, max_depth=5, score=0.830731 -  28.8s\n",
      "[CV] colsample_bytree=0.825, learning_rate=0.05, n_estimators=300, subsample=0.925, seed=1126, max_depth=5 \n",
      "[CV]  colsample_bytree=0.825, learning_rate=0.05, n_estimators=300, subsample=0.925, seed=1126, max_depth=5, score=0.833124 -  26.8s\n",
      "[CV] colsample_bytree=0.825, learning_rate=0.05, n_estimators=300, subsample=0.925, seed=1126, max_depth=5 \n",
      "[CV]  colsample_bytree=0.825, learning_rate=0.05, n_estimators=300, subsample=0.925, seed=1126, max_depth=5, score=0.843676 -  25.7s\n",
      "[CV] colsample_bytree=0.825, learning_rate=0.05, n_estimators=300, subsample=0.95, seed=1126, max_depth=5 \n",
      "[CV]  colsample_bytree=0.825, learning_rate=0.05, n_estimators=300, subsample=0.95, seed=1126, max_depth=5, score=0.830096 -  27.0s\n",
      "[CV] colsample_bytree=0.825, learning_rate=0.05, n_estimators=300, subsample=0.95, seed=1126, max_depth=5 \n",
      "[CV]  colsample_bytree=0.825, learning_rate=0.05, n_estimators=300, subsample=0.95, seed=1126, max_depth=5, score=0.833697 -  31.0s\n",
      "[CV] colsample_bytree=0.825, learning_rate=0.05, n_estimators=300, subsample=0.95, seed=1126, max_depth=5 \n",
      "[CV]  colsample_bytree=0.825, learning_rate=0.05, n_estimators=300, subsample=0.95, seed=1126, max_depth=5, score=0.843739 -  26.9s\n",
      "[CV] colsample_bytree=0.825, learning_rate=0.05, n_estimators=300, subsample=0.975, seed=1126, max_depth=5 \n",
      "[CV]  colsample_bytree=0.825, learning_rate=0.05, n_estimators=300, subsample=0.975, seed=1126, max_depth=5, score=0.829666 -  28.5s\n",
      "[CV] colsample_bytree=0.825, learning_rate=0.05, n_estimators=300, subsample=0.975, seed=1126, max_depth=5 \n",
      "[CV]  colsample_bytree=0.825, learning_rate=0.05, n_estimators=300, subsample=0.975, seed=1126, max_depth=5, score=0.833370 -  25.9s\n",
      "[CV] colsample_bytree=0.825, learning_rate=0.05, n_estimators=300, subsample=0.975, seed=1126, max_depth=5 \n",
      "[CV]  colsample_bytree=0.825, learning_rate=0.05, n_estimators=300, subsample=0.975, seed=1126, max_depth=5, score=0.844142 -  25.1s\n",
      "[CV] colsample_bytree=0.825, learning_rate=0.05, n_estimators=400, subsample=0.9, seed=1126, max_depth=5 \n",
      "[CV]  colsample_bytree=0.825, learning_rate=0.05, n_estimators=400, subsample=0.9, seed=1126, max_depth=5, score=0.827744 -  33.2s\n",
      "[CV] colsample_bytree=0.825, learning_rate=0.05, n_estimators=400, subsample=0.9, seed=1126, max_depth=5 \n",
      "[CV]  colsample_bytree=0.825, learning_rate=0.05, n_estimators=400, subsample=0.9, seed=1126, max_depth=5, score=0.832003 -  36.6s\n",
      "[CV] colsample_bytree=0.825, learning_rate=0.05, n_estimators=400, subsample=0.9, seed=1126, max_depth=5 \n",
      "[CV]  colsample_bytree=0.825, learning_rate=0.05, n_estimators=400, subsample=0.9, seed=1126, max_depth=5, score=0.841764 -  43.4s\n",
      "[CV] colsample_bytree=0.825, learning_rate=0.05, n_estimators=400, subsample=0.925, seed=1126, max_depth=5 \n",
      "[CV]  colsample_bytree=0.825, learning_rate=0.05, n_estimators=400, subsample=0.925, seed=1126, max_depth=5, score=0.829009 -  36.5s\n",
      "[CV] colsample_bytree=0.825, learning_rate=0.05, n_estimators=400, subsample=0.925, seed=1126, max_depth=5 \n",
      "[CV]  colsample_bytree=0.825, learning_rate=0.05, n_estimators=400, subsample=0.925, seed=1126, max_depth=5, score=0.831655 -  42.0s\n",
      "[CV] colsample_bytree=0.825, learning_rate=0.05, n_estimators=400, subsample=0.925, seed=1126, max_depth=5 \n",
      "[CV]  colsample_bytree=0.825, learning_rate=0.05, n_estimators=400, subsample=0.925, seed=1126, max_depth=5, score=0.842615 -  36.8s\n",
      "[CV] colsample_bytree=0.825, learning_rate=0.05, n_estimators=400, subsample=0.95, seed=1126, max_depth=5 \n",
      "[CV]  colsample_bytree=0.825, learning_rate=0.05, n_estimators=400, subsample=0.95, seed=1126, max_depth=5, score=0.828513 -  33.8s\n",
      "[CV] colsample_bytree=0.825, learning_rate=0.05, n_estimators=400, subsample=0.95, seed=1126, max_depth=5 \n",
      "[CV]  colsample_bytree=0.825, learning_rate=0.05, n_estimators=400, subsample=0.95, seed=1126, max_depth=5, score=0.831688 -  41.7s\n",
      "[CV] colsample_bytree=0.825, learning_rate=0.05, n_estimators=400, subsample=0.95, seed=1126, max_depth=5 \n",
      "[CV]  colsample_bytree=0.825, learning_rate=0.05, n_estimators=400, subsample=0.95, seed=1126, max_depth=5, score=0.842315 -  34.3s\n",
      "[CV] colsample_bytree=0.825, learning_rate=0.05, n_estimators=400, subsample=0.975, seed=1126, max_depth=5 \n",
      "[CV]  colsample_bytree=0.825, learning_rate=0.05, n_estimators=400, subsample=0.975, seed=1126, max_depth=5, score=0.828046 -  33.2s\n",
      "[CV] colsample_bytree=0.825, learning_rate=0.05, n_estimators=400, subsample=0.975, seed=1126, max_depth=5 \n",
      "[CV]  colsample_bytree=0.825, learning_rate=0.05, n_estimators=400, subsample=0.975, seed=1126, max_depth=5, score=0.831754 -  33.2s\n",
      "[CV] colsample_bytree=0.825, learning_rate=0.05, n_estimators=400, subsample=0.975, seed=1126, max_depth=5 \n",
      "[CV]  colsample_bytree=0.825, learning_rate=0.05, n_estimators=400, subsample=0.975, seed=1126, max_depth=5, score=0.842698 -  33.2s\n"
     ]
    },
    {
     "name": "stderr",
     "output_type": "stream",
     "text": [
      "[Parallel(n_jobs=1)]: Done 161 tasks       | elapsed: 68.0min\n",
      "[Parallel(n_jobs=1)]: Done 180 tasks       | elapsed: 78.5min\n"
     ]
    },
    {
     "name": "stdout",
     "output_type": "stream",
     "text": [
      "[CV] colsample_bytree=0.825, learning_rate=0.05, n_estimators=200, subsample=0.9, seed=1126, max_depth=6 \n",
      "[CV]  colsample_bytree=0.825, learning_rate=0.05, n_estimators=200, subsample=0.9, seed=1126, max_depth=6, score=0.831325 -  21.1s\n",
      "[CV] colsample_bytree=0.825, learning_rate=0.05, n_estimators=200, subsample=0.9, seed=1126, max_depth=6 \n",
      "[CV]  colsample_bytree=0.825, learning_rate=0.05, n_estimators=200, subsample=0.9, seed=1126, max_depth=6, score=0.833507 -  26.4s\n",
      "[CV] colsample_bytree=0.825, learning_rate=0.05, n_estimators=200, subsample=0.9, seed=1126, max_depth=6 \n",
      "[CV]  colsample_bytree=0.825, learning_rate=0.05, n_estimators=200, subsample=0.9, seed=1126, max_depth=6, score=0.843312 -  20.1s\n",
      "[CV] colsample_bytree=0.825, learning_rate=0.05, n_estimators=200, subsample=0.925, seed=1126, max_depth=6 \n",
      "[CV]  colsample_bytree=0.825, learning_rate=0.05, n_estimators=200, subsample=0.925, seed=1126, max_depth=6, score=0.830121 -  23.8s\n",
      "[CV] colsample_bytree=0.825, learning_rate=0.05, n_estimators=200, subsample=0.925, seed=1126, max_depth=6 \n",
      "[CV]  colsample_bytree=0.825, learning_rate=0.05, n_estimators=200, subsample=0.925, seed=1126, max_depth=6, score=0.834320 -  26.4s\n",
      "[CV] colsample_bytree=0.825, learning_rate=0.05, n_estimators=200, subsample=0.925, seed=1126, max_depth=6 \n",
      "[CV]  colsample_bytree=0.825, learning_rate=0.05, n_estimators=200, subsample=0.925, seed=1126, max_depth=6, score=0.843810 -  20.5s\n",
      "[CV] colsample_bytree=0.825, learning_rate=0.05, n_estimators=200, subsample=0.95, seed=1126, max_depth=6 \n",
      "[CV]  colsample_bytree=0.825, learning_rate=0.05, n_estimators=200, subsample=0.95, seed=1126, max_depth=6, score=0.831265 -  21.2s\n",
      "[CV] colsample_bytree=0.825, learning_rate=0.05, n_estimators=200, subsample=0.95, seed=1126, max_depth=6 \n",
      "[CV]  colsample_bytree=0.825, learning_rate=0.05, n_estimators=200, subsample=0.95, seed=1126, max_depth=6, score=0.834006 -  22.8s\n",
      "[CV] colsample_bytree=0.825, learning_rate=0.05, n_estimators=200, subsample=0.95, seed=1126, max_depth=6 \n",
      "[CV]  colsample_bytree=0.825, learning_rate=0.05, n_estimators=200, subsample=0.95, seed=1126, max_depth=6, score=0.844205 -  20.3s\n",
      "[CV] colsample_bytree=0.825, learning_rate=0.05, n_estimators=200, subsample=0.975, seed=1126, max_depth=6 \n",
      "[CV]  colsample_bytree=0.825, learning_rate=0.05, n_estimators=200, subsample=0.975, seed=1126, max_depth=6, score=0.831243 -  21.3s\n",
      "[CV] colsample_bytree=0.825, learning_rate=0.05, n_estimators=200, subsample=0.975, seed=1126, max_depth=6 \n",
      "[CV]  colsample_bytree=0.825, learning_rate=0.05, n_estimators=200, subsample=0.975, seed=1126, max_depth=6, score=0.834846 -  19.6s\n",
      "[CV] colsample_bytree=0.825, learning_rate=0.05, n_estimators=200, subsample=0.975, seed=1126, max_depth=6 \n",
      "[CV]  colsample_bytree=0.825, learning_rate=0.05, n_estimators=200, subsample=0.975, seed=1126, max_depth=6, score=0.844274 -  19.6s\n",
      "[CV] colsample_bytree=0.825, learning_rate=0.05, n_estimators=300, subsample=0.9, seed=1126, max_depth=6 \n",
      "[CV]  colsample_bytree=0.825, learning_rate=0.05, n_estimators=300, subsample=0.9, seed=1126, max_depth=6, score=0.829154 -  29.7s\n",
      "[CV] colsample_bytree=0.825, learning_rate=0.05, n_estimators=300, subsample=0.9, seed=1126, max_depth=6 \n",
      "[CV]  colsample_bytree=0.825, learning_rate=0.05, n_estimators=300, subsample=0.9, seed=1126, max_depth=6, score=0.830841 -  28.6s\n",
      "[CV] colsample_bytree=0.825, learning_rate=0.05, n_estimators=300, subsample=0.9, seed=1126, max_depth=6 \n",
      "[CV]  colsample_bytree=0.825, learning_rate=0.05, n_estimators=300, subsample=0.9, seed=1126, max_depth=6, score=0.841967 -  32.0s\n",
      "[CV] colsample_bytree=0.825, learning_rate=0.05, n_estimators=300, subsample=0.925, seed=1126, max_depth=6 \n",
      "[CV]  colsample_bytree=0.825, learning_rate=0.05, n_estimators=300, subsample=0.925, seed=1126, max_depth=6, score=0.828416 -  30.9s\n",
      "[CV] colsample_bytree=0.825, learning_rate=0.05, n_estimators=300, subsample=0.925, seed=1126, max_depth=6 \n",
      "[CV]  colsample_bytree=0.825, learning_rate=0.05, n_estimators=300, subsample=0.925, seed=1126, max_depth=6, score=0.831749 -  30.9s\n",
      "[CV] colsample_bytree=0.825, learning_rate=0.05, n_estimators=300, subsample=0.925, seed=1126, max_depth=6 \n",
      "[CV]  colsample_bytree=0.825, learning_rate=0.05, n_estimators=300, subsample=0.925, seed=1126, max_depth=6, score=0.842408 -  32.0s\n",
      "[CV] colsample_bytree=0.825, learning_rate=0.05, n_estimators=300, subsample=0.95, seed=1126, max_depth=6 \n",
      "[CV]  colsample_bytree=0.825, learning_rate=0.05, n_estimators=300, subsample=0.95, seed=1126, max_depth=6, score=0.829446 -  30.9s\n",
      "[CV] colsample_bytree=0.825, learning_rate=0.05, n_estimators=300, subsample=0.95, seed=1126, max_depth=6 \n",
      "[CV]  colsample_bytree=0.825, learning_rate=0.05, n_estimators=300, subsample=0.95, seed=1126, max_depth=6, score=0.831397 -  30.8s\n",
      "[CV] colsample_bytree=0.825, learning_rate=0.05, n_estimators=300, subsample=0.95, seed=1126, max_depth=6 \n",
      "[CV]  colsample_bytree=0.825, learning_rate=0.05, n_estimators=300, subsample=0.95, seed=1126, max_depth=6, score=0.842522 -  30.6s\n",
      "[CV] colsample_bytree=0.825, learning_rate=0.05, n_estimators=300, subsample=0.975, seed=1126, max_depth=6 \n",
      "[CV]  colsample_bytree=0.825, learning_rate=0.05, n_estimators=300, subsample=0.975, seed=1126, max_depth=6, score=0.829864 -  30.5s\n",
      "[CV] colsample_bytree=0.825, learning_rate=0.05, n_estimators=300, subsample=0.975, seed=1126, max_depth=6 \n",
      "[CV]  colsample_bytree=0.825, learning_rate=0.05, n_estimators=300, subsample=0.975, seed=1126, max_depth=6, score=0.833106 -  31.0s\n",
      "[CV] colsample_bytree=0.825, learning_rate=0.05, n_estimators=300, subsample=0.975, seed=1126, max_depth=6 \n",
      "[CV]  colsample_bytree=0.825, learning_rate=0.05, n_estimators=300, subsample=0.975, seed=1126, max_depth=6, score=0.842007 -  30.5s\n",
      "[CV] colsample_bytree=0.825, learning_rate=0.05, n_estimators=400, subsample=0.9, seed=1126, max_depth=6 \n",
      "[CV]  colsample_bytree=0.825, learning_rate=0.05, n_estimators=400, subsample=0.9, seed=1126, max_depth=6, score=0.826937 -  40.4s\n",
      "[CV] colsample_bytree=0.825, learning_rate=0.05, n_estimators=400, subsample=0.9, seed=1126, max_depth=6 \n",
      "[CV]  colsample_bytree=0.825, learning_rate=0.05, n_estimators=400, subsample=0.9, seed=1126, max_depth=6, score=0.828047 -  40.1s\n",
      "[CV] colsample_bytree=0.825, learning_rate=0.05, n_estimators=400, subsample=0.9, seed=1126, max_depth=6 \n",
      "[CV]  colsample_bytree=0.825, learning_rate=0.05, n_estimators=400, subsample=0.9, seed=1126, max_depth=6, score=0.839456 -  40.6s\n",
      "[CV] colsample_bytree=0.825, learning_rate=0.05, n_estimators=400, subsample=0.925, seed=1126, max_depth=6 \n",
      "[CV]  colsample_bytree=0.825, learning_rate=0.05, n_estimators=400, subsample=0.925, seed=1126, max_depth=6, score=0.826477 -  41.8s\n",
      "[CV] colsample_bytree=0.825, learning_rate=0.05, n_estimators=400, subsample=0.925, seed=1126, max_depth=6 \n",
      "[CV]  colsample_bytree=0.825, learning_rate=0.05, n_estimators=400, subsample=0.925, seed=1126, max_depth=6, score=0.828969 -  40.4s\n",
      "[CV] colsample_bytree=0.825, learning_rate=0.05, n_estimators=400, subsample=0.925, seed=1126, max_depth=6 \n",
      "[CV]  colsample_bytree=0.825, learning_rate=0.05, n_estimators=400, subsample=0.925, seed=1126, max_depth=6, score=0.840223 -  40.4s\n",
      "[CV] colsample_bytree=0.825, learning_rate=0.05, n_estimators=400, subsample=0.95, seed=1126, max_depth=6 \n",
      "[CV]  colsample_bytree=0.825, learning_rate=0.05, n_estimators=400, subsample=0.95, seed=1126, max_depth=6, score=0.827471 -  43.5s\n",
      "[CV] colsample_bytree=0.825, learning_rate=0.05, n_estimators=400, subsample=0.95, seed=1126, max_depth=6 \n",
      "[CV]  colsample_bytree=0.825, learning_rate=0.05, n_estimators=400, subsample=0.95, seed=1126, max_depth=6, score=0.828336 -  42.7s\n",
      "[CV] colsample_bytree=0.825, learning_rate=0.05, n_estimators=400, subsample=0.95, seed=1126, max_depth=6 \n",
      "[CV]  colsample_bytree=0.825, learning_rate=0.05, n_estimators=400, subsample=0.95, seed=1126, max_depth=6, score=0.840597 -  40.1s\n",
      "[CV] colsample_bytree=0.825, learning_rate=0.05, n_estimators=400, subsample=0.975, seed=1126, max_depth=6 \n",
      "[CV]  colsample_bytree=0.825, learning_rate=0.05, n_estimators=400, subsample=0.975, seed=1126, max_depth=6, score=0.828406 -  39.5s\n",
      "[CV] colsample_bytree=0.825, learning_rate=0.05, n_estimators=400, subsample=0.975, seed=1126, max_depth=6 \n",
      "[CV]  colsample_bytree=0.825, learning_rate=0.05, n_estimators=400, subsample=0.975, seed=1126, max_depth=6, score=0.830826 -  39.5s\n",
      "[CV] colsample_bytree=0.825, learning_rate=0.05, n_estimators=400, subsample=0.975, seed=1126, max_depth=6 \n",
      "[CV]  colsample_bytree=0.825, learning_rate=0.05, n_estimators=400, subsample=0.975, seed=1126, max_depth=6, score=0.839900 -  40.9s\n",
      "[CV] colsample_bytree=0.85, learning_rate=0.05, n_estimators=200, subsample=0.9, seed=1126, max_depth=4 \n",
      "[CV]  colsample_bytree=0.85, learning_rate=0.05, n_estimators=200, subsample=0.9, seed=1126, max_depth=4, score=0.832396 -  14.3s\n",
      "[CV] colsample_bytree=0.85, learning_rate=0.05, n_estimators=200, subsample=0.9, seed=1126, max_depth=4 \n",
      "[CV]  colsample_bytree=0.85, learning_rate=0.05, n_estimators=200, subsample=0.9, seed=1126, max_depth=4, score=0.834880 -  14.8s\n",
      "[CV] colsample_bytree=0.85, learning_rate=0.05, n_estimators=200, subsample=0.9, seed=1126, max_depth=4 \n",
      "[CV]  colsample_bytree=0.85, learning_rate=0.05, n_estimators=200, subsample=0.9, seed=1126, max_depth=4, score=0.844379 -  14.4s\n",
      "[CV] colsample_bytree=0.85, learning_rate=0.05, n_estimators=200, subsample=0.925, seed=1126, max_depth=4 \n",
      "[CV]  colsample_bytree=0.85, learning_rate=0.05, n_estimators=200, subsample=0.925, seed=1126, max_depth=4, score=0.832932 -  14.4s\n"
     ]
    },
    {
     "name": "stderr",
     "output_type": "stream",
     "text": [
      "[Parallel(n_jobs=1)]: Done 199 tasks       | elapsed: 86.5min\n",
      "[Parallel(n_jobs=1)]: Done 220 tasks       | elapsed: 98.3min\n"
     ]
    },
    {
     "name": "stdout",
     "output_type": "stream",
     "text": [
      "[CV] colsample_bytree=0.85, learning_rate=0.05, n_estimators=200, subsample=0.925, seed=1126, max_depth=4 \n",
      "[CV]  colsample_bytree=0.85, learning_rate=0.05, n_estimators=200, subsample=0.925, seed=1126, max_depth=4, score=0.834661 -  14.2s\n",
      "[CV] colsample_bytree=0.85, learning_rate=0.05, n_estimators=200, subsample=0.925, seed=1126, max_depth=4 \n",
      "[CV]  colsample_bytree=0.85, learning_rate=0.05, n_estimators=200, subsample=0.925, seed=1126, max_depth=4, score=0.844245 -  14.3s\n",
      "[CV] colsample_bytree=0.85, learning_rate=0.05, n_estimators=200, subsample=0.95, seed=1126, max_depth=4 \n",
      "[CV]  colsample_bytree=0.85, learning_rate=0.05, n_estimators=200, subsample=0.95, seed=1126, max_depth=4, score=0.832627 -  15.0s\n",
      "[CV] colsample_bytree=0.85, learning_rate=0.05, n_estimators=200, subsample=0.95, seed=1126, max_depth=4 \n",
      "[CV]  colsample_bytree=0.85, learning_rate=0.05, n_estimators=200, subsample=0.95, seed=1126, max_depth=4, score=0.835526 -  14.4s\n",
      "[CV] colsample_bytree=0.85, learning_rate=0.05, n_estimators=200, subsample=0.95, seed=1126, max_depth=4 \n",
      "[CV]  colsample_bytree=0.85, learning_rate=0.05, n_estimators=200, subsample=0.95, seed=1126, max_depth=4, score=0.843802 -  14.5s\n",
      "[CV] colsample_bytree=0.85, learning_rate=0.05, n_estimators=200, subsample=0.975, seed=1126, max_depth=4 \n",
      "[CV]  colsample_bytree=0.85, learning_rate=0.05, n_estimators=200, subsample=0.975, seed=1126, max_depth=4, score=0.832965 -  13.9s\n",
      "[CV] colsample_bytree=0.85, learning_rate=0.05, n_estimators=200, subsample=0.975, seed=1126, max_depth=4 \n",
      "[CV]  colsample_bytree=0.85, learning_rate=0.05, n_estimators=200, subsample=0.975, seed=1126, max_depth=4, score=0.835828 -  14.3s\n",
      "[CV] colsample_bytree=0.85, learning_rate=0.05, n_estimators=200, subsample=0.975, seed=1126, max_depth=4 \n",
      "[CV]  colsample_bytree=0.85, learning_rate=0.05, n_estimators=200, subsample=0.975, seed=1126, max_depth=4, score=0.843145 -  14.3s\n",
      "[CV] colsample_bytree=0.85, learning_rate=0.05, n_estimators=300, subsample=0.9, seed=1126, max_depth=4 \n",
      "[CV]  colsample_bytree=0.85, learning_rate=0.05, n_estimators=300, subsample=0.9, seed=1126, max_depth=4, score=0.831195 -  21.4s\n",
      "[CV] colsample_bytree=0.85, learning_rate=0.05, n_estimators=300, subsample=0.9, seed=1126, max_depth=4 \n",
      "[CV]  colsample_bytree=0.85, learning_rate=0.05, n_estimators=300, subsample=0.9, seed=1126, max_depth=4, score=0.833948 -  20.1s\n",
      "[CV] colsample_bytree=0.85, learning_rate=0.05, n_estimators=300, subsample=0.9, seed=1126, max_depth=4 \n",
      "[CV]  colsample_bytree=0.85, learning_rate=0.05, n_estimators=300, subsample=0.9, seed=1126, max_depth=4, score=0.844080 -  20.1s\n",
      "[CV] colsample_bytree=0.85, learning_rate=0.05, n_estimators=300, subsample=0.925, seed=1126, max_depth=4 \n",
      "[CV]  colsample_bytree=0.85, learning_rate=0.05, n_estimators=300, subsample=0.925, seed=1126, max_depth=4, score=0.831872 -  20.6s\n",
      "[CV] colsample_bytree=0.85, learning_rate=0.05, n_estimators=300, subsample=0.925, seed=1126, max_depth=4 \n",
      "[CV]  colsample_bytree=0.85, learning_rate=0.05, n_estimators=300, subsample=0.925, seed=1126, max_depth=4, score=0.833943 -  19.3s\n",
      "[CV] colsample_bytree=0.85, learning_rate=0.05, n_estimators=300, subsample=0.925, seed=1126, max_depth=4 \n",
      "[CV]  colsample_bytree=0.85, learning_rate=0.05, n_estimators=300, subsample=0.925, seed=1126, max_depth=4, score=0.844444 -  19.1s\n",
      "[CV] colsample_bytree=0.85, learning_rate=0.05, n_estimators=300, subsample=0.95, seed=1126, max_depth=4 \n",
      "[CV]  colsample_bytree=0.85, learning_rate=0.05, n_estimators=300, subsample=0.95, seed=1126, max_depth=4, score=0.831263 -  19.2s\n",
      "[CV] colsample_bytree=0.85, learning_rate=0.05, n_estimators=300, subsample=0.95, seed=1126, max_depth=4 \n",
      "[CV]  colsample_bytree=0.85, learning_rate=0.05, n_estimators=300, subsample=0.95, seed=1126, max_depth=4, score=0.835377 -  21.6s\n",
      "[CV] colsample_bytree=0.85, learning_rate=0.05, n_estimators=300, subsample=0.95, seed=1126, max_depth=4 \n",
      "[CV]  colsample_bytree=0.85, learning_rate=0.05, n_estimators=300, subsample=0.95, seed=1126, max_depth=4, score=0.843991 -  21.6s\n",
      "[CV] colsample_bytree=0.85, learning_rate=0.05, n_estimators=300, subsample=0.975, seed=1126, max_depth=4 \n",
      "[CV]  colsample_bytree=0.85, learning_rate=0.05, n_estimators=300, subsample=0.975, seed=1126, max_depth=4, score=0.831627 -  21.7s\n",
      "[CV] colsample_bytree=0.85, learning_rate=0.05, n_estimators=300, subsample=0.975, seed=1126, max_depth=4 \n",
      "[CV]  colsample_bytree=0.85, learning_rate=0.05, n_estimators=300, subsample=0.975, seed=1126, max_depth=4, score=0.835718 -  19.5s\n",
      "[CV] colsample_bytree=0.85, learning_rate=0.05, n_estimators=300, subsample=0.975, seed=1126, max_depth=4 \n",
      "[CV]  colsample_bytree=0.85, learning_rate=0.05, n_estimators=300, subsample=0.975, seed=1126, max_depth=4, score=0.843008 -  19.4s\n",
      "[CV] colsample_bytree=0.85, learning_rate=0.05, n_estimators=400, subsample=0.9, seed=1126, max_depth=4 \n",
      "[CV]  colsample_bytree=0.85, learning_rate=0.05, n_estimators=400, subsample=0.9, seed=1126, max_depth=4, score=0.829906 -  27.0s\n",
      "[CV] colsample_bytree=0.85, learning_rate=0.05, n_estimators=400, subsample=0.9, seed=1126, max_depth=4 \n",
      "[CV]  colsample_bytree=0.85, learning_rate=0.05, n_estimators=400, subsample=0.9, seed=1126, max_depth=4, score=0.833211 -  26.9s\n",
      "[CV] colsample_bytree=0.85, learning_rate=0.05, n_estimators=400, subsample=0.9, seed=1126, max_depth=4 \n",
      "[CV]  colsample_bytree=0.85, learning_rate=0.05, n_estimators=400, subsample=0.9, seed=1126, max_depth=4, score=0.843879 -  27.1s\n",
      "[CV] colsample_bytree=0.85, learning_rate=0.05, n_estimators=400, subsample=0.925, seed=1126, max_depth=4 \n",
      "[CV]  colsample_bytree=0.85, learning_rate=0.05, n_estimators=400, subsample=0.925, seed=1126, max_depth=4, score=0.830910 -  25.6s\n",
      "[CV] colsample_bytree=0.85, learning_rate=0.05, n_estimators=400, subsample=0.925, seed=1126, max_depth=4 \n",
      "[CV]  colsample_bytree=0.85, learning_rate=0.05, n_estimators=400, subsample=0.925, seed=1126, max_depth=4, score=0.833007 -  33.7s\n",
      "[CV] colsample_bytree=0.85, learning_rate=0.05, n_estimators=400, subsample=0.925, seed=1126, max_depth=4 \n",
      "[CV]  colsample_bytree=0.85, learning_rate=0.05, n_estimators=400, subsample=0.925, seed=1126, max_depth=4, score=0.843657 -  37.8s\n",
      "[CV] colsample_bytree=0.85, learning_rate=0.05, n_estimators=400, subsample=0.95, seed=1126, max_depth=4 \n",
      "[CV]  colsample_bytree=0.85, learning_rate=0.05, n_estimators=400, subsample=0.95, seed=1126, max_depth=4, score=0.830139 -  36.8s\n",
      "[CV] colsample_bytree=0.85, learning_rate=0.05, n_estimators=400, subsample=0.95, seed=1126, max_depth=4 \n",
      "[CV]  colsample_bytree=0.85, learning_rate=0.05, n_estimators=400, subsample=0.95, seed=1126, max_depth=4, score=0.833965 -  35.7s\n",
      "[CV] colsample_bytree=0.85, learning_rate=0.05, n_estimators=400, subsample=0.95, seed=1126, max_depth=4 \n",
      "[CV]  colsample_bytree=0.85, learning_rate=0.05, n_estimators=400, subsample=0.95, seed=1126, max_depth=4, score=0.843601 -  40.9s\n",
      "[CV] colsample_bytree=0.85, learning_rate=0.05, n_estimators=400, subsample=0.975, seed=1126, max_depth=4 \n",
      "[CV]  colsample_bytree=0.85, learning_rate=0.05, n_estimators=400, subsample=0.975, seed=1126, max_depth=4, score=0.830214 -  30.9s\n",
      "[CV] colsample_bytree=0.85, learning_rate=0.05, n_estimators=400, subsample=0.975, seed=1126, max_depth=4 \n",
      "[CV]  colsample_bytree=0.85, learning_rate=0.05, n_estimators=400, subsample=0.975, seed=1126, max_depth=4, score=0.834972 -  34.0s\n",
      "[CV] colsample_bytree=0.85, learning_rate=0.05, n_estimators=400, subsample=0.975, seed=1126, max_depth=4 \n",
      "[CV]  colsample_bytree=0.85, learning_rate=0.05, n_estimators=400, subsample=0.975, seed=1126, max_depth=4, score=0.842473 -  34.2s\n",
      "[CV] colsample_bytree=0.85, learning_rate=0.05, n_estimators=200, subsample=0.9, seed=1126, max_depth=5 \n",
      "[CV]  colsample_bytree=0.85, learning_rate=0.05, n_estimators=200, subsample=0.9, seed=1126, max_depth=5, score=0.830887 -  22.1s\n",
      "[CV] colsample_bytree=0.85, learning_rate=0.05, n_estimators=200, subsample=0.9, seed=1126, max_depth=5 \n",
      "[CV]  colsample_bytree=0.85, learning_rate=0.05, n_estimators=200, subsample=0.9, seed=1126, max_depth=5, score=0.834389 -  22.1s\n",
      "[CV] colsample_bytree=0.85, learning_rate=0.05, n_estimators=200, subsample=0.9, seed=1126, max_depth=5 \n",
      "[CV]  colsample_bytree=0.85, learning_rate=0.05, n_estimators=200, subsample=0.9, seed=1126, max_depth=5, score=0.844481 -  19.6s\n",
      "[CV] colsample_bytree=0.85, learning_rate=0.05, n_estimators=200, subsample=0.925, seed=1126, max_depth=5 \n",
      "[CV]  colsample_bytree=0.85, learning_rate=0.05, n_estimators=200, subsample=0.925, seed=1126, max_depth=5, score=0.831685 -  21.3s\n",
      "[CV] colsample_bytree=0.85, learning_rate=0.05, n_estimators=200, subsample=0.925, seed=1126, max_depth=5 \n",
      "[CV]  colsample_bytree=0.85, learning_rate=0.05, n_estimators=200, subsample=0.925, seed=1126, max_depth=5, score=0.835099 -  22.1s\n",
      "[CV] colsample_bytree=0.85, learning_rate=0.05, n_estimators=200, subsample=0.925, seed=1126, max_depth=5 \n",
      "[CV]  colsample_bytree=0.85, learning_rate=0.05, n_estimators=200, subsample=0.925, seed=1126, max_depth=5, score=0.843923 -  22.0s\n",
      "[CV] colsample_bytree=0.85, learning_rate=0.05, n_estimators=200, subsample=0.95, seed=1126, max_depth=5 \n",
      "[CV]  colsample_bytree=0.85, learning_rate=0.05, n_estimators=200, subsample=0.95, seed=1126, max_depth=5, score=0.830830 -  22.6s\n",
      "[CV] colsample_bytree=0.85, learning_rate=0.05, n_estimators=200, subsample=0.95, seed=1126, max_depth=5 \n",
      "[CV]  colsample_bytree=0.85, learning_rate=0.05, n_estimators=200, subsample=0.95, seed=1126, max_depth=5, score=0.834525 -  20.8s\n",
      "[CV] colsample_bytree=0.85, learning_rate=0.05, n_estimators=200, subsample=0.95, seed=1126, max_depth=5 \n",
      "[CV]  colsample_bytree=0.85, learning_rate=0.05, n_estimators=200, subsample=0.95, seed=1126, max_depth=5, score=0.844162 -  19.9s\n",
      "[CV] colsample_bytree=0.85, learning_rate=0.05, n_estimators=200, subsample=0.975, seed=1126, max_depth=5 \n",
      "[CV]  colsample_bytree=0.85, learning_rate=0.05, n_estimators=200, subsample=0.975, seed=1126, max_depth=5, score=0.830823 -  19.6s\n",
      "[CV] colsample_bytree=0.85, learning_rate=0.05, n_estimators=200, subsample=0.975, seed=1126, max_depth=5 \n",
      "[CV]  colsample_bytree=0.85, learning_rate=0.05, n_estimators=200, subsample=0.975, seed=1126, max_depth=5, score=0.835118 -  19.7s\n",
      "[CV] colsample_bytree=0.85, learning_rate=0.05, n_estimators=200, subsample=0.975, seed=1126, max_depth=5 \n",
      "[CV]  colsample_bytree=0.85, learning_rate=0.05, n_estimators=200, subsample=0.975, seed=1126, max_depth=5, score=0.843734 -  17.6s\n"
     ]
    },
    {
     "name": "stderr",
     "output_type": "stream",
     "text": [
      "[Parallel(n_jobs=1)]: Done 241 tasks       | elapsed: 104.7min\n",
      "[Parallel(n_jobs=1)]: Done 264 tasks       | elapsed: 115.0min\n"
     ]
    },
    {
     "name": "stdout",
     "output_type": "stream",
     "text": [
      "[CV] colsample_bytree=0.85, learning_rate=0.05, n_estimators=300, subsample=0.9, seed=1126, max_depth=5 \n",
      "[CV]  colsample_bytree=0.85, learning_rate=0.05, n_estimators=300, subsample=0.9, seed=1126, max_depth=5, score=0.829253 -  30.0s\n",
      "[CV] colsample_bytree=0.85, learning_rate=0.05, n_estimators=300, subsample=0.9, seed=1126, max_depth=5 \n",
      "[CV]  colsample_bytree=0.85, learning_rate=0.05, n_estimators=300, subsample=0.9, seed=1126, max_depth=5, score=0.833544 -  27.7s\n",
      "[CV] colsample_bytree=0.85, learning_rate=0.05, n_estimators=300, subsample=0.9, seed=1126, max_depth=5 \n",
      "[CV]  colsample_bytree=0.85, learning_rate=0.05, n_estimators=300, subsample=0.9, seed=1126, max_depth=5, score=0.843720 -  27.6s\n",
      "[CV] colsample_bytree=0.85, learning_rate=0.05, n_estimators=300, subsample=0.925, seed=1126, max_depth=5 \n",
      "[CV]  colsample_bytree=0.85, learning_rate=0.05, n_estimators=300, subsample=0.925, seed=1126, max_depth=5, score=0.830852 -  28.5s\n",
      "[CV] colsample_bytree=0.85, learning_rate=0.05, n_estimators=300, subsample=0.925, seed=1126, max_depth=5 \n",
      "[CV]  colsample_bytree=0.85, learning_rate=0.05, n_estimators=300, subsample=0.925, seed=1126, max_depth=5, score=0.833977 -  25.4s\n",
      "[CV] colsample_bytree=0.85, learning_rate=0.05, n_estimators=300, subsample=0.925, seed=1126, max_depth=5 \n",
      "[CV]  colsample_bytree=0.85, learning_rate=0.05, n_estimators=300, subsample=0.925, seed=1126, max_depth=5, score=0.843435 -  27.5s\n",
      "[CV] colsample_bytree=0.85, learning_rate=0.05, n_estimators=300, subsample=0.95, seed=1126, max_depth=5 \n",
      "[CV]  colsample_bytree=0.85, learning_rate=0.05, n_estimators=300, subsample=0.95, seed=1126, max_depth=5, score=0.829988 -  27.3s\n",
      "[CV] colsample_bytree=0.85, learning_rate=0.05, n_estimators=300, subsample=0.95, seed=1126, max_depth=5 \n",
      "[CV]  colsample_bytree=0.85, learning_rate=0.05, n_estimators=300, subsample=0.95, seed=1126, max_depth=5, score=0.833216 -  28.8s\n",
      "[CV] colsample_bytree=0.85, learning_rate=0.05, n_estimators=300, subsample=0.95, seed=1126, max_depth=5 \n",
      "[CV]  colsample_bytree=0.85, learning_rate=0.05, n_estimators=300, subsample=0.95, seed=1126, max_depth=5, score=0.843368 -  30.1s\n",
      "[CV] colsample_bytree=0.85, learning_rate=0.05, n_estimators=300, subsample=0.975, seed=1126, max_depth=5 \n",
      "[CV]  colsample_bytree=0.85, learning_rate=0.05, n_estimators=300, subsample=0.975, seed=1126, max_depth=5, score=0.829443 -  30.1s\n",
      "[CV] colsample_bytree=0.85, learning_rate=0.05, n_estimators=300, subsample=0.975, seed=1126, max_depth=5 \n",
      "[CV]  colsample_bytree=0.85, learning_rate=0.05, n_estimators=300, subsample=0.975, seed=1126, max_depth=5, score=0.834136 -  29.4s\n",
      "[CV] colsample_bytree=0.85, learning_rate=0.05, n_estimators=300, subsample=0.975, seed=1126, max_depth=5 \n",
      "[CV]  colsample_bytree=0.85, learning_rate=0.05, n_estimators=300, subsample=0.975, seed=1126, max_depth=5, score=0.843196 -  30.8s\n",
      "[CV] colsample_bytree=0.85, learning_rate=0.05, n_estimators=400, subsample=0.9, seed=1126, max_depth=5 \n",
      "[CV]  colsample_bytree=0.85, learning_rate=0.05, n_estimators=400, subsample=0.9, seed=1126, max_depth=5, score=0.828443 -  38.3s\n",
      "[CV] colsample_bytree=0.85, learning_rate=0.05, n_estimators=400, subsample=0.9, seed=1126, max_depth=5 \n",
      "[CV]  colsample_bytree=0.85, learning_rate=0.05, n_estimators=400, subsample=0.9, seed=1126, max_depth=5, score=0.831598 -  42.7s\n",
      "[CV] colsample_bytree=0.85, learning_rate=0.05, n_estimators=400, subsample=0.9, seed=1126, max_depth=5 \n",
      "[CV]  colsample_bytree=0.85, learning_rate=0.05, n_estimators=400, subsample=0.9, seed=1126, max_depth=5, score=0.841768 -  38.9s\n",
      "[CV] colsample_bytree=0.85, learning_rate=0.05, n_estimators=400, subsample=0.925, seed=1126, max_depth=5 \n",
      "[CV]  colsample_bytree=0.85, learning_rate=0.05, n_estimators=400, subsample=0.925, seed=1126, max_depth=5, score=0.829115 -  38.2s\n",
      "[CV] colsample_bytree=0.85, learning_rate=0.05, n_estimators=400, subsample=0.925, seed=1126, max_depth=5 \n",
      "[CV]  colsample_bytree=0.85, learning_rate=0.05, n_estimators=400, subsample=0.925, seed=1126, max_depth=5, score=0.831612 -  39.1s\n",
      "[CV] colsample_bytree=0.85, learning_rate=0.05, n_estimators=400, subsample=0.925, seed=1126, max_depth=5 \n",
      "[CV]  colsample_bytree=0.85, learning_rate=0.05, n_estimators=400, subsample=0.925, seed=1126, max_depth=5, score=0.842267 -  40.6s\n",
      "[CV] colsample_bytree=0.85, learning_rate=0.05, n_estimators=400, subsample=0.95, seed=1126, max_depth=5 \n",
      "[CV]  colsample_bytree=0.85, learning_rate=0.05, n_estimators=400, subsample=0.95, seed=1126, max_depth=5, score=0.828948 -  40.0s\n",
      "[CV] colsample_bytree=0.85, learning_rate=0.05, n_estimators=400, subsample=0.95, seed=1126, max_depth=5 \n",
      "[CV]  colsample_bytree=0.85, learning_rate=0.05, n_estimators=400, subsample=0.95, seed=1126, max_depth=5, score=0.831884 -  41.1s\n",
      "[CV] colsample_bytree=0.85, learning_rate=0.05, n_estimators=400, subsample=0.95, seed=1126, max_depth=5 \n",
      "[CV]  colsample_bytree=0.85, learning_rate=0.05, n_estimators=400, subsample=0.95, seed=1126, max_depth=5, score=0.842452 -  39.0s\n",
      "[CV] colsample_bytree=0.85, learning_rate=0.05, n_estimators=400, subsample=0.975, seed=1126, max_depth=5 \n",
      "[CV]  colsample_bytree=0.85, learning_rate=0.05, n_estimators=400, subsample=0.975, seed=1126, max_depth=5, score=0.828431 -  41.0s\n",
      "[CV] colsample_bytree=0.85, learning_rate=0.05, n_estimators=400, subsample=0.975, seed=1126, max_depth=5 \n",
      "[CV]  colsample_bytree=0.85, learning_rate=0.05, n_estimators=400, subsample=0.975, seed=1126, max_depth=5, score=0.832237 -  38.9s\n",
      "[CV] colsample_bytree=0.85, learning_rate=0.05, n_estimators=400, subsample=0.975, seed=1126, max_depth=5 \n",
      "[CV]  colsample_bytree=0.85, learning_rate=0.05, n_estimators=400, subsample=0.975, seed=1126, max_depth=5, score=0.841510 -  42.0s\n",
      "[CV] colsample_bytree=0.85, learning_rate=0.05, n_estimators=200, subsample=0.9, seed=1126, max_depth=6 \n",
      "[CV]  colsample_bytree=0.85, learning_rate=0.05, n_estimators=200, subsample=0.9, seed=1126, max_depth=6, score=0.830377 -  22.9s\n",
      "[CV] colsample_bytree=0.85, learning_rate=0.05, n_estimators=200, subsample=0.9, seed=1126, max_depth=6 \n",
      "[CV]  colsample_bytree=0.85, learning_rate=0.05, n_estimators=200, subsample=0.9, seed=1126, max_depth=6, score=0.833519 -  23.3s\n",
      "[CV] colsample_bytree=0.85, learning_rate=0.05, n_estimators=200, subsample=0.9, seed=1126, max_depth=6 \n",
      "[CV]  colsample_bytree=0.85, learning_rate=0.05, n_estimators=200, subsample=0.9, seed=1126, max_depth=6, score=0.843984 -  23.2s\n",
      "[CV] colsample_bytree=0.85, learning_rate=0.05, n_estimators=200, subsample=0.925, seed=1126, max_depth=6 \n",
      "[CV]  colsample_bytree=0.85, learning_rate=0.05, n_estimators=200, subsample=0.925, seed=1126, max_depth=6, score=0.831332 -  24.0s\n",
      "[CV] colsample_bytree=0.85, learning_rate=0.05, n_estimators=200, subsample=0.925, seed=1126, max_depth=6 \n",
      "[CV]  colsample_bytree=0.85, learning_rate=0.05, n_estimators=200, subsample=0.925, seed=1126, max_depth=6, score=0.834109 -  24.1s\n",
      "[CV] colsample_bytree=0.85, learning_rate=0.05, n_estimators=200, subsample=0.925, seed=1126, max_depth=6 \n",
      "[CV]  colsample_bytree=0.85, learning_rate=0.05, n_estimators=200, subsample=0.925, seed=1126, max_depth=6, score=0.843240 -  24.2s\n",
      "[CV] colsample_bytree=0.85, learning_rate=0.05, n_estimators=200, subsample=0.95, seed=1126, max_depth=6 \n",
      "[CV]  colsample_bytree=0.85, learning_rate=0.05, n_estimators=200, subsample=0.95, seed=1126, max_depth=6, score=0.830487 -  24.0s\n",
      "[CV] colsample_bytree=0.85, learning_rate=0.05, n_estimators=200, subsample=0.95, seed=1126, max_depth=6 \n",
      "[CV]  colsample_bytree=0.85, learning_rate=0.05, n_estimators=200, subsample=0.95, seed=1126, max_depth=6, score=0.833813 -  23.9s\n",
      "[CV] colsample_bytree=0.85, learning_rate=0.05, n_estimators=200, subsample=0.95, seed=1126, max_depth=6 \n",
      "[CV]  colsample_bytree=0.85, learning_rate=0.05, n_estimators=200, subsample=0.95, seed=1126, max_depth=6, score=0.843079 -  24.0s\n",
      "[CV] colsample_bytree=0.85, learning_rate=0.05, n_estimators=200, subsample=0.975, seed=1126, max_depth=6 \n",
      "[CV]  colsample_bytree=0.85, learning_rate=0.05, n_estimators=200, subsample=0.975, seed=1126, max_depth=6, score=0.830713 -  23.8s\n",
      "[CV] colsample_bytree=0.85, learning_rate=0.05, n_estimators=200, subsample=0.975, seed=1126, max_depth=6 \n",
      "[CV]  colsample_bytree=0.85, learning_rate=0.05, n_estimators=200, subsample=0.975, seed=1126, max_depth=6, score=0.834606 -  25.9s\n",
      "[CV] colsample_bytree=0.85, learning_rate=0.05, n_estimators=200, subsample=0.975, seed=1126, max_depth=6 \n",
      "[CV]  colsample_bytree=0.85, learning_rate=0.05, n_estimators=200, subsample=0.975, seed=1126, max_depth=6, score=0.843842 -  23.8s\n",
      "[CV] colsample_bytree=0.85, learning_rate=0.05, n_estimators=300, subsample=0.9, seed=1126, max_depth=6 \n",
      "[CV]  colsample_bytree=0.85, learning_rate=0.05, n_estimators=300, subsample=0.9, seed=1126, max_depth=6, score=0.828159 -  36.6s\n",
      "[CV] colsample_bytree=0.85, learning_rate=0.05, n_estimators=300, subsample=0.9, seed=1126, max_depth=6 \n",
      "[CV]  colsample_bytree=0.85, learning_rate=0.05, n_estimators=300, subsample=0.9, seed=1126, max_depth=6, score=0.830961 -  36.5s\n",
      "[CV] colsample_bytree=0.85, learning_rate=0.05, n_estimators=300, subsample=0.9, seed=1126, max_depth=6 \n",
      "[CV]  colsample_bytree=0.85, learning_rate=0.05, n_estimators=300, subsample=0.9, seed=1126, max_depth=6, score=0.842437 -  36.5s\n",
      "[CV] colsample_bytree=0.85, learning_rate=0.05, n_estimators=300, subsample=0.925, seed=1126, max_depth=6 \n",
      "[CV]  colsample_bytree=0.85, learning_rate=0.05, n_estimators=300, subsample=0.925, seed=1126, max_depth=6, score=0.829464 -  35.1s\n",
      "[CV] colsample_bytree=0.85, learning_rate=0.05, n_estimators=300, subsample=0.925, seed=1126, max_depth=6 \n",
      "[CV]  colsample_bytree=0.85, learning_rate=0.05, n_estimators=300, subsample=0.925, seed=1126, max_depth=6, score=0.831249 -  36.3s\n",
      "[CV] colsample_bytree=0.85, learning_rate=0.05, n_estimators=300, subsample=0.925, seed=1126, max_depth=6 \n",
      "[CV]  colsample_bytree=0.85, learning_rate=0.05, n_estimators=300, subsample=0.925, seed=1126, max_depth=6, score=0.841942 -  36.3s\n",
      "[CV] colsample_bytree=0.85, learning_rate=0.05, n_estimators=300, subsample=0.95, seed=1126, max_depth=6 \n",
      "[CV]  colsample_bytree=0.85, learning_rate=0.05, n_estimators=300, subsample=0.95, seed=1126, max_depth=6, score=0.828088 -  37.4s\n",
      "[CV] colsample_bytree=0.85, learning_rate=0.05, n_estimators=300, subsample=0.95, seed=1126, max_depth=6 \n",
      "[CV]  colsample_bytree=0.85, learning_rate=0.05, n_estimators=300, subsample=0.95, seed=1126, max_depth=6, score=0.832083 -  36.6s\n",
      "[CV] colsample_bytree=0.85, learning_rate=0.05, n_estimators=300, subsample=0.95, seed=1126, max_depth=6 \n",
      "[CV]  colsample_bytree=0.85, learning_rate=0.05, n_estimators=300, subsample=0.95, seed=1126, max_depth=6, score=0.841463 -  39.2s\n",
      "[CV] colsample_bytree=0.85, learning_rate=0.05, n_estimators=300, subsample=0.975, seed=1126, max_depth=6 \n",
      "[CV]  colsample_bytree=0.85, learning_rate=0.05, n_estimators=300, subsample=0.975, seed=1126, max_depth=6, score=0.828920 -  36.8s\n",
      "[CV] colsample_bytree=0.85, learning_rate=0.05, n_estimators=300, subsample=0.975, seed=1126, max_depth=6 \n",
      "[CV]  colsample_bytree=0.85, learning_rate=0.05, n_estimators=300, subsample=0.975, seed=1126, max_depth=6, score=0.832747 -  35.7s\n",
      "[CV] colsample_bytree=0.85, learning_rate=0.05, n_estimators=300, subsample=0.975, seed=1126, max_depth=6 \n",
      "[CV]  colsample_bytree=0.85, learning_rate=0.05, n_estimators=300, subsample=0.975, seed=1126, max_depth=6, score=0.842170 -  36.8s\n"
     ]
    },
    {
     "name": "stderr",
     "output_type": "stream",
     "text": [
      "[Parallel(n_jobs=1)]: Done 287 tasks       | elapsed: 128.1min\n",
      "[Parallel(n_jobs=1)]: Done 312 tasks       | elapsed: 140.9min\n"
     ]
    },
    {
     "name": "stdout",
     "output_type": "stream",
     "text": [
      "[CV] colsample_bytree=0.85, learning_rate=0.05, n_estimators=400, subsample=0.9, seed=1126, max_depth=6 \n",
      "[CV]  colsample_bytree=0.85, learning_rate=0.05, n_estimators=400, subsample=0.9, seed=1126, max_depth=6, score=0.826278 -  47.8s\n",
      "[CV] colsample_bytree=0.85, learning_rate=0.05, n_estimators=400, subsample=0.9, seed=1126, max_depth=6 \n",
      "[CV]  colsample_bytree=0.85, learning_rate=0.05, n_estimators=400, subsample=0.9, seed=1126, max_depth=6, score=0.827856 -  48.8s\n",
      "[CV] colsample_bytree=0.85, learning_rate=0.05, n_estimators=400, subsample=0.9, seed=1126, max_depth=6 \n",
      "[CV]  colsample_bytree=0.85, learning_rate=0.05, n_estimators=400, subsample=0.9, seed=1126, max_depth=6, score=0.840139 -  48.7s\n",
      "[CV] colsample_bytree=0.85, learning_rate=0.05, n_estimators=400, subsample=0.925, seed=1126, max_depth=6 \n",
      "[CV]  colsample_bytree=0.85, learning_rate=0.05, n_estimators=400, subsample=0.925, seed=1126, max_depth=6, score=0.827403 -  48.3s\n",
      "[CV] colsample_bytree=0.85, learning_rate=0.05, n_estimators=400, subsample=0.925, seed=1126, max_depth=6 \n",
      "[CV]  colsample_bytree=0.85, learning_rate=0.05, n_estimators=400, subsample=0.925, seed=1126, max_depth=6, score=0.828803 -  48.5s\n",
      "[CV] colsample_bytree=0.85, learning_rate=0.05, n_estimators=400, subsample=0.925, seed=1126, max_depth=6 \n",
      "[CV]  colsample_bytree=0.85, learning_rate=0.05, n_estimators=400, subsample=0.925, seed=1126, max_depth=6, score=0.839729 -  44.1s\n",
      "[CV] colsample_bytree=0.85, learning_rate=0.05, n_estimators=400, subsample=0.95, seed=1126, max_depth=6 \n",
      "[CV]  colsample_bytree=0.85, learning_rate=0.05, n_estimators=400, subsample=0.95, seed=1126, max_depth=6, score=0.825882 -  38.3s\n",
      "[CV] colsample_bytree=0.85, learning_rate=0.05, n_estimators=400, subsample=0.95, seed=1126, max_depth=6 \n",
      "[CV]  colsample_bytree=0.85, learning_rate=0.05, n_estimators=400, subsample=0.95, seed=1126, max_depth=6, score=0.829678 -  36.2s\n",
      "[CV] colsample_bytree=0.85, learning_rate=0.05, n_estimators=400, subsample=0.95, seed=1126, max_depth=6 \n",
      "[CV]  colsample_bytree=0.85, learning_rate=0.05, n_estimators=400, subsample=0.95, seed=1126, max_depth=6, score=0.839749 -  36.0s\n",
      "[CV] colsample_bytree=0.85, learning_rate=0.05, n_estimators=400, subsample=0.975, seed=1126, max_depth=6 \n",
      "[CV]  colsample_bytree=0.85, learning_rate=0.05, n_estimators=400, subsample=0.975, seed=1126, max_depth=6, score=0.827869 -  35.8s\n",
      "[CV] colsample_bytree=0.85, learning_rate=0.05, n_estimators=400, subsample=0.975, seed=1126, max_depth=6 \n",
      "[CV]  colsample_bytree=0.85, learning_rate=0.05, n_estimators=400, subsample=0.975, seed=1126, max_depth=6, score=0.830261 -  35.8s\n",
      "[CV] colsample_bytree=0.85, learning_rate=0.05, n_estimators=400, subsample=0.975, seed=1126, max_depth=6 \n",
      "[CV]  colsample_bytree=0.85, learning_rate=0.05, n_estimators=400, subsample=0.975, seed=1126, max_depth=6, score=0.839510 -  35.9s\n",
      "[CV] colsample_bytree=0.875, learning_rate=0.05, n_estimators=200, subsample=0.9, seed=1126, max_depth=4 \n",
      "[CV]  colsample_bytree=0.875, learning_rate=0.05, n_estimators=200, subsample=0.9, seed=1126, max_depth=4, score=0.832910 -  13.0s\n",
      "[CV] colsample_bytree=0.875, learning_rate=0.05, n_estimators=200, subsample=0.9, seed=1126, max_depth=4 \n",
      "[CV]  colsample_bytree=0.875, learning_rate=0.05, n_estimators=200, subsample=0.9, seed=1126, max_depth=4, score=0.834692 -  13.1s\n",
      "[CV] colsample_bytree=0.875, learning_rate=0.05, n_estimators=200, subsample=0.9, seed=1126, max_depth=4 \n",
      "[CV]  colsample_bytree=0.875, learning_rate=0.05, n_estimators=200, subsample=0.9, seed=1126, max_depth=4, score=0.843941 -  13.1s\n",
      "[CV] colsample_bytree=0.875, learning_rate=0.05, n_estimators=200, subsample=0.925, seed=1126, max_depth=4 \n",
      "[CV]  colsample_bytree=0.875, learning_rate=0.05, n_estimators=200, subsample=0.925, seed=1126, max_depth=4, score=0.833199 -  12.9s\n",
      "[CV] colsample_bytree=0.875, learning_rate=0.05, n_estimators=200, subsample=0.925, seed=1126, max_depth=4 \n",
      "[CV]  colsample_bytree=0.875, learning_rate=0.05, n_estimators=200, subsample=0.925, seed=1126, max_depth=4, score=0.834634 -  12.9s\n",
      "[CV] colsample_bytree=0.875, learning_rate=0.05, n_estimators=200, subsample=0.925, seed=1126, max_depth=4 \n",
      "[CV]  colsample_bytree=0.875, learning_rate=0.05, n_estimators=200, subsample=0.925, seed=1126, max_depth=4, score=0.843886 -  13.1s\n",
      "[CV] colsample_bytree=0.875, learning_rate=0.05, n_estimators=200, subsample=0.95, seed=1126, max_depth=4 \n",
      "[CV]  colsample_bytree=0.875, learning_rate=0.05, n_estimators=200, subsample=0.95, seed=1126, max_depth=4, score=0.832765 -  12.8s\n",
      "[CV] colsample_bytree=0.875, learning_rate=0.05, n_estimators=200, subsample=0.95, seed=1126, max_depth=4 \n",
      "[CV]  colsample_bytree=0.875, learning_rate=0.05, n_estimators=200, subsample=0.95, seed=1126, max_depth=4, score=0.835170 -  12.9s\n",
      "[CV] colsample_bytree=0.875, learning_rate=0.05, n_estimators=200, subsample=0.95, seed=1126, max_depth=4 \n",
      "[CV]  colsample_bytree=0.875, learning_rate=0.05, n_estimators=200, subsample=0.95, seed=1126, max_depth=4, score=0.843429 -  12.9s\n",
      "[CV] colsample_bytree=0.875, learning_rate=0.05, n_estimators=200, subsample=0.975, seed=1126, max_depth=4 \n",
      "[CV]  colsample_bytree=0.875, learning_rate=0.05, n_estimators=200, subsample=0.975, seed=1126, max_depth=4, score=0.832923 -  12.7s\n",
      "[CV] colsample_bytree=0.875, learning_rate=0.05, n_estimators=200, subsample=0.975, seed=1126, max_depth=4 \n",
      "[CV]  colsample_bytree=0.875, learning_rate=0.05, n_estimators=200, subsample=0.975, seed=1126, max_depth=4, score=0.835640 -  12.8s\n",
      "[CV] colsample_bytree=0.875, learning_rate=0.05, n_estimators=200, subsample=0.975, seed=1126, max_depth=4 \n",
      "[CV]  colsample_bytree=0.875, learning_rate=0.05, n_estimators=200, subsample=0.975, seed=1126, max_depth=4, score=0.843623 -  12.7s\n",
      "[CV] colsample_bytree=0.875, learning_rate=0.05, n_estimators=300, subsample=0.9, seed=1126, max_depth=4 \n",
      "[CV]  colsample_bytree=0.875, learning_rate=0.05, n_estimators=300, subsample=0.9, seed=1126, max_depth=4, score=0.831709 -  19.4s\n",
      "[CV] colsample_bytree=0.875, learning_rate=0.05, n_estimators=300, subsample=0.9, seed=1126, max_depth=4 \n",
      "[CV]  colsample_bytree=0.875, learning_rate=0.05, n_estimators=300, subsample=0.9, seed=1126, max_depth=4, score=0.834104 -  19.3s\n",
      "[CV] colsample_bytree=0.875, learning_rate=0.05, n_estimators=300, subsample=0.9, seed=1126, max_depth=4 \n",
      "[CV]  colsample_bytree=0.875, learning_rate=0.05, n_estimators=300, subsample=0.9, seed=1126, max_depth=4, score=0.843961 -  19.5s\n",
      "[CV] colsample_bytree=0.875, learning_rate=0.05, n_estimators=300, subsample=0.925, seed=1126, max_depth=4 \n",
      "[CV]  colsample_bytree=0.875, learning_rate=0.05, n_estimators=300, subsample=0.925, seed=1126, max_depth=4, score=0.831888 -  19.2s\n",
      "[CV] colsample_bytree=0.875, learning_rate=0.05, n_estimators=300, subsample=0.925, seed=1126, max_depth=4 \n",
      "[CV]  colsample_bytree=0.875, learning_rate=0.05, n_estimators=300, subsample=0.925, seed=1126, max_depth=4, score=0.833838 -  21.8s\n",
      "[CV] colsample_bytree=0.875, learning_rate=0.05, n_estimators=300, subsample=0.925, seed=1126, max_depth=4 \n",
      "[CV]  colsample_bytree=0.875, learning_rate=0.05, n_estimators=300, subsample=0.925, seed=1126, max_depth=4, score=0.844420 -  19.6s\n",
      "[CV] colsample_bytree=0.875, learning_rate=0.05, n_estimators=300, subsample=0.95, seed=1126, max_depth=4 \n",
      "[CV]  colsample_bytree=0.875, learning_rate=0.05, n_estimators=300, subsample=0.95, seed=1126, max_depth=4, score=0.831586 -  19.2s\n",
      "[CV] colsample_bytree=0.875, learning_rate=0.05, n_estimators=300, subsample=0.95, seed=1126, max_depth=4 \n",
      "[CV]  colsample_bytree=0.875, learning_rate=0.05, n_estimators=300, subsample=0.95, seed=1126, max_depth=4, score=0.834462 -  19.0s\n",
      "[CV] colsample_bytree=0.875, learning_rate=0.05, n_estimators=300, subsample=0.95, seed=1126, max_depth=4 \n",
      "[CV]  colsample_bytree=0.875, learning_rate=0.05, n_estimators=300, subsample=0.95, seed=1126, max_depth=4, score=0.843680 -  22.2s\n",
      "[CV] colsample_bytree=0.875, learning_rate=0.05, n_estimators=300, subsample=0.975, seed=1126, max_depth=4 \n",
      "[CV]  colsample_bytree=0.875, learning_rate=0.05, n_estimators=300, subsample=0.975, seed=1126, max_depth=4, score=0.831927 -  20.0s\n",
      "[CV] colsample_bytree=0.875, learning_rate=0.05, n_estimators=300, subsample=0.975, seed=1126, max_depth=4 \n",
      "[CV]  colsample_bytree=0.875, learning_rate=0.05, n_estimators=300, subsample=0.975, seed=1126, max_depth=4, score=0.835403 -  26.3s\n",
      "[CV] colsample_bytree=0.875, learning_rate=0.05, n_estimators=300, subsample=0.975, seed=1126, max_depth=4 \n",
      "[CV]  colsample_bytree=0.875, learning_rate=0.05, n_estimators=300, subsample=0.975, seed=1126, max_depth=4, score=0.843304 -  19.9s\n",
      "[CV] colsample_bytree=0.875, learning_rate=0.05, n_estimators=400, subsample=0.9, seed=1126, max_depth=4 \n",
      "[CV]  colsample_bytree=0.875, learning_rate=0.05, n_estimators=400, subsample=0.9, seed=1126, max_depth=4, score=0.830906 -  27.3s\n",
      "[CV] colsample_bytree=0.875, learning_rate=0.05, n_estimators=400, subsample=0.9, seed=1126, max_depth=4 \n",
      "[CV]  colsample_bytree=0.875, learning_rate=0.05, n_estimators=400, subsample=0.9, seed=1126, max_depth=4, score=0.833196 -  29.7s\n",
      "[CV] colsample_bytree=0.875, learning_rate=0.05, n_estimators=400, subsample=0.9, seed=1126, max_depth=4 \n",
      "[CV]  colsample_bytree=0.875, learning_rate=0.05, n_estimators=400, subsample=0.9, seed=1126, max_depth=4, score=0.843736 -  34.1s\n",
      "[CV] colsample_bytree=0.875, learning_rate=0.05, n_estimators=400, subsample=0.925, seed=1126, max_depth=4 \n",
      "[CV]  colsample_bytree=0.875, learning_rate=0.05, n_estimators=400, subsample=0.925, seed=1126, max_depth=4, score=0.830502 -  36.7s\n",
      "[CV] colsample_bytree=0.875, learning_rate=0.05, n_estimators=400, subsample=0.925, seed=1126, max_depth=4 \n",
      "[CV]  colsample_bytree=0.875, learning_rate=0.05, n_estimators=400, subsample=0.925, seed=1126, max_depth=4, score=0.832962 -  38.0s\n",
      "[CV] colsample_bytree=0.875, learning_rate=0.05, n_estimators=400, subsample=0.925, seed=1126, max_depth=4 \n",
      "[CV]  colsample_bytree=0.875, learning_rate=0.05, n_estimators=400, subsample=0.925, seed=1126, max_depth=4, score=0.843688 -  34.8s\n",
      "[CV] colsample_bytree=0.875, learning_rate=0.05, n_estimators=400, subsample=0.95, seed=1126, max_depth=4 \n",
      "[CV]  colsample_bytree=0.875, learning_rate=0.05, n_estimators=400, subsample=0.95, seed=1126, max_depth=4, score=0.830524 -  29.5s\n",
      "[CV] colsample_bytree=0.875, learning_rate=0.05, n_estimators=400, subsample=0.95, seed=1126, max_depth=4 \n",
      "[CV]  colsample_bytree=0.875, learning_rate=0.05, n_estimators=400, subsample=0.95, seed=1126, max_depth=4, score=0.833638 -  30.7s\n",
      "[CV] colsample_bytree=0.875, learning_rate=0.05, n_estimators=400, subsample=0.95, seed=1126, max_depth=4 \n",
      "[CV]  colsample_bytree=0.875, learning_rate=0.05, n_estimators=400, subsample=0.95, seed=1126, max_depth=4, score=0.843173 -  27.7s\n",
      "[CV] colsample_bytree=0.875, learning_rate=0.05, n_estimators=400, subsample=0.975, seed=1126, max_depth=4 \n",
      "[CV]  colsample_bytree=0.875, learning_rate=0.05, n_estimators=400, subsample=0.975, seed=1126, max_depth=4, score=0.830694 -  28.3s\n",
      "[CV] colsample_bytree=0.875, learning_rate=0.05, n_estimators=400, subsample=0.975, seed=1126, max_depth=4 \n",
      "[CV]  colsample_bytree=0.875, learning_rate=0.05, n_estimators=400, subsample=0.975, seed=1126, max_depth=4, score=0.834520 -  29.4s\n",
      "[CV] colsample_bytree=0.875, learning_rate=0.05, n_estimators=400, subsample=0.975, seed=1126, max_depth=4 \n",
      "[CV]  colsample_bytree=0.875, learning_rate=0.05, n_estimators=400, subsample=0.975, seed=1126, max_depth=4, score=0.842894 -  32.3s\n",
      "[CV] colsample_bytree=0.875, learning_rate=0.05, n_estimators=200, subsample=0.9, seed=1126, max_depth=5 \n",
      "[CV]  colsample_bytree=0.875, learning_rate=0.05, n_estimators=200, subsample=0.9, seed=1126, max_depth=5, score=0.831064 -  17.9s\n",
      "[CV] colsample_bytree=0.875, learning_rate=0.05, n_estimators=200, subsample=0.9, seed=1126, max_depth=5 \n",
      "[CV]  colsample_bytree=0.875, learning_rate=0.05, n_estimators=200, subsample=0.9, seed=1126, max_depth=5, score=0.834320 -  18.4s\n",
      "[CV] colsample_bytree=0.875, learning_rate=0.05, n_estimators=200, subsample=0.9, seed=1126, max_depth=5 \n",
      "[CV]  colsample_bytree=0.875, learning_rate=0.05, n_estimators=200, subsample=0.9, seed=1126, max_depth=5, score=0.844802 -  17.8s\n",
      "[CV] colsample_bytree=0.875, learning_rate=0.05, n_estimators=200, subsample=0.925, seed=1126, max_depth=5 \n",
      "[CV]  colsample_bytree=0.875, learning_rate=0.05, n_estimators=200, subsample=0.925, seed=1126, max_depth=5, score=0.832083 -  17.8s\n"
     ]
    },
    {
     "name": "stderr",
     "output_type": "stream",
     "text": [
      "[Parallel(n_jobs=1)]: Done 337 tasks       | elapsed: 152.3min\n",
      "[Parallel(n_jobs=1)]: Done 364 tasks       | elapsed: 163.6min\n"
     ]
    },
    {
     "name": "stdout",
     "output_type": "stream",
     "text": [
      "[CV] colsample_bytree=0.875, learning_rate=0.05, n_estimators=200, subsample=0.925, seed=1126, max_depth=5 \n",
      "[CV]  colsample_bytree=0.875, learning_rate=0.05, n_estimators=200, subsample=0.925, seed=1126, max_depth=5, score=0.834474 -  18.2s\n",
      "[CV] colsample_bytree=0.875, learning_rate=0.05, n_estimators=200, subsample=0.925, seed=1126, max_depth=5 \n",
      "[CV]  colsample_bytree=0.875, learning_rate=0.05, n_estimators=200, subsample=0.925, seed=1126, max_depth=5, score=0.844270 -  22.2s\n",
      "[CV] colsample_bytree=0.875, learning_rate=0.05, n_estimators=200, subsample=0.95, seed=1126, max_depth=5 \n",
      "[CV]  colsample_bytree=0.875, learning_rate=0.05, n_estimators=200, subsample=0.95, seed=1126, max_depth=5, score=0.830683 -  19.9s\n",
      "[CV] colsample_bytree=0.875, learning_rate=0.05, n_estimators=200, subsample=0.95, seed=1126, max_depth=5 \n",
      "[CV]  colsample_bytree=0.875, learning_rate=0.05, n_estimators=200, subsample=0.95, seed=1126, max_depth=5, score=0.834878 -  18.5s\n",
      "[CV] colsample_bytree=0.875, learning_rate=0.05, n_estimators=200, subsample=0.95, seed=1126, max_depth=5 \n",
      "[CV]  colsample_bytree=0.875, learning_rate=0.05, n_estimators=200, subsample=0.95, seed=1126, max_depth=5, score=0.844678 -  19.1s\n",
      "[CV] colsample_bytree=0.875, learning_rate=0.05, n_estimators=200, subsample=0.975, seed=1126, max_depth=5 \n",
      "[CV]  colsample_bytree=0.875, learning_rate=0.05, n_estimators=200, subsample=0.975, seed=1126, max_depth=5, score=0.830306 -  17.4s\n",
      "[CV] colsample_bytree=0.875, learning_rate=0.05, n_estimators=200, subsample=0.975, seed=1126, max_depth=5 \n",
      "[CV]  colsample_bytree=0.875, learning_rate=0.05, n_estimators=200, subsample=0.975, seed=1126, max_depth=5, score=0.835443 -  17.5s\n",
      "[CV] colsample_bytree=0.875, learning_rate=0.05, n_estimators=200, subsample=0.975, seed=1126, max_depth=5 \n",
      "[CV]  colsample_bytree=0.875, learning_rate=0.05, n_estimators=200, subsample=0.975, seed=1126, max_depth=5, score=0.844159 -  17.8s\n",
      "[CV] colsample_bytree=0.875, learning_rate=0.05, n_estimators=300, subsample=0.9, seed=1126, max_depth=5 \n",
      "[CV]  colsample_bytree=0.875, learning_rate=0.05, n_estimators=300, subsample=0.9, seed=1126, max_depth=5, score=0.829766 -  28.1s\n",
      "[CV] colsample_bytree=0.875, learning_rate=0.05, n_estimators=300, subsample=0.9, seed=1126, max_depth=5 \n",
      "[CV]  colsample_bytree=0.875, learning_rate=0.05, n_estimators=300, subsample=0.9, seed=1126, max_depth=5, score=0.832859 -  26.0s\n",
      "[CV] colsample_bytree=0.875, learning_rate=0.05, n_estimators=300, subsample=0.9, seed=1126, max_depth=5 \n",
      "[CV]  colsample_bytree=0.875, learning_rate=0.05, n_estimators=300, subsample=0.9, seed=1126, max_depth=5, score=0.843673 -  25.4s\n",
      "[CV] colsample_bytree=0.875, learning_rate=0.05, n_estimators=300, subsample=0.925, seed=1126, max_depth=5 \n",
      "[CV]  colsample_bytree=0.875, learning_rate=0.05, n_estimators=300, subsample=0.925, seed=1126, max_depth=5, score=0.830279 -  28.8s\n",
      "[CV] colsample_bytree=0.875, learning_rate=0.05, n_estimators=300, subsample=0.925, seed=1126, max_depth=5 \n",
      "[CV]  colsample_bytree=0.875, learning_rate=0.05, n_estimators=300, subsample=0.925, seed=1126, max_depth=5, score=0.833288 -  31.6s\n",
      "[CV] colsample_bytree=0.875, learning_rate=0.05, n_estimators=300, subsample=0.925, seed=1126, max_depth=5 \n",
      "[CV]  colsample_bytree=0.875, learning_rate=0.05, n_estimators=300, subsample=0.925, seed=1126, max_depth=5, score=0.843903 -  28.8s\n",
      "[CV] colsample_bytree=0.875, learning_rate=0.05, n_estimators=300, subsample=0.95, seed=1126, max_depth=5 \n",
      "[CV]  colsample_bytree=0.875, learning_rate=0.05, n_estimators=300, subsample=0.95, seed=1126, max_depth=5, score=0.829300 -  29.1s\n",
      "[CV] colsample_bytree=0.875, learning_rate=0.05, n_estimators=300, subsample=0.95, seed=1126, max_depth=5 \n",
      "[CV]  colsample_bytree=0.875, learning_rate=0.05, n_estimators=300, subsample=0.95, seed=1126, max_depth=5, score=0.833005 -  28.3s\n",
      "[CV] colsample_bytree=0.875, learning_rate=0.05, n_estimators=300, subsample=0.95, seed=1126, max_depth=5 \n",
      "[CV]  colsample_bytree=0.875, learning_rate=0.05, n_estimators=300, subsample=0.95, seed=1126, max_depth=5, score=0.844151 -  28.9s\n",
      "[CV] colsample_bytree=0.875, learning_rate=0.05, n_estimators=300, subsample=0.975, seed=1126, max_depth=5 \n",
      "[CV]  colsample_bytree=0.875, learning_rate=0.05, n_estimators=300, subsample=0.975, seed=1126, max_depth=5, score=0.828807 -  28.7s\n",
      "[CV] colsample_bytree=0.875, learning_rate=0.05, n_estimators=300, subsample=0.975, seed=1126, max_depth=5 \n",
      "[CV]  colsample_bytree=0.875, learning_rate=0.05, n_estimators=300, subsample=0.975, seed=1126, max_depth=5, score=0.833914 -  28.4s\n",
      "[CV] colsample_bytree=0.875, learning_rate=0.05, n_estimators=300, subsample=0.975, seed=1126, max_depth=5 \n",
      "[CV]  colsample_bytree=0.875, learning_rate=0.05, n_estimators=300, subsample=0.975, seed=1126, max_depth=5, score=0.843408 -  29.3s\n",
      "[CV] colsample_bytree=0.875, learning_rate=0.05, n_estimators=400, subsample=0.9, seed=1126, max_depth=5 \n",
      "[CV]  colsample_bytree=0.875, learning_rate=0.05, n_estimators=400, subsample=0.9, seed=1126, max_depth=5, score=0.828463 -  38.9s\n",
      "[CV] colsample_bytree=0.875, learning_rate=0.05, n_estimators=400, subsample=0.9, seed=1126, max_depth=5 \n",
      "[CV]  colsample_bytree=0.875, learning_rate=0.05, n_estimators=400, subsample=0.9, seed=1126, max_depth=5, score=0.831391 -  39.1s\n",
      "[CV] colsample_bytree=0.875, learning_rate=0.05, n_estimators=400, subsample=0.9, seed=1126, max_depth=5 \n",
      "[CV]  colsample_bytree=0.875, learning_rate=0.05, n_estimators=400, subsample=0.9, seed=1126, max_depth=5, score=0.841855 -  38.3s\n",
      "[CV] colsample_bytree=0.875, learning_rate=0.05, n_estimators=400, subsample=0.925, seed=1126, max_depth=5 \n",
      "[CV]  colsample_bytree=0.875, learning_rate=0.05, n_estimators=400, subsample=0.925, seed=1126, max_depth=5, score=0.828798 -  37.6s\n",
      "[CV] colsample_bytree=0.875, learning_rate=0.05, n_estimators=400, subsample=0.925, seed=1126, max_depth=5 \n",
      "[CV]  colsample_bytree=0.875, learning_rate=0.05, n_estimators=400, subsample=0.925, seed=1126, max_depth=5, score=0.832072 -  37.9s\n",
      "[CV] colsample_bytree=0.875, learning_rate=0.05, n_estimators=400, subsample=0.925, seed=1126, max_depth=5 \n",
      "[CV]  colsample_bytree=0.875, learning_rate=0.05, n_estimators=400, subsample=0.925, seed=1126, max_depth=5, score=0.842976 -  39.1s\n",
      "[CV] colsample_bytree=0.875, learning_rate=0.05, n_estimators=400, subsample=0.95, seed=1126, max_depth=5 \n",
      "[CV]  colsample_bytree=0.875, learning_rate=0.05, n_estimators=400, subsample=0.95, seed=1126, max_depth=5, score=0.828597 -  38.8s\n",
      "[CV] colsample_bytree=0.875, learning_rate=0.05, n_estimators=400, subsample=0.95, seed=1126, max_depth=5 \n",
      "[CV]  colsample_bytree=0.875, learning_rate=0.05, n_estimators=400, subsample=0.95, seed=1126, max_depth=5, score=0.831406 -  39.3s\n",
      "[CV] colsample_bytree=0.875, learning_rate=0.05, n_estimators=400, subsample=0.95, seed=1126, max_depth=5 \n",
      "[CV]  colsample_bytree=0.875, learning_rate=0.05, n_estimators=400, subsample=0.95, seed=1126, max_depth=5, score=0.842474 -  38.3s\n",
      "[CV] colsample_bytree=0.875, learning_rate=0.05, n_estimators=400, subsample=0.975, seed=1126, max_depth=5 \n",
      "[CV]  colsample_bytree=0.875, learning_rate=0.05, n_estimators=400, subsample=0.975, seed=1126, max_depth=5, score=0.827622 -  37.4s\n",
      "[CV] colsample_bytree=0.875, learning_rate=0.05, n_estimators=400, subsample=0.975, seed=1126, max_depth=5 \n",
      "[CV]  colsample_bytree=0.875, learning_rate=0.05, n_estimators=400, subsample=0.975, seed=1126, max_depth=5, score=0.831703 -  38.8s\n",
      "[CV] colsample_bytree=0.875, learning_rate=0.05, n_estimators=400, subsample=0.975, seed=1126, max_depth=5 \n",
      "[CV]  colsample_bytree=0.875, learning_rate=0.05, n_estimators=400, subsample=0.975, seed=1126, max_depth=5, score=0.841665 -  37.2s\n",
      "[CV] colsample_bytree=0.875, learning_rate=0.05, n_estimators=200, subsample=0.9, seed=1126, max_depth=6 \n",
      "[CV]  colsample_bytree=0.875, learning_rate=0.05, n_estimators=200, subsample=0.9, seed=1126, max_depth=6, score=0.830066 -  24.2s\n",
      "[CV] colsample_bytree=0.875, learning_rate=0.05, n_estimators=200, subsample=0.9, seed=1126, max_depth=6 \n",
      "[CV]  colsample_bytree=0.875, learning_rate=0.05, n_estimators=200, subsample=0.9, seed=1126, max_depth=6, score=0.832638 -  25.3s\n",
      "[CV] colsample_bytree=0.875, learning_rate=0.05, n_estimators=200, subsample=0.9, seed=1126, max_depth=6 \n",
      "[CV]  colsample_bytree=0.875, learning_rate=0.05, n_estimators=200, subsample=0.9, seed=1126, max_depth=6, score=0.844278 -  23.8s\n",
      "[CV] colsample_bytree=0.875, learning_rate=0.05, n_estimators=200, subsample=0.925, seed=1126, max_depth=6 \n",
      "[CV]  colsample_bytree=0.875, learning_rate=0.05, n_estimators=200, subsample=0.925, seed=1126, max_depth=6, score=0.830825 -  23.8s\n",
      "[CV] colsample_bytree=0.875, learning_rate=0.05, n_estimators=200, subsample=0.925, seed=1126, max_depth=6 \n",
      "[CV]  colsample_bytree=0.875, learning_rate=0.05, n_estimators=200, subsample=0.925, seed=1126, max_depth=6, score=0.833328 -  24.7s\n",
      "[CV] colsample_bytree=0.875, learning_rate=0.05, n_estimators=200, subsample=0.925, seed=1126, max_depth=6 \n",
      "[CV]  colsample_bytree=0.875, learning_rate=0.05, n_estimators=200, subsample=0.925, seed=1126, max_depth=6, score=0.842910 -  25.3s\n",
      "[CV] colsample_bytree=0.875, learning_rate=0.05, n_estimators=200, subsample=0.95, seed=1126, max_depth=6 \n",
      "[CV]  colsample_bytree=0.875, learning_rate=0.05, n_estimators=200, subsample=0.95, seed=1126, max_depth=6, score=0.829896 -  23.4s\n",
      "[CV] colsample_bytree=0.875, learning_rate=0.05, n_estimators=200, subsample=0.95, seed=1126, max_depth=6 \n",
      "[CV]  colsample_bytree=0.875, learning_rate=0.05, n_estimators=200, subsample=0.95, seed=1126, max_depth=6, score=0.834501 -  23.5s\n",
      "[CV] colsample_bytree=0.875, learning_rate=0.05, n_estimators=200, subsample=0.95, seed=1126, max_depth=6 \n",
      "[CV]  colsample_bytree=0.875, learning_rate=0.05, n_estimators=200, subsample=0.95, seed=1126, max_depth=6, score=0.843749 -  23.4s\n",
      "[CV] colsample_bytree=0.875, learning_rate=0.05, n_estimators=200, subsample=0.975, seed=1126, max_depth=6 \n",
      "[CV]  colsample_bytree=0.875, learning_rate=0.05, n_estimators=200, subsample=0.975, seed=1126, max_depth=6, score=0.829307 -  23.6s\n",
      "[CV] colsample_bytree=0.875, learning_rate=0.05, n_estimators=200, subsample=0.975, seed=1126, max_depth=6 \n",
      "[CV]  colsample_bytree=0.875, learning_rate=0.05, n_estimators=200, subsample=0.975, seed=1126, max_depth=6, score=0.834427 -  23.1s\n",
      "[CV] colsample_bytree=0.875, learning_rate=0.05, n_estimators=200, subsample=0.975, seed=1126, max_depth=6 \n",
      "[CV]  colsample_bytree=0.875, learning_rate=0.05, n_estimators=200, subsample=0.975, seed=1126, max_depth=6, score=0.843946 -  23.1s\n",
      "[CV] colsample_bytree=0.875, learning_rate=0.05, n_estimators=300, subsample=0.9, seed=1126, max_depth=6 \n",
      "[CV]  colsample_bytree=0.875, learning_rate=0.05, n_estimators=300, subsample=0.9, seed=1126, max_depth=6, score=0.827677 -  34.7s\n",
      "[CV] colsample_bytree=0.875, learning_rate=0.05, n_estimators=300, subsample=0.9, seed=1126, max_depth=6 \n",
      "[CV]  colsample_bytree=0.875, learning_rate=0.05, n_estimators=300, subsample=0.9, seed=1126, max_depth=6, score=0.830325 -  36.2s\n",
      "[CV] colsample_bytree=0.875, learning_rate=0.05, n_estimators=300, subsample=0.9, seed=1126, max_depth=6 \n",
      "[CV]  colsample_bytree=0.875, learning_rate=0.05, n_estimators=300, subsample=0.9, seed=1126, max_depth=6, score=0.842800 -  34.5s\n",
      "[CV] colsample_bytree=0.875, learning_rate=0.05, n_estimators=300, subsample=0.925, seed=1126, max_depth=6 \n",
      "[CV]  colsample_bytree=0.875, learning_rate=0.05, n_estimators=300, subsample=0.925, seed=1126, max_depth=6, score=0.829493 -  35.7s\n",
      "[CV] colsample_bytree=0.875, learning_rate=0.05, n_estimators=300, subsample=0.925, seed=1126, max_depth=6 \n",
      "[CV]  colsample_bytree=0.875, learning_rate=0.05, n_estimators=300, subsample=0.925, seed=1126, max_depth=6, score=0.830227 -  35.9s\n",
      "[CV] colsample_bytree=0.875, learning_rate=0.05, n_estimators=300, subsample=0.925, seed=1126, max_depth=6 \n",
      "[CV]  colsample_bytree=0.875, learning_rate=0.05, n_estimators=300, subsample=0.925, seed=1126, max_depth=6, score=0.841803 -  35.4s\n",
      "[CV] colsample_bytree=0.875, learning_rate=0.05, n_estimators=300, subsample=0.95, seed=1126, max_depth=6 \n",
      "[CV]  colsample_bytree=0.875, learning_rate=0.05, n_estimators=300, subsample=0.95, seed=1126, max_depth=6, score=0.828180 -  34.2s\n",
      "[CV] colsample_bytree=0.875, learning_rate=0.05, n_estimators=300, subsample=0.95, seed=1126, max_depth=6 \n",
      "[CV]  colsample_bytree=0.875, learning_rate=0.05, n_estimators=300, subsample=0.95, seed=1126, max_depth=6, score=0.831481 -  34.6s\n",
      "[CV] colsample_bytree=0.875, learning_rate=0.05, n_estimators=300, subsample=0.95, seed=1126, max_depth=6 \n",
      "[CV]  colsample_bytree=0.875, learning_rate=0.05, n_estimators=300, subsample=0.95, seed=1126, max_depth=6, score=0.841883 -  34.4s\n",
      "[CV] colsample_bytree=0.875, learning_rate=0.05, n_estimators=300, subsample=0.975, seed=1126, max_depth=6 \n",
      "[CV]  colsample_bytree=0.875, learning_rate=0.05, n_estimators=300, subsample=0.975, seed=1126, max_depth=6, score=0.828555 -  34.3s\n",
      "[CV] colsample_bytree=0.875, learning_rate=0.05, n_estimators=300, subsample=0.975, seed=1126, max_depth=6 \n",
      "[CV]  colsample_bytree=0.875, learning_rate=0.05, n_estimators=300, subsample=0.975, seed=1126, max_depth=6, score=0.832815 -  34.6s\n",
      "[CV] colsample_bytree=0.875, learning_rate=0.05, n_estimators=300, subsample=0.975, seed=1126, max_depth=6 \n",
      "[CV]  colsample_bytree=0.875, learning_rate=0.05, n_estimators=300, subsample=0.975, seed=1126, max_depth=6, score=0.842267 -  34.4s\n"
     ]
    },
    {
     "name": "stderr",
     "output_type": "stream",
     "text": [
      "[Parallel(n_jobs=1)]: Done 391 tasks       | elapsed: 176.3min\n",
      "[Parallel(n_jobs=1)]: Done 420 tasks       | elapsed: 191.4min\n"
     ]
    },
    {
     "name": "stdout",
     "output_type": "stream",
     "text": [
      "[CV] colsample_bytree=0.875, learning_rate=0.05, n_estimators=400, subsample=0.9, seed=1126, max_depth=6 \n",
      "[CV]  colsample_bytree=0.875, learning_rate=0.05, n_estimators=400, subsample=0.9, seed=1126, max_depth=6, score=0.826049 -  45.1s\n",
      "[CV] colsample_bytree=0.875, learning_rate=0.05, n_estimators=400, subsample=0.9, seed=1126, max_depth=6 \n",
      "[CV]  colsample_bytree=0.875, learning_rate=0.05, n_estimators=400, subsample=0.9, seed=1126, max_depth=6, score=0.828338 -  38.7s\n",
      "[CV] colsample_bytree=0.875, learning_rate=0.05, n_estimators=400, subsample=0.9, seed=1126, max_depth=6 \n",
      "[CV]  colsample_bytree=0.875, learning_rate=0.05, n_estimators=400, subsample=0.9, seed=1126, max_depth=6, score=0.840630 -  38.4s\n",
      "[CV] colsample_bytree=0.875, learning_rate=0.05, n_estimators=400, subsample=0.925, seed=1126, max_depth=6 \n",
      "[CV]  colsample_bytree=0.875, learning_rate=0.05, n_estimators=400, subsample=0.925, seed=1126, max_depth=6, score=0.827990 -  38.1s\n",
      "[CV] colsample_bytree=0.875, learning_rate=0.05, n_estimators=400, subsample=0.925, seed=1126, max_depth=6 \n",
      "[CV]  colsample_bytree=0.875, learning_rate=0.05, n_estimators=400, subsample=0.925, seed=1126, max_depth=6, score=0.827551 -  38.7s\n",
      "[CV] colsample_bytree=0.875, learning_rate=0.05, n_estimators=400, subsample=0.925, seed=1126, max_depth=6 \n",
      "[CV]  colsample_bytree=0.875, learning_rate=0.05, n_estimators=400, subsample=0.925, seed=1126, max_depth=6, score=0.839235 -  38.1s\n",
      "[CV] colsample_bytree=0.875, learning_rate=0.05, n_estimators=400, subsample=0.95, seed=1126, max_depth=6 \n",
      "[CV]  colsample_bytree=0.875, learning_rate=0.05, n_estimators=400, subsample=0.95, seed=1126, max_depth=6, score=0.825551 -  37.8s\n",
      "[CV] colsample_bytree=0.875, learning_rate=0.05, n_estimators=400, subsample=0.95, seed=1126, max_depth=6 \n",
      "[CV]  colsample_bytree=0.875, learning_rate=0.05, n_estimators=400, subsample=0.95, seed=1126, max_depth=6, score=0.829497 -  37.9s\n",
      "[CV] colsample_bytree=0.875, learning_rate=0.05, n_estimators=400, subsample=0.95, seed=1126, max_depth=6 \n",
      "[CV]  colsample_bytree=0.875, learning_rate=0.05, n_estimators=400, subsample=0.95, seed=1126, max_depth=6, score=0.840152 -  38.3s\n",
      "[CV] colsample_bytree=0.875, learning_rate=0.05, n_estimators=400, subsample=0.975, seed=1126, max_depth=6 \n",
      "[CV]  colsample_bytree=0.875, learning_rate=0.05, n_estimators=400, subsample=0.975, seed=1126, max_depth=6, score=0.827517 -  37.2s\n",
      "[CV] colsample_bytree=0.875, learning_rate=0.05, n_estimators=400, subsample=0.975, seed=1126, max_depth=6 \n",
      "[CV]  colsample_bytree=0.875, learning_rate=0.05, n_estimators=400, subsample=0.975, seed=1126, max_depth=6, score=0.830150 -  38.3s\n",
      "[CV] colsample_bytree=0.875, learning_rate=0.05, n_estimators=400, subsample=0.975, seed=1126, max_depth=6 \n",
      "[CV]  colsample_bytree=0.875, learning_rate=0.05, n_estimators=400, subsample=0.975, seed=1126, max_depth=6, score=0.839873 -  41.1s\n",
      "[CV] colsample_bytree=0.9, learning_rate=0.05, n_estimators=200, subsample=0.9, seed=1126, max_depth=4 \n",
      "[CV]  colsample_bytree=0.9, learning_rate=0.05, n_estimators=200, subsample=0.9, seed=1126, max_depth=4, score=0.832710 -  13.7s\n",
      "[CV] colsample_bytree=0.9, learning_rate=0.05, n_estimators=200, subsample=0.9, seed=1126, max_depth=4 \n",
      "[CV]  colsample_bytree=0.9, learning_rate=0.05, n_estimators=200, subsample=0.9, seed=1126, max_depth=4, score=0.834943 -  13.9s\n",
      "[CV] colsample_bytree=0.9, learning_rate=0.05, n_estimators=200, subsample=0.9, seed=1126, max_depth=4 \n",
      "[CV]  colsample_bytree=0.9, learning_rate=0.05, n_estimators=200, subsample=0.9, seed=1126, max_depth=4, score=0.844010 -  15.6s\n",
      "[CV] colsample_bytree=0.9, learning_rate=0.05, n_estimators=200, subsample=0.925, seed=1126, max_depth=4 \n",
      "[CV]  colsample_bytree=0.9, learning_rate=0.05, n_estimators=200, subsample=0.925, seed=1126, max_depth=4, score=0.833325 -  19.7s\n",
      "[CV] colsample_bytree=0.9, learning_rate=0.05, n_estimators=200, subsample=0.925, seed=1126, max_depth=4 \n",
      "[CV]  colsample_bytree=0.9, learning_rate=0.05, n_estimators=200, subsample=0.925, seed=1126, max_depth=4, score=0.834794 -  18.1s\n",
      "[CV] colsample_bytree=0.9, learning_rate=0.05, n_estimators=200, subsample=0.925, seed=1126, max_depth=4 \n",
      "[CV]  colsample_bytree=0.9, learning_rate=0.05, n_estimators=200, subsample=0.925, seed=1126, max_depth=4, score=0.843809 -  16.4s\n",
      "[CV] colsample_bytree=0.9, learning_rate=0.05, n_estimators=200, subsample=0.95, seed=1126, max_depth=4 \n",
      "[CV]  colsample_bytree=0.9, learning_rate=0.05, n_estimators=200, subsample=0.95, seed=1126, max_depth=4, score=0.832998 -  14.9s\n",
      "[CV] colsample_bytree=0.9, learning_rate=0.05, n_estimators=200, subsample=0.95, seed=1126, max_depth=4 \n",
      "[CV]  colsample_bytree=0.9, learning_rate=0.05, n_estimators=200, subsample=0.95, seed=1126, max_depth=4, score=0.835187 -  16.2s\n",
      "[CV] colsample_bytree=0.9, learning_rate=0.05, n_estimators=200, subsample=0.95, seed=1126, max_depth=4 \n",
      "[CV]  colsample_bytree=0.9, learning_rate=0.05, n_estimators=200, subsample=0.95, seed=1126, max_depth=4, score=0.843626 -  17.0s\n",
      "[CV] colsample_bytree=0.9, learning_rate=0.05, n_estimators=200, subsample=0.975, seed=1126, max_depth=4 \n",
      "[CV]  colsample_bytree=0.9, learning_rate=0.05, n_estimators=200, subsample=0.975, seed=1126, max_depth=4, score=0.832362 -  16.7s\n",
      "[CV] colsample_bytree=0.9, learning_rate=0.05, n_estimators=200, subsample=0.975, seed=1126, max_depth=4 \n",
      "[CV]  colsample_bytree=0.9, learning_rate=0.05, n_estimators=200, subsample=0.975, seed=1126, max_depth=4, score=0.835078 -  16.7s\n",
      "[CV] colsample_bytree=0.9, learning_rate=0.05, n_estimators=200, subsample=0.975, seed=1126, max_depth=4 \n",
      "[CV]  colsample_bytree=0.9, learning_rate=0.05, n_estimators=200, subsample=0.975, seed=1126, max_depth=4, score=0.843417 -  15.0s\n",
      "[CV] colsample_bytree=0.9, learning_rate=0.05, n_estimators=300, subsample=0.9, seed=1126, max_depth=4 \n",
      "[CV]  colsample_bytree=0.9, learning_rate=0.05, n_estimators=300, subsample=0.9, seed=1126, max_depth=4, score=0.831438 -  21.6s\n",
      "[CV] colsample_bytree=0.9, learning_rate=0.05, n_estimators=300, subsample=0.9, seed=1126, max_depth=4 \n",
      "[CV]  colsample_bytree=0.9, learning_rate=0.05, n_estimators=300, subsample=0.9, seed=1126, max_depth=4, score=0.834328 -  23.2s\n",
      "[CV] colsample_bytree=0.9, learning_rate=0.05, n_estimators=300, subsample=0.9, seed=1126, max_depth=4 \n",
      "[CV]  colsample_bytree=0.9, learning_rate=0.05, n_estimators=300, subsample=0.9, seed=1126, max_depth=4, score=0.844173 -  24.4s\n",
      "[CV] colsample_bytree=0.9, learning_rate=0.05, n_estimators=300, subsample=0.925, seed=1126, max_depth=4 \n",
      "[CV]  colsample_bytree=0.9, learning_rate=0.05, n_estimators=300, subsample=0.925, seed=1126, max_depth=4, score=0.831854 -  24.0s\n",
      "[CV] colsample_bytree=0.9, learning_rate=0.05, n_estimators=300, subsample=0.925, seed=1126, max_depth=4 \n",
      "[CV]  colsample_bytree=0.9, learning_rate=0.05, n_estimators=300, subsample=0.925, seed=1126, max_depth=4, score=0.833646 -  24.1s\n",
      "[CV] colsample_bytree=0.9, learning_rate=0.05, n_estimators=300, subsample=0.925, seed=1126, max_depth=4 \n",
      "[CV]  colsample_bytree=0.9, learning_rate=0.05, n_estimators=300, subsample=0.925, seed=1126, max_depth=4, score=0.843918 -  24.1s\n",
      "[CV] colsample_bytree=0.9, learning_rate=0.05, n_estimators=300, subsample=0.95, seed=1126, max_depth=4 \n",
      "[CV]  colsample_bytree=0.9, learning_rate=0.05, n_estimators=300, subsample=0.95, seed=1126, max_depth=4, score=0.831758 -  24.0s\n",
      "[CV] colsample_bytree=0.9, learning_rate=0.05, n_estimators=300, subsample=0.95, seed=1126, max_depth=4 \n",
      "[CV]  colsample_bytree=0.9, learning_rate=0.05, n_estimators=300, subsample=0.95, seed=1126, max_depth=4, score=0.834437 -  24.0s\n",
      "[CV] colsample_bytree=0.9, learning_rate=0.05, n_estimators=300, subsample=0.95, seed=1126, max_depth=4 \n",
      "[CV]  colsample_bytree=0.9, learning_rate=0.05, n_estimators=300, subsample=0.95, seed=1126, max_depth=4, score=0.844317 -  24.0s\n",
      "[CV] colsample_bytree=0.9, learning_rate=0.05, n_estimators=300, subsample=0.975, seed=1126, max_depth=4 \n",
      "[CV]  colsample_bytree=0.9, learning_rate=0.05, n_estimators=300, subsample=0.975, seed=1126, max_depth=4, score=0.830975 -  24.1s\n",
      "[CV] colsample_bytree=0.9, learning_rate=0.05, n_estimators=300, subsample=0.975, seed=1126, max_depth=4 \n",
      "[CV]  colsample_bytree=0.9, learning_rate=0.05, n_estimators=300, subsample=0.975, seed=1126, max_depth=4, score=0.834485 -  24.2s\n",
      "[CV] colsample_bytree=0.9, learning_rate=0.05, n_estimators=300, subsample=0.975, seed=1126, max_depth=4 \n",
      "[CV]  colsample_bytree=0.9, learning_rate=0.05, n_estimators=300, subsample=0.975, seed=1126, max_depth=4, score=0.843097 -  23.4s\n",
      "[CV] colsample_bytree=0.9, learning_rate=0.05, n_estimators=400, subsample=0.9, seed=1126, max_depth=4 \n",
      "[CV]  colsample_bytree=0.9, learning_rate=0.05, n_estimators=400, subsample=0.9, seed=1126, max_depth=4, score=0.830720 -  32.0s\n",
      "[CV] colsample_bytree=0.9, learning_rate=0.05, n_estimators=400, subsample=0.9, seed=1126, max_depth=4 \n",
      "[CV]  colsample_bytree=0.9, learning_rate=0.05, n_estimators=400, subsample=0.9, seed=1126, max_depth=4, score=0.833363 -  32.7s\n",
      "[CV] colsample_bytree=0.9, learning_rate=0.05, n_estimators=400, subsample=0.9, seed=1126, max_depth=4 \n",
      "[CV]  colsample_bytree=0.9, learning_rate=0.05, n_estimators=400, subsample=0.9, seed=1126, max_depth=4, score=0.843621 -  32.1s\n",
      "[CV] colsample_bytree=0.9, learning_rate=0.05, n_estimators=400, subsample=0.925, seed=1126, max_depth=4 \n",
      "[CV]  colsample_bytree=0.9, learning_rate=0.05, n_estimators=400, subsample=0.925, seed=1126, max_depth=4, score=0.831246 -  31.9s\n",
      "[CV] colsample_bytree=0.9, learning_rate=0.05, n_estimators=400, subsample=0.925, seed=1126, max_depth=4 \n",
      "[CV]  colsample_bytree=0.9, learning_rate=0.05, n_estimators=400, subsample=0.925, seed=1126, max_depth=4, score=0.833278 -  31.7s\n",
      "[CV] colsample_bytree=0.9, learning_rate=0.05, n_estimators=400, subsample=0.925, seed=1126, max_depth=4 \n",
      "[CV]  colsample_bytree=0.9, learning_rate=0.05, n_estimators=400, subsample=0.925, seed=1126, max_depth=4, score=0.843261 -  32.1s\n",
      "[CV] colsample_bytree=0.9, learning_rate=0.05, n_estimators=400, subsample=0.95, seed=1126, max_depth=4 \n",
      "[CV]  colsample_bytree=0.9, learning_rate=0.05, n_estimators=400, subsample=0.95, seed=1126, max_depth=4, score=0.830361 -  35.3s\n",
      "[CV] colsample_bytree=0.9, learning_rate=0.05, n_estimators=400, subsample=0.95, seed=1126, max_depth=4 \n",
      "[CV]  colsample_bytree=0.9, learning_rate=0.05, n_estimators=400, subsample=0.95, seed=1126, max_depth=4, score=0.833499 -  31.4s\n",
      "[CV] colsample_bytree=0.9, learning_rate=0.05, n_estimators=400, subsample=0.95, seed=1126, max_depth=4 \n",
      "[CV]  colsample_bytree=0.9, learning_rate=0.05, n_estimators=400, subsample=0.95, seed=1126, max_depth=4, score=0.844195 -  36.5s\n",
      "[CV] colsample_bytree=0.9, learning_rate=0.05, n_estimators=400, subsample=0.975, seed=1126, max_depth=4 \n",
      "[CV]  colsample_bytree=0.9, learning_rate=0.05, n_estimators=400, subsample=0.975, seed=1126, max_depth=4, score=0.829536 -  37.6s\n",
      "[CV] colsample_bytree=0.9, learning_rate=0.05, n_estimators=400, subsample=0.975, seed=1126, max_depth=4 \n",
      "[CV]  colsample_bytree=0.9, learning_rate=0.05, n_estimators=400, subsample=0.975, seed=1126, max_depth=4, score=0.834028 -  38.9s\n",
      "[CV] colsample_bytree=0.9, learning_rate=0.05, n_estimators=400, subsample=0.975, seed=1126, max_depth=4 \n",
      "[CV]  colsample_bytree=0.9, learning_rate=0.05, n_estimators=400, subsample=0.975, seed=1126, max_depth=4, score=0.841957 -  38.7s\n",
      "[CV] colsample_bytree=0.9, learning_rate=0.05, n_estimators=200, subsample=0.9, seed=1126, max_depth=5 \n",
      "[CV]  colsample_bytree=0.9, learning_rate=0.05, n_estimators=200, subsample=0.9, seed=1126, max_depth=5, score=0.830609 -  19.5s\n",
      "[CV] colsample_bytree=0.9, learning_rate=0.05, n_estimators=200, subsample=0.9, seed=1126, max_depth=5 \n",
      "[CV]  colsample_bytree=0.9, learning_rate=0.05, n_estimators=200, subsample=0.9, seed=1126, max_depth=5, score=0.834700 -  21.0s\n",
      "[CV] colsample_bytree=0.9, learning_rate=0.05, n_estimators=200, subsample=0.9, seed=1126, max_depth=5 \n",
      "[CV]  colsample_bytree=0.9, learning_rate=0.05, n_estimators=200, subsample=0.9, seed=1126, max_depth=5, score=0.844826 -  17.9s\n",
      "[CV] colsample_bytree=0.9, learning_rate=0.05, n_estimators=200, subsample=0.925, seed=1126, max_depth=5 \n",
      "[CV]  colsample_bytree=0.9, learning_rate=0.05, n_estimators=200, subsample=0.925, seed=1126, max_depth=5, score=0.831662 -  17.3s\n",
      "[CV] colsample_bytree=0.9, learning_rate=0.05, n_estimators=200, subsample=0.925, seed=1126, max_depth=5 \n",
      "[CV]  colsample_bytree=0.9, learning_rate=0.05, n_estimators=200, subsample=0.925, seed=1126, max_depth=5, score=0.834373 -  17.3s\n",
      "[CV] colsample_bytree=0.9, learning_rate=0.05, n_estimators=200, subsample=0.925, seed=1126, max_depth=5 \n",
      "[CV]  colsample_bytree=0.9, learning_rate=0.05, n_estimators=200, subsample=0.925, seed=1126, max_depth=5, score=0.844022 -  17.5s\n",
      "[CV] colsample_bytree=0.9, learning_rate=0.05, n_estimators=200, subsample=0.95, seed=1126, max_depth=5 \n",
      "[CV]  colsample_bytree=0.9, learning_rate=0.05, n_estimators=200, subsample=0.95, seed=1126, max_depth=5, score=0.830450 -  18.7s\n",
      "[CV] colsample_bytree=0.9, learning_rate=0.05, n_estimators=200, subsample=0.95, seed=1126, max_depth=5 \n",
      "[CV]  colsample_bytree=0.9, learning_rate=0.05, n_estimators=200, subsample=0.95, seed=1126, max_depth=5, score=0.834367 -  20.4s\n",
      "[CV] colsample_bytree=0.9, learning_rate=0.05, n_estimators=200, subsample=0.95, seed=1126, max_depth=5 \n",
      "[CV]  colsample_bytree=0.9, learning_rate=0.05, n_estimators=200, subsample=0.95, seed=1126, max_depth=5, score=0.844562 -  19.8s\n",
      "[CV] colsample_bytree=0.9, learning_rate=0.05, n_estimators=200, subsample=0.975, seed=1126, max_depth=5 \n",
      "[CV]  colsample_bytree=0.9, learning_rate=0.05, n_estimators=200, subsample=0.975, seed=1126, max_depth=5, score=0.830677 -  23.0s\n",
      "[CV] colsample_bytree=0.9, learning_rate=0.05, n_estimators=200, subsample=0.975, seed=1126, max_depth=5 \n",
      "[CV]  colsample_bytree=0.9, learning_rate=0.05, n_estimators=200, subsample=0.975, seed=1126, max_depth=5, score=0.834924 -  20.7s\n",
      "[CV] colsample_bytree=0.9, learning_rate=0.05, n_estimators=200, subsample=0.975, seed=1126, max_depth=5 \n",
      "[CV]  colsample_bytree=0.9, learning_rate=0.05, n_estimators=200, subsample=0.975, seed=1126, max_depth=5, score=0.843958 -  22.4s\n"
     ]
    },
    {
     "name": "stderr",
     "output_type": "stream",
     "text": [
      "[Parallel(n_jobs=1)]: Done 449 tasks       | elapsed: 204.4min\n",
      "[Parallel(n_jobs=1)]: Done 480 tasks       | elapsed: 218.0min\n"
     ]
    },
    {
     "name": "stdout",
     "output_type": "stream",
     "text": [
      "[CV] colsample_bytree=0.9, learning_rate=0.05, n_estimators=300, subsample=0.9, seed=1126, max_depth=5 \n",
      "[CV]  colsample_bytree=0.9, learning_rate=0.05, n_estimators=300, subsample=0.9, seed=1126, max_depth=5, score=0.829279 -  33.8s\n",
      "[CV] colsample_bytree=0.9, learning_rate=0.05, n_estimators=300, subsample=0.9, seed=1126, max_depth=5 \n",
      "[CV]  colsample_bytree=0.9, learning_rate=0.05, n_estimators=300, subsample=0.9, seed=1126, max_depth=5, score=0.832707 -  33.0s\n",
      "[CV] colsample_bytree=0.9, learning_rate=0.05, n_estimators=300, subsample=0.9, seed=1126, max_depth=5 \n",
      "[CV]  colsample_bytree=0.9, learning_rate=0.05, n_estimators=300, subsample=0.9, seed=1126, max_depth=5, score=0.844233 -  32.3s\n",
      "[CV] colsample_bytree=0.9, learning_rate=0.05, n_estimators=300, subsample=0.925, seed=1126, max_depth=5 \n",
      "[CV]  colsample_bytree=0.9, learning_rate=0.05, n_estimators=300, subsample=0.925, seed=1126, max_depth=5, score=0.830467 -  31.8s\n",
      "[CV] colsample_bytree=0.9, learning_rate=0.05, n_estimators=300, subsample=0.925, seed=1126, max_depth=5 \n",
      "[CV]  colsample_bytree=0.9, learning_rate=0.05, n_estimators=300, subsample=0.925, seed=1126, max_depth=5, score=0.832908 -  30.9s\n",
      "[CV] colsample_bytree=0.9, learning_rate=0.05, n_estimators=300, subsample=0.925, seed=1126, max_depth=5 \n",
      "[CV]  colsample_bytree=0.9, learning_rate=0.05, n_estimators=300, subsample=0.925, seed=1126, max_depth=5, score=0.844073 -  30.4s\n",
      "[CV] colsample_bytree=0.9, learning_rate=0.05, n_estimators=300, subsample=0.95, seed=1126, max_depth=5 \n",
      "[CV]  colsample_bytree=0.9, learning_rate=0.05, n_estimators=300, subsample=0.95, seed=1126, max_depth=5, score=0.829284 -  30.5s\n",
      "[CV] colsample_bytree=0.9, learning_rate=0.05, n_estimators=300, subsample=0.95, seed=1126, max_depth=5 \n",
      "[CV]  colsample_bytree=0.9, learning_rate=0.05, n_estimators=300, subsample=0.95, seed=1126, max_depth=5, score=0.833416 -  32.3s\n",
      "[CV] colsample_bytree=0.9, learning_rate=0.05, n_estimators=300, subsample=0.95, seed=1126, max_depth=5 \n",
      "[CV]  colsample_bytree=0.9, learning_rate=0.05, n_estimators=300, subsample=0.95, seed=1126, max_depth=5, score=0.844059 -  32.3s\n",
      "[CV] colsample_bytree=0.9, learning_rate=0.05, n_estimators=300, subsample=0.975, seed=1126, max_depth=5 \n",
      "[CV]  colsample_bytree=0.9, learning_rate=0.05, n_estimators=300, subsample=0.975, seed=1126, max_depth=5, score=0.829253 -  30.5s\n",
      "[CV] colsample_bytree=0.9, learning_rate=0.05, n_estimators=300, subsample=0.975, seed=1126, max_depth=5 \n",
      "[CV]  colsample_bytree=0.9, learning_rate=0.05, n_estimators=300, subsample=0.975, seed=1126, max_depth=5, score=0.833544 -  28.9s\n",
      "[CV] colsample_bytree=0.9, learning_rate=0.05, n_estimators=300, subsample=0.975, seed=1126, max_depth=5 \n",
      "[CV]  colsample_bytree=0.9, learning_rate=0.05, n_estimators=300, subsample=0.975, seed=1126, max_depth=5, score=0.843361 -  28.3s\n",
      "[CV] colsample_bytree=0.9, learning_rate=0.05, n_estimators=400, subsample=0.9, seed=1126, max_depth=5 \n",
      "[CV]  colsample_bytree=0.9, learning_rate=0.05, n_estimators=400, subsample=0.9, seed=1126, max_depth=5, score=0.828589 -  38.0s\n",
      "[CV] colsample_bytree=0.9, learning_rate=0.05, n_estimators=400, subsample=0.9, seed=1126, max_depth=5 \n",
      "[CV]  colsample_bytree=0.9, learning_rate=0.05, n_estimators=400, subsample=0.9, seed=1126, max_depth=5, score=0.831121 -  38.7s\n",
      "[CV] colsample_bytree=0.9, learning_rate=0.05, n_estimators=400, subsample=0.9, seed=1126, max_depth=5 \n",
      "[CV]  colsample_bytree=0.9, learning_rate=0.05, n_estimators=400, subsample=0.9, seed=1126, max_depth=5, score=0.842362 -  38.4s\n",
      "[CV] colsample_bytree=0.9, learning_rate=0.05, n_estimators=400, subsample=0.925, seed=1126, max_depth=5 \n",
      "[CV]  colsample_bytree=0.9, learning_rate=0.05, n_estimators=400, subsample=0.925, seed=1126, max_depth=5, score=0.829269 -  38.3s\n",
      "[CV] colsample_bytree=0.9, learning_rate=0.05, n_estimators=400, subsample=0.925, seed=1126, max_depth=5 \n",
      "[CV]  colsample_bytree=0.9, learning_rate=0.05, n_estimators=400, subsample=0.925, seed=1126, max_depth=5, score=0.831333 -  38.2s\n",
      "[CV] colsample_bytree=0.9, learning_rate=0.05, n_estimators=400, subsample=0.925, seed=1126, max_depth=5 \n",
      "[CV]  colsample_bytree=0.9, learning_rate=0.05, n_estimators=400, subsample=0.925, seed=1126, max_depth=5, score=0.842537 -  38.7s\n",
      "[CV] colsample_bytree=0.9, learning_rate=0.05, n_estimators=400, subsample=0.95, seed=1126, max_depth=5 \n",
      "[CV]  colsample_bytree=0.9, learning_rate=0.05, n_estimators=400, subsample=0.95, seed=1126, max_depth=5, score=0.827749 -  34.0s\n",
      "[CV] colsample_bytree=0.9, learning_rate=0.05, n_estimators=400, subsample=0.95, seed=1126, max_depth=5 \n",
      "[CV]  colsample_bytree=0.9, learning_rate=0.05, n_estimators=400, subsample=0.95, seed=1126, max_depth=5, score=0.831475 -  32.1s\n",
      "[CV] colsample_bytree=0.9, learning_rate=0.05, n_estimators=400, subsample=0.95, seed=1126, max_depth=5 \n",
      "[CV]  colsample_bytree=0.9, learning_rate=0.05, n_estimators=400, subsample=0.95, seed=1126, max_depth=5, score=0.843058 -  32.0s\n",
      "[CV] colsample_bytree=0.9, learning_rate=0.05, n_estimators=400, subsample=0.975, seed=1126, max_depth=5 \n",
      "[CV]  colsample_bytree=0.9, learning_rate=0.05, n_estimators=400, subsample=0.975, seed=1126, max_depth=5, score=0.828217 -  32.0s\n",
      "[CV] colsample_bytree=0.9, learning_rate=0.05, n_estimators=400, subsample=0.975, seed=1126, max_depth=5 \n",
      "[CV]  colsample_bytree=0.9, learning_rate=0.05, n_estimators=400, subsample=0.975, seed=1126, max_depth=5, score=0.832186 -  31.8s\n",
      "[CV] colsample_bytree=0.9, learning_rate=0.05, n_estimators=400, subsample=0.975, seed=1126, max_depth=5 \n",
      "[CV]  colsample_bytree=0.9, learning_rate=0.05, n_estimators=400, subsample=0.975, seed=1126, max_depth=5, score=0.841715 -  31.7s\n",
      "[CV] colsample_bytree=0.9, learning_rate=0.05, n_estimators=200, subsample=0.9, seed=1126, max_depth=6 \n",
      "[CV]  colsample_bytree=0.9, learning_rate=0.05, n_estimators=200, subsample=0.9, seed=1126, max_depth=6, score=0.831238 -  19.9s\n",
      "[CV] colsample_bytree=0.9, learning_rate=0.05, n_estimators=200, subsample=0.9, seed=1126, max_depth=6 \n",
      "[CV]  colsample_bytree=0.9, learning_rate=0.05, n_estimators=200, subsample=0.9, seed=1126, max_depth=6, score=0.833452 -  19.8s\n",
      "[CV] colsample_bytree=0.9, learning_rate=0.05, n_estimators=200, subsample=0.9, seed=1126, max_depth=6 \n",
      "[CV]  colsample_bytree=0.9, learning_rate=0.05, n_estimators=200, subsample=0.9, seed=1126, max_depth=6, score=0.843897 -  19.9s\n",
      "[CV] colsample_bytree=0.9, learning_rate=0.05, n_estimators=200, subsample=0.925, seed=1126, max_depth=6 \n",
      "[CV]  colsample_bytree=0.9, learning_rate=0.05, n_estimators=200, subsample=0.925, seed=1126, max_depth=6, score=0.830429 -  19.7s\n",
      "[CV] colsample_bytree=0.9, learning_rate=0.05, n_estimators=200, subsample=0.925, seed=1126, max_depth=6 \n",
      "[CV]  colsample_bytree=0.9, learning_rate=0.05, n_estimators=200, subsample=0.925, seed=1126, max_depth=6, score=0.833612 -  19.7s\n",
      "[CV] colsample_bytree=0.9, learning_rate=0.05, n_estimators=200, subsample=0.925, seed=1126, max_depth=6 \n",
      "[CV]  colsample_bytree=0.9, learning_rate=0.05, n_estimators=200, subsample=0.925, seed=1126, max_depth=6, score=0.843914 -  19.6s\n",
      "[CV] colsample_bytree=0.9, learning_rate=0.05, n_estimators=200, subsample=0.95, seed=1126, max_depth=6 \n",
      "[CV]  colsample_bytree=0.9, learning_rate=0.05, n_estimators=200, subsample=0.95, seed=1126, max_depth=6, score=0.831204 -  19.4s\n",
      "[CV] colsample_bytree=0.9, learning_rate=0.05, n_estimators=200, subsample=0.95, seed=1126, max_depth=6 \n",
      "[CV]  colsample_bytree=0.9, learning_rate=0.05, n_estimators=200, subsample=0.95, seed=1126, max_depth=6, score=0.833424 -  19.4s\n",
      "[CV] colsample_bytree=0.9, learning_rate=0.05, n_estimators=200, subsample=0.95, seed=1126, max_depth=6 \n",
      "[CV]  colsample_bytree=0.9, learning_rate=0.05, n_estimators=200, subsample=0.95, seed=1126, max_depth=6, score=0.844085 -  19.6s\n",
      "[CV] colsample_bytree=0.9, learning_rate=0.05, n_estimators=200, subsample=0.975, seed=1126, max_depth=6 \n",
      "[CV]  colsample_bytree=0.9, learning_rate=0.05, n_estimators=200, subsample=0.975, seed=1126, max_depth=6, score=0.829728 -  19.1s\n",
      "[CV] colsample_bytree=0.9, learning_rate=0.05, n_estimators=200, subsample=0.975, seed=1126, max_depth=6 \n",
      "[CV]  colsample_bytree=0.9, learning_rate=0.05, n_estimators=200, subsample=0.975, seed=1126, max_depth=6, score=0.835210 -  19.1s\n",
      "[CV] colsample_bytree=0.9, learning_rate=0.05, n_estimators=200, subsample=0.975, seed=1126, max_depth=6 \n",
      "[CV]  colsample_bytree=0.9, learning_rate=0.05, n_estimators=200, subsample=0.975, seed=1126, max_depth=6, score=0.843478 -  19.3s\n",
      "[CV] colsample_bytree=0.9, learning_rate=0.05, n_estimators=300, subsample=0.9, seed=1126, max_depth=6 \n",
      "[CV]  colsample_bytree=0.9, learning_rate=0.05, n_estimators=300, subsample=0.9, seed=1126, max_depth=6, score=0.828569 -  29.2s\n",
      "[CV] colsample_bytree=0.9, learning_rate=0.05, n_estimators=300, subsample=0.9, seed=1126, max_depth=6 \n",
      "[CV]  colsample_bytree=0.9, learning_rate=0.05, n_estimators=300, subsample=0.9, seed=1126, max_depth=6, score=0.830743 -  29.2s\n",
      "[CV] colsample_bytree=0.9, learning_rate=0.05, n_estimators=300, subsample=0.9, seed=1126, max_depth=6 \n",
      "[CV]  colsample_bytree=0.9, learning_rate=0.05, n_estimators=300, subsample=0.9, seed=1126, max_depth=6, score=0.841575 -  29.4s\n",
      "[CV] colsample_bytree=0.9, learning_rate=0.05, n_estimators=300, subsample=0.925, seed=1126, max_depth=6 \n",
      "[CV]  colsample_bytree=0.9, learning_rate=0.05, n_estimators=300, subsample=0.925, seed=1126, max_depth=6, score=0.828452 -  29.2s\n",
      "[CV] colsample_bytree=0.9, learning_rate=0.05, n_estimators=300, subsample=0.925, seed=1126, max_depth=6 \n",
      "[CV]  colsample_bytree=0.9, learning_rate=0.05, n_estimators=300, subsample=0.925, seed=1126, max_depth=6, score=0.830544 -  29.0s\n",
      "[CV] colsample_bytree=0.9, learning_rate=0.05, n_estimators=300, subsample=0.925, seed=1126, max_depth=6 \n",
      "[CV]  colsample_bytree=0.9, learning_rate=0.05, n_estimators=300, subsample=0.925, seed=1126, max_depth=6, score=0.842663 -  29.4s\n",
      "[CV] colsample_bytree=0.9, learning_rate=0.05, n_estimators=300, subsample=0.95, seed=1126, max_depth=6 \n",
      "[CV]  colsample_bytree=0.9, learning_rate=0.05, n_estimators=300, subsample=0.95, seed=1126, max_depth=6, score=0.829341 -  29.0s\n",
      "[CV] colsample_bytree=0.9, learning_rate=0.05, n_estimators=300, subsample=0.95, seed=1126, max_depth=6 \n",
      "[CV]  colsample_bytree=0.9, learning_rate=0.05, n_estimators=300, subsample=0.95, seed=1126, max_depth=6, score=0.830598 -  29.0s\n",
      "[CV] colsample_bytree=0.9, learning_rate=0.05, n_estimators=300, subsample=0.95, seed=1126, max_depth=6 \n",
      "[CV]  colsample_bytree=0.9, learning_rate=0.05, n_estimators=300, subsample=0.95, seed=1126, max_depth=6, score=0.842411 -  28.9s\n",
      "[CV] colsample_bytree=0.9, learning_rate=0.05, n_estimators=300, subsample=0.975, seed=1126, max_depth=6 \n",
      "[CV]  colsample_bytree=0.9, learning_rate=0.05, n_estimators=300, subsample=0.975, seed=1126, max_depth=6, score=0.827862 -  28.5s\n",
      "[CV] colsample_bytree=0.9, learning_rate=0.05, n_estimators=300, subsample=0.975, seed=1126, max_depth=6 \n",
      "[CV]  colsample_bytree=0.9, learning_rate=0.05, n_estimators=300, subsample=0.975, seed=1126, max_depth=6, score=0.832648 -  28.5s\n",
      "[CV] colsample_bytree=0.9, learning_rate=0.05, n_estimators=300, subsample=0.975, seed=1126, max_depth=6 \n",
      "[CV]  colsample_bytree=0.9, learning_rate=0.05, n_estimators=300, subsample=0.975, seed=1126, max_depth=6, score=0.841741 -  28.4s\n",
      "[CV] colsample_bytree=0.9, learning_rate=0.05, n_estimators=400, subsample=0.9, seed=1126, max_depth=6 \n",
      "[CV]  colsample_bytree=0.9, learning_rate=0.05, n_estimators=400, subsample=0.9, seed=1126, max_depth=6, score=0.827325 -  40.0s\n",
      "[CV] colsample_bytree=0.9, learning_rate=0.05, n_estimators=400, subsample=0.9, seed=1126, max_depth=6 \n",
      "[CV]  colsample_bytree=0.9, learning_rate=0.05, n_estimators=400, subsample=0.9, seed=1126, max_depth=6, score=0.828509 -  40.4s\n",
      "[CV] colsample_bytree=0.9, learning_rate=0.05, n_estimators=400, subsample=0.9, seed=1126, max_depth=6 \n",
      "[CV]  colsample_bytree=0.9, learning_rate=0.05, n_estimators=400, subsample=0.9, seed=1126, max_depth=6, score=0.838954 -  40.9s\n",
      "[CV] colsample_bytree=0.9, learning_rate=0.05, n_estimators=400, subsample=0.925, seed=1126, max_depth=6 \n",
      "[CV]  colsample_bytree=0.9, learning_rate=0.05, n_estimators=400, subsample=0.925, seed=1126, max_depth=6, score=0.826795 -  38.6s\n",
      "[CV] colsample_bytree=0.9, learning_rate=0.05, n_estimators=400, subsample=0.925, seed=1126, max_depth=6 \n",
      "[CV]  colsample_bytree=0.9, learning_rate=0.05, n_estimators=400, subsample=0.925, seed=1126, max_depth=6, score=0.828152 -  38.9s\n",
      "[CV] colsample_bytree=0.9, learning_rate=0.05, n_estimators=400, subsample=0.925, seed=1126, max_depth=6 \n",
      "[CV]  colsample_bytree=0.9, learning_rate=0.05, n_estimators=400, subsample=0.925, seed=1126, max_depth=6, score=0.840755 -  38.9s\n",
      "[CV] colsample_bytree=0.9, learning_rate=0.05, n_estimators=400, subsample=0.95, seed=1126, max_depth=6 \n",
      "[CV]  colsample_bytree=0.9, learning_rate=0.05, n_estimators=400, subsample=0.95, seed=1126, max_depth=6, score=0.826982 -  38.1s\n",
      "[CV] colsample_bytree=0.9, learning_rate=0.05, n_estimators=400, subsample=0.95, seed=1126, max_depth=6 \n",
      "[CV]  colsample_bytree=0.9, learning_rate=0.05, n_estimators=400, subsample=0.95, seed=1126, max_depth=6, score=0.827827 -  38.3s\n",
      "[CV] colsample_bytree=0.9, learning_rate=0.05, n_estimators=400, subsample=0.95, seed=1126, max_depth=6 \n",
      "[CV]  colsample_bytree=0.9, learning_rate=0.05, n_estimators=400, subsample=0.95, seed=1126, max_depth=6, score=0.839837 -  38.4s\n",
      "[CV] colsample_bytree=0.9, learning_rate=0.05, n_estimators=400, subsample=0.975, seed=1126, max_depth=6 \n",
      "[CV]  colsample_bytree=0.9, learning_rate=0.05, n_estimators=400, subsample=0.975, seed=1126, max_depth=6, score=0.825798 -  38.0s\n",
      "[CV] colsample_bytree=0.9, learning_rate=0.05, n_estimators=400, subsample=0.975, seed=1126, max_depth=6 \n",
      "[CV]  colsample_bytree=0.9, learning_rate=0.05, n_estimators=400, subsample=0.975, seed=1126, max_depth=6, score=0.829990 -  38.0s\n",
      "[CV] colsample_bytree=0.9, learning_rate=0.05, n_estimators=400, subsample=0.975, seed=1126, max_depth=6 \n",
      "[CV]  colsample_bytree=0.9, learning_rate=0.05, n_estimators=400, subsample=0.975, seed=1126, max_depth=6, score=0.839344 -  37.9s\n"
     ]
    },
    {
     "name": "stderr",
     "output_type": "stream",
     "text": [
      "[Parallel(n_jobs=1)]: Done 511 tasks       | elapsed: 233.7min\n",
      "[Parallel(n_jobs=1)]: Done 540 out of 540 | elapsed: 248.9min finished\n"
     ]
    },
    {
     "data": {
      "text/plain": [
       "GridSearchCV(cv=sklearn.cross_validation.StratifiedKFold(labels=[0 0 ..., 0 0], n_folds=3, shuffle=False, random_state=None),\n",
       "       error_score='raise',\n",
       "       estimator=XGBClassifier(base_score=0.5, colsample_bylevel=1, colsample_bytree=1,\n",
       "       gamma=0, learning_rate=0.1, max_delta_step=0, max_depth=3,\n",
       "       min_child_weight=1, missing=None, n_estimators=100, nthread=-1,\n",
       "       objective='binary:logistic', reg_alpha=0, reg_lambda=1,\n",
       "       scale_pos_weight=1, seed=0, silent=True, subsample=1),\n",
       "       fit_params={}, iid=True, n_jobs=1,\n",
       "       param_grid={'colsample_bytree': [0.8, 0.825, 0.85, 0.875, 0.9], 'learning_rate': [0.05], 'n_estimators': [200, 300, 400], 'subsample': [0.9, 0.925, 0.95, 0.975], 'seed': [1126], 'max_depth': [4, 5, 6]},\n",
       "       pre_dispatch='2*n_jobs', refit=True, scoring='roc_auc', verbose=10)"
      ]
     },
     "execution_count": 25,
     "metadata": {},
     "output_type": "execute_result"
    }
   ],
   "source": [
    "grid.fit(x_sel, y)"
   ]
  },
  {
   "cell_type": "code",
   "execution_count": 26,
   "metadata": {
    "collapsed": true
   },
   "outputs": [
    {
     "data": {
      "text/plain": [
       "{'colsample_bytree': 0.875,\n",
       " 'learning_rate': 0.05,\n",
       " 'max_depth': 4,\n",
       " 'n_estimators': 200,\n",
       " 'seed': 1126,\n",
       " 'subsample': 0.975}"
      ]
     },
     "execution_count": 26,
     "metadata": {},
     "output_type": "execute_result"
    }
   ],
   "source": [
    "best_clf = grid.best_estimator_\n",
    "print grid.best_params_"
   ]
  },
  {
   "cell_type": "code",
   "execution_count": 34,
   "metadata": {
    "collapsed": false
   },
   "outputs": [
    {
     "name": "stdout",
     "output_type": "stream",
     "text": [
      "Auc: 0.839 (+/- 0.006)\n"
     ]
    }
   ],
   "source": [
    "cv = cross_validation.StratifiedKFold(y, n_folds=4, shuffle=True)\n",
    "scores = cross_validation.cross_val_score(best_clf, x_sel, y, cv=cv, scoring='roc_auc')\n",
    "print(\"Auc: %0.3f (+/- %0.3f)\" % (scores.mean(), scores.std()))"
   ]
  },
  {
   "cell_type": "markdown",
   "metadata": {},
   "source": [
    "### Early Stopping"
   ]
  },
  {
   "cell_type": "code",
   "execution_count": 56,
   "metadata": {
    "collapsed": true
   },
   "outputs": [],
   "source": [
    "x_train, x_test, y_train, y_test = cross_validation.train_test_split(x_sel, y, random_state=1125, stratify=y, test_size=0.3)"
   ]
  },
  {
   "cell_type": "code",
   "execution_count": 57,
   "metadata": {
    "collapsed": false,
    "scrolled": true
   },
   "outputs": [
    {
     "data": {
      "text/plain": [
       "XGBClassifier(base_score=0.5, colsample_bylevel=1, colsample_bytree=0.875,\n",
       "       gamma=0, learning_rate=0.05, max_delta_step=0, max_depth=4,\n",
       "       min_child_weight=1, missing=None, n_estimators=200, nthread=-1,\n",
       "       objective='binary:logistic', reg_alpha=0, reg_lambda=1,\n",
       "       scale_pos_weight=1, seed=1126, silent=True, subsample=0.975)"
      ]
     },
     "execution_count": 57,
     "metadata": {},
     "output_type": "execute_result"
    }
   ],
   "source": [
    "best_clf.fit(x_train, y_train, early_stopping_rounds=25, eval_metric=\"auc\", eval_set=[(x_test, y_test)], verbose=True)"
   ]
  },
  {
   "cell_type": "markdown",
   "metadata": {},
   "source": [
    "### Fuck"
   ]
  },
  {
   "cell_type": "code",
   "execution_count": 60,
   "metadata": {
    "collapsed": false
   },
   "outputs": [
    {
     "name": "stdout",
     "output_type": "stream",
     "text": [
      "{'colsample_bytree': 0.875, 'learning_rate': 0.05, 'n_estimators': 200, 'subsample': 0.975, 'seed': 1126, 'max_depth': 4}\n"
     ]
    }
   ],
   "source": [
    "print grid.best_params_"
   ]
  },
  {
   "cell_type": "code",
   "execution_count": 72,
   "metadata": {
    "collapsed": true
   },
   "outputs": [],
   "source": [
    "clf = xgb.XGBClassifier(\n",
    "                max_depth = 4,\n",
    "                n_estimators=200,\n",
    "                learning_rate=0.045, \n",
    "                nthread=4,\n",
    "                subsample=0.975,\n",
    "                colsample_bytree=0.875, \n",
    "                seed=1126\n",
    ")"
   ]
  },
  {
   "cell_type": "code",
   "execution_count": 73,
   "metadata": {
    "collapsed": false
   },
   "outputs": [
    {
     "data": {
      "text/plain": [
       "XGBClassifier(base_score=0.5, colsample_bylevel=1, colsample_bytree=0.875,\n",
       "       gamma=0, learning_rate=0.045, max_delta_step=0, max_depth=4,\n",
       "       min_child_weight=1, missing=None, n_estimators=200, nthread=4,\n",
       "       objective='binary:logistic', reg_alpha=0, reg_lambda=1,\n",
       "       scale_pos_weight=1, seed=1126, silent=True, subsample=0.975)"
      ]
     },
     "execution_count": 73,
     "metadata": {},
     "output_type": "execute_result"
    }
   ],
   "source": [
    "clf.fit(x_train, y_train, early_stopping_rounds=30, eval_metric=\"auc\", eval_set=[(x_test, y_test)], verbose=True)"
   ]
  },
  {
   "cell_type": "code",
   "execution_count": 58,
   "metadata": {
    "collapsed": true
   },
   "outputs": [],
   "source": [
    "test = pd.read_csv(zipfile.ZipFile('test.csv.zip').open('test.csv'))\n",
    "sel_test = selectK.transform(test)    \n",
    "y_pred = best_clf.predict_proba(sel_test)"
   ]
  },
  {
   "cell_type": "code",
   "execution_count": 59,
   "metadata": {
    "collapsed": true
   },
   "outputs": [],
   "source": [
    "submission = pd.DataFrame({\"ID\":test.ID, \"TARGET\":y_pred[:,1]})\n",
    "submission.to_csv(\"submission.csv\", index=False)"
   ]
  },
  {
   "cell_type": "markdown",
   "metadata": {},
   "source": [
    "## Grid Search #4"
   ]
  },
  {
   "cell_type": "code",
   "execution_count": null,
   "metadata": {
    "collapsed": true
   },
   "outputs": [],
   "source": [
    "clf = xgb.XGBClassifier()\n",
    "xgb_params = {\n",
    "    'learning_rate': [0.040, 0.045, 0.050, 0.055, 0.060],\n",
    "    'n_estimators': [175, 200, 225, 250],\n",
    "    'max_depth': [4],\n",
    "    'subsample': [0.975, 0.980, 0.985, 0.990],\n",
    "    'colsample_bytree': [0.8625, 0.875, 0.8875],\n",
    "    'seed': [1027]\n",
    "}\n",
    "cv = cross_validation.StratifiedKFold(y)\n",
    "grid = GridSearchCV(clf, xgb_params, scoring='roc_auc', cv=cv, verbose=True, n_jobs=-1)"
   ]
  }
 ],
 "metadata": {
  "kernelspec": {
   "display_name": "Python 2",
   "language": "python",
   "name": "python2"
  },
  "language_info": {
   "codemirror_mode": {
    "name": "ipython",
    "version": 2
   },
   "file_extension": ".py",
   "mimetype": "text/x-python",
   "name": "python",
   "nbconvert_exporter": "python",
   "pygments_lexer": "ipython2",
   "version": "2.7.11"
  }
 },
 "nbformat": 4,
 "nbformat_minor": 0
}
